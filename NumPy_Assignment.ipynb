{
  "nbformat": 4,
  "nbformat_minor": 0,
  "metadata": {
    "colab": {
      "provenance": [],
      "authorship_tag": "ABX9TyOEG/8aYq6g68ci5BNitu7V",
      "include_colab_link": true
    },
    "kernelspec": {
      "name": "python3",
      "display_name": "Python 3"
    },
    "language_info": {
      "name": "python"
    }
  },
  "cells": [
    {
      "cell_type": "markdown",
      "metadata": {
        "id": "view-in-github",
        "colab_type": "text"
      },
      "source": [
        "<a href=\"https://colab.research.google.com/github/HEMALATHA-jpg/function/blob/main/NumPy_Assignment.ipynb\" target=\"_parent\"><img src=\"https://colab.research.google.com/assets/colab-badge.svg\" alt=\"Open In Colab\"/></a>"
      ]
    },
    {
      "cell_type": "code",
      "execution_count": null,
      "metadata": {
        "id": "6M8ajp3Be5iX"
      },
      "outputs": [],
      "source": []
    },
    {
      "cell_type": "markdown",
      "source": [
        "Q1. Explain the purpose and advantages of NumPy in scientific computing and data analysis. How does it\n",
        "enhance Python's capabilities for numerical operations?"
      ],
      "metadata": {
        "id": "786G1rxZjhbi"
      }
    },
    {
      "cell_type": "markdown",
      "source": [
        "ANS--> NumPy (Numerical Python) is a powerful library in Python, widely used in scientific computing and data analysis. It significantly enhances Python's capabilities for numerical operations by providing support for large, multi-dimensional arrays and matrices, along with a vast collection of mathematical functions to operate on these arrays efficiently. Here’s an overview of its purpose and advantages:\n",
        "\n",
        "Purpose of NumPy\n",
        "\n",
        "1. Efficient Numerical Computation: NumPy is designed to perform fast array-based calculations. It provides high-performance tools to work with large datasets, making it essential for tasks like matrix manipulation, numerical simulations, and statistical analysis.\n",
        "\n",
        "2. Foundation for Other Libraries: NumPy serves as the backbone for other scientific libraries like SciPy, pandas, and TensorFlow. These libraries depend on NumPy's data structures and functions for numerical operations.\n",
        "\n",
        "3. Mathematical Functions: It provides a wide array of mathematical functions, from basic arithmetic to complex linear algebra, Fourier transformations, and random number generation.\n",
        "\n",
        "Advantages of NumPy\n",
        "\n",
        "1. Performance and Speed:\n",
        "\n",
        "* Vectorization: NumPy supports vectorized operations, which means that mathematical operations are performed on entire arrays rather than individual elements. This avoids Python loops, reducing execution time significantly.\n",
        "\n",
        "* Optimized C/Fortran Backend: NumPy is written in C, allowing operations to be executed at the same speed as in low-level languages like C or Fortran, making it much faster than native Python operations.\n",
        "\n",
        "2. Memory Efficiency:\n",
        "\n",
        "* NumPy arrays use less memory compared to traditional Python lists. This is because they store elements of the same data type, ensuring more compact storage.\n",
        "\n",
        "3. Multi-dimensional Arrays:\n",
        "\n",
        "* NumPy introduces the ndarray (N-dimensional array) object, which supports multi-dimensional arrays of arbitrary sizes. It allows for efficient storage and computation of large datasets in multiple dimensions.\n",
        "\n",
        "4. Broadcasting:\n",
        "\n",
        "* Broadcasting allows NumPy to perform operations on arrays of different shapes. This feature makes operations like element-wise arithmetic between arrays of differing dimensions possible, without needing explicit loops or size alignment.\n",
        "\n",
        "5. Integration with Other Tools:\n",
        "\n",
        "* NumPy integrates well with other scientific computing tools, making it a versatile choice in the Python ecosystem. It can easily exchange data with libraries like pandas (for data analysis), Matplotlib (for plotting), and SciPy (for more advanced mathematical computations).\n",
        "\n",
        "6. Cross-language Support:\n",
        "\n",
        "* NumPy provides tools to interface with C, C++, and Fortran code, making it possible to leverage existing high-performance libraries written in these languages.\n",
        "\n",
        "7. Convenience and Readability:\n",
        "\n",
        "* The array manipulation features of NumPy simplify complex operations. Tasks like reshaping, slicing, and aggregating arrays are made more intuitive and concise, leading to more readable and maintainable code.\n",
        "\n",
        "Enhancements to Python's Numerical Capabilities\n",
        "\n",
        "Without NumPy, Python lacks built-in support for large, efficient numerical arrays and advanced mathematical functions. Python’s native data structures (e.g., lists) are not well-suited for scientific computing due to their flexibility and overhead. NumPy provides:\n",
        "\n",
        "* Efficient computation with multi-dimensional arrays (e.g., for linear algebra).\n",
        "* High-level mathematical abstractions for matrix operations, numerical algorithms, and array manipulations.\n",
        "* Seamless data processing for large datasets, which would otherwise be slow and cumbersome with native Python structures.\n",
        "\n",
        "In summary, NumPy is critical in scientific computing and data analysis because it brings high performance, memory efficiency, and an extensive suite of mathematical tools to Python. It simplifies numerical operations, enabling users to work on large-scale data and complex mathematical tasks with ease and speed."
      ],
      "metadata": {
        "id": "j3pLhPMUkGt_"
      }
    },
    {
      "cell_type": "markdown",
      "source": [
        "Q2. Compare and contrast np.mean() and np.average() functions in NumPy. When would you use one over the\n",
        "other?"
      ],
      "metadata": {
        "id": "4bGwfvqqkG3n"
      }
    },
    {
      "cell_type": "markdown",
      "source": [
        "ANS--> Both np.mean() and np.average() are used to compute the central tendency of an array in NumPy, but they have some differences in functionality and use cases. Let's explore the similarities, differences, and when one might be preferable over the other.\n",
        "\n",
        "1. np.mean()\n",
        "The np.mean() function calculates the arithmetic mean (average) of the elements along the specified axis or of the entire array if no axis is specified.\n",
        "\n",
        "Syntax:\n",
        "numpy.mean(a, axis=None, dtype=None, out=None, keepdims=<no value>)\n",
        "\n",
        "Key Features:\n",
        "* Basic Mean Calculation: It computes the sum of the elements divided by the number of elements.\n",
        "* No Weights: It does not support weighting; each element in the array has an equal contribution to the mean.\n",
        "* Axes Support: You can specify the axis along which to compute the mean in a multi-dimensional array. By default, it computes the mean of all the elements in the array."
      ],
      "metadata": {
        "id": "zoV03GchkG7g"
      }
    },
    {
      "cell_type": "code",
      "source": [
        "import numpy as np\n",
        "\n",
        "a = np.array([1, 2, 3, 4])\n",
        "mean_val = np.mean(a)\n",
        "print(mean_val)\n"
      ],
      "metadata": {
        "colab": {
          "base_uri": "https://localhost:8080/"
        },
        "id": "yTddaef6pGq8",
        "outputId": "455282a2-259d-4517-bb11-571fc3cef73d"
      },
      "execution_count": 2,
      "outputs": [
        {
          "output_type": "stream",
          "name": "stdout",
          "text": [
            "2.5\n"
          ]
        }
      ]
    },
    {
      "cell_type": "markdown",
      "source": [
        "2. np.average()\n",
        "The np.average() function computes the weighted average of the array elements. It allows you to specify weights for the elements, making it more flexible than np.mean().\n",
        "\n",
        "Syntax:\n",
        "numpy.average(a, axis=None, weights=None, returned=False)\n",
        "\n",
        "Key Features:\n",
        "* Weighted Average: It allows specifying an array of weights. The weights determine how much each element contributes to the overall average.\n",
        "* Standard Average (if no weights): If no weights are provided, np.average() behaves exactly like np.mean(), returning the arithmetic mean.\n",
        "* Returned Sum of Weights: If returned=True, the function also returns the sum of the weights.\n",
        "* Axes Support: Like np.mean(), you can compute the average along specific axes in multi-dimensional arrays."
      ],
      "metadata": {
        "id": "YavN0BWopZvZ"
      }
    },
    {
      "cell_type": "code",
      "source": [
        "import numpy as np\n",
        "\n",
        "a = np.array([1, 2, 3, 4])\n",
        "weights = np.array([1, 1, 1, 2])  # Weight the last element more heavily\n",
        "average_val = np.average(a, weights=weights)\n",
        "print(average_val)\n"
      ],
      "metadata": {
        "colab": {
          "base_uri": "https://localhost:8080/"
        },
        "id": "BgWzw2Wlo7EN",
        "outputId": "a2066244-714e-459e-891d-a2e85bb54d34"
      },
      "execution_count": 3,
      "outputs": [
        {
          "output_type": "stream",
          "name": "stdout",
          "text": [
            "2.8\n"
          ]
        }
      ]
    },
    {
      "cell_type": "markdown",
      "source": [
        "Which to Use and When?\n",
        "* Use np.mean() if you want a straightforward average with equal weight for all elements. It is ideal when you're simply trying to summarize the data by its central tendency.\n",
        "\n",
        "* Use np.average() when you need to apply weights to your data, especially if different elements carry varying levels of importance. For example:\n",
        "\n",
        "* In physics, when calculating a center of mass, different components might have different weights (mass).\n",
        "* In finance, you might calculate weighted averages based on different financial instruments’ volumes or weights."
      ],
      "metadata": {
        "id": "F23KeT1EqOXg"
      }
    },
    {
      "cell_type": "markdown",
      "source": [
        "Q3. Describe the methods for reversing a NumPy array along different axes. Provide examples for 1D and 2D\n",
        "arrays.\n",
        "ANS--> In NumPy, you can reverse an array along different axes using various methods. This can be done for both 1D and multi-dimensional arrays like 2D arrays. Let's explore how to reverse arrays along specific axes.\n",
        "\n",
        "Reversing a 1D Array\n",
        "A 1D array is essentially a single-dimensional list of elements. Reversing it means flipping the order of the elements.\n",
        "\n",
        "Method 1: Using Slicing ([::-1])\n",
        "\n",
        "You can reverse a 1D NumPy array by slicing it with [::-1]. This method is simple and efficient.\n",
        "\n",
        "Example:"
      ],
      "metadata": {
        "id": "43B6itsakHLI"
      }
    },
    {
      "cell_type": "code",
      "source": [
        "import numpy as np\n",
        "\n",
        "arr_1d = np.array([1, 2, 3, 4, 5])\n",
        "reversed_arr_1d = arr_1d[::-1]\n",
        "print(reversed_arr_1d)"
      ],
      "metadata": {
        "colab": {
          "base_uri": "https://localhost:8080/"
        },
        "id": "1Vg5FFvKkETE",
        "outputId": "4d7aca54-eded-466d-eb93-9900db55933a"
      },
      "execution_count": 4,
      "outputs": [
        {
          "output_type": "stream",
          "name": "stdout",
          "text": [
            "[5 4 3 2 1]\n"
          ]
        }
      ]
    },
    {
      "cell_type": "markdown",
      "source": [
        "Method 2: Using np.flip()\n",
        "np.flip() is a built-in NumPy function that reverses an array along a specified axis. For a 1D array, it works the same as slicing."
      ],
      "metadata": {
        "id": "-OXv6Zsyq4Q3"
      }
    },
    {
      "cell_type": "code",
      "source": [
        "reversed_arr_1d = np.flip(arr_1d)\n",
        "print(reversed_arr_1d)\n"
      ],
      "metadata": {
        "colab": {
          "base_uri": "https://localhost:8080/"
        },
        "id": "Jr0KbkzGrASX",
        "outputId": "38782e17-d46a-416a-c8c0-8675c91c6f9c"
      },
      "execution_count": 5,
      "outputs": [
        {
          "output_type": "stream",
          "name": "stdout",
          "text": [
            "[5 4 3 2 1]\n"
          ]
        }
      ]
    },
    {
      "cell_type": "markdown",
      "source": [
        "Reversing a 2D Array\n",
        "For 2D arrays, you can reverse the elements along different axes: either rows, columns, or both.\n",
        "\n",
        "Method 1: Using Slicing ([::-1])\n",
        "\n",
        "* Reverse Rows: To reverse the rows, you can use slicing along the first axis (axis=0).\n",
        "* Reverse Columns: To reverse the columns, you can use slicing along the second axis (axis=1).\n",
        "* Reverse Both Rows and Columns: You can combine slicing along both axes to flip both rows and columns.\n",
        "\n",
        "Example 1: Reverse Rows (axis=0)"
      ],
      "metadata": {
        "id": "iGGkuzmqrEVM"
      }
    },
    {
      "cell_type": "code",
      "source": [
        "arr_2d = np.array([[1, 2, 3], [4, 5, 6], [7, 8, 9]])\n",
        "reversed_rows = arr_2d[::-1, :]\n",
        "print(reversed_rows)\n"
      ],
      "metadata": {
        "colab": {
          "base_uri": "https://localhost:8080/"
        },
        "id": "QCZevaDerOw1",
        "outputId": "350fc3bb-f2a0-487c-819b-d8ba39bc1ccd"
      },
      "execution_count": 6,
      "outputs": [
        {
          "output_type": "stream",
          "name": "stdout",
          "text": [
            "[[7 8 9]\n",
            " [4 5 6]\n",
            " [1 2 3]]\n"
          ]
        }
      ]
    },
    {
      "cell_type": "markdown",
      "source": [
        "Example 2: Reverse Columns (axis=1)"
      ],
      "metadata": {
        "id": "OvL7rETxrVUM"
      }
    },
    {
      "cell_type": "code",
      "source": [
        "reversed_columns = arr_2d[:, ::-1]\n",
        "print(reversed_columns)"
      ],
      "metadata": {
        "colab": {
          "base_uri": "https://localhost:8080/"
        },
        "id": "qWakB1iPrT9N",
        "outputId": "786fa074-5a22-421c-c206-4618a34a3095"
      },
      "execution_count": 7,
      "outputs": [
        {
          "output_type": "stream",
          "name": "stdout",
          "text": [
            "[[3 2 1]\n",
            " [6 5 4]\n",
            " [9 8 7]]\n"
          ]
        }
      ]
    },
    {
      "cell_type": "markdown",
      "source": [
        "Example 3: Reverse Both Rows and Columns"
      ],
      "metadata": {
        "id": "LRpmmSHvrdTs"
      }
    },
    {
      "cell_type": "code",
      "source": [
        "reversed_both = arr_2d[::-1, ::-1]\n",
        "print(reversed_both)"
      ],
      "metadata": {
        "colab": {
          "base_uri": "https://localhost:8080/"
        },
        "id": "YDXV8IeLrfuu",
        "outputId": "1c194c23-9abb-4c79-f599-4b59dfdd7ea2"
      },
      "execution_count": 8,
      "outputs": [
        {
          "output_type": "stream",
          "name": "stdout",
          "text": [
            "[[9 8 7]\n",
            " [6 5 4]\n",
            " [3 2 1]]\n"
          ]
        }
      ]
    },
    {
      "cell_type": "markdown",
      "source": [
        "Method 2: Using np.flip()\n",
        "\n",
        "np.flip() allows you to reverse the array along any axis by specifying the axis parameter. You can also flip along multiple axes at once.\n",
        "\n",
        "Example 1: Reverse Rows (axis=0)"
      ],
      "metadata": {
        "id": "itF7WTc0rkEk"
      }
    },
    {
      "cell_type": "code",
      "source": [
        "reversed_rows = np.flip(arr_2d, axis=0)\n",
        "print(reversed_rows)\n"
      ],
      "metadata": {
        "colab": {
          "base_uri": "https://localhost:8080/"
        },
        "id": "iW6zpbqIrs7k",
        "outputId": "11bd5dce-f210-4531-8d53-85093be147b5"
      },
      "execution_count": 9,
      "outputs": [
        {
          "output_type": "stream",
          "name": "stdout",
          "text": [
            "[[7 8 9]\n",
            " [4 5 6]\n",
            " [1 2 3]]\n"
          ]
        }
      ]
    },
    {
      "cell_type": "markdown",
      "source": [
        "Example 2: Reverse Columns (axis=1)"
      ],
      "metadata": {
        "id": "ulK_fjjcr0Is"
      }
    },
    {
      "cell_type": "code",
      "source": [
        "reversed_columns = np.flip(arr_2d, axis=1)\n",
        "print(reversed_columns)"
      ],
      "metadata": {
        "colab": {
          "base_uri": "https://localhost:8080/"
        },
        "id": "pnQY5P5ir2mT",
        "outputId": "eebae015-92a9-4afd-d670-d2ed8f65b1ed"
      },
      "execution_count": 10,
      "outputs": [
        {
          "output_type": "stream",
          "name": "stdout",
          "text": [
            "[[3 2 1]\n",
            " [6 5 4]\n",
            " [9 8 7]]\n"
          ]
        }
      ]
    },
    {
      "cell_type": "markdown",
      "source": [
        "Example 3: Reverse Both Rows and Columns\n",
        "\n",
        "To reverse both axes at once, you can pass None or a tuple of axes to np.flip()."
      ],
      "metadata": {
        "id": "U4wszUrGr5k7"
      }
    },
    {
      "cell_type": "code",
      "source": [
        "reversed_both = np.flip(arr_2d, axis=(0, 1))\n",
        "print(reversed_both)"
      ],
      "metadata": {
        "colab": {
          "base_uri": "https://localhost:8080/"
        },
        "id": "KXCYZ0Hlr-Y7",
        "outputId": "880000fe-03a4-4ffb-d4fb-ed13f1e38b02"
      },
      "execution_count": 11,
      "outputs": [
        {
          "output_type": "stream",
          "name": "stdout",
          "text": [
            "[[9 8 7]\n",
            " [6 5 4]\n",
            " [3 2 1]]\n"
          ]
        }
      ]
    },
    {
      "cell_type": "markdown",
      "source": [
        "Summary of Methods\n",
        "1. Slicing ([::-1]):\n",
        "\n",
        "* Simple, efficient, and works for both 1D and multi-dimensional arrays.\n",
        "* Reverses the array along any axis by manipulating the index ranges.\n",
        "\n",
        "2. np.flip() function:\n",
        "\n",
        "* Built-in function for reversing along specific axes.\n",
        "* Works for 1D, 2D, and higher-dimensional arrays."
      ],
      "metadata": {
        "id": "MDP-bf5csE38"
      }
    },
    {
      "cell_type": "markdown",
      "source": [
        "Q4. How can you determine the data type of elements in a NumPy array? Discuss the importance of data types\n",
        "in memory management and performance.\n",
        "ANS--> the data type of elements in a NumPy array using its dtype attribute. NumPy arrays store elements in a uniform, fixed-size data type, which ensures efficient memory usage and faster computations.\n",
        "\n",
        "* Determining the Data Type in NumPy\n",
        "\n",
        "To check the data type of elements in a NumPy array, you use the dtype attribute. Here's an example:\n",
        "\n",
        "Example:"
      ],
      "metadata": {
        "id": "ZQY9Hvi9sPbr"
      }
    },
    {
      "cell_type": "code",
      "source": [
        "import numpy as np\n",
        "\n",
        "# Creating a NumPy array\n",
        "arr = np.array([1, 2, 3])\n",
        "\n",
        "# Checking the data type of elements in the array\n",
        "print(arr.dtype)\n",
        "\n",
        "arr_float = np.array([1, 2, 3], dtype=float)\n",
        "print(arr_float.dtype)"
      ],
      "metadata": {
        "colab": {
          "base_uri": "https://localhost:8080/"
        },
        "id": "fBsJn5VpsuOb",
        "outputId": "a4b3c06d-aca9-49bb-b841-625f831dc358"
      },
      "execution_count": 13,
      "outputs": [
        {
          "output_type": "stream",
          "name": "stdout",
          "text": [
            "int64\n",
            "float64\n"
          ]
        }
      ]
    },
    {
      "cell_type": "markdown",
      "source": [
        "Importance of Data Types in NumPy\n",
        "1. Memory Management\n",
        "Efficient Memory Usage:\n",
        "* NumPy arrays are designed to use less memory by storing elements in a uniform, fixed-size data type. Unlike Python's built-in lists, where elements can have different types and sizes, NumPy arrays store all elements of the same type, leading to better memory efficiency.\n",
        "* Example: A NumPy array of integers (int32) will use 32 bits (4 bytes) per element, whereas a Python list might have significant overhead per element due to its dynamic typing.\n",
        "* Control over Memory Footprint: The ability to specify the data type (e.g., int8, int16, float32, etc.) allows you to manage memory based on the size of the data. For large datasets, this can result in substantial memory savings.\n",
        "\n",
        "Example of Memory Efficiency:"
      ],
      "metadata": {
        "id": "OPNrdvqas_Ub"
      }
    },
    {
      "cell_type": "code",
      "source": [
        "arr_int8 = np.array([1, 2, 3], dtype=np.int8)\n",
        "arr_int32 = np.array([1, 2, 3], dtype=np.int32)\n",
        "\n",
        "print(arr_int8.nbytes)\n",
        "print(arr_int32.nbytes)"
      ],
      "metadata": {
        "colab": {
          "base_uri": "https://localhost:8080/"
        },
        "id": "xQ5sHfqntPXh",
        "outputId": "b340ada8-0c55-45e2-a36b-4a689d7d208e"
      },
      "execution_count": 14,
      "outputs": [
        {
          "output_type": "stream",
          "name": "stdout",
          "text": [
            "3\n",
            "12\n"
          ]
        }
      ]
    },
    {
      "cell_type": "markdown",
      "source": [
        "2. Performance\n",
        "* Faster Computation: NumPy leverages lower-level languages (like C and Fortran) for array operations, which benefit from the fixed-size data types. This makes operations like addition, multiplication, and broadcasting much faster compared to native Python operations.\n",
        "* Vectorization: Because NumPy arrays are fixed-type and contiguous in memory, they can take advantage of vectorized operations. This allows multiple operations to be performed in parallel, making numerical computation highly efficient.\n",
        "* Avoiding Type Conversion Overhead: When performing operations, having consistent data types reduces the need for implicit type conversion, which can slow down performance. For instance, if you mix int32 and float64, NumPy will have to promote int32 to float64, which incurs additional computational cost.\n",
        "\n",
        "Example of Performance:"
      ],
      "metadata": {
        "id": "jrbYsbRztLDK"
      }
    },
    {
      "cell_type": "code",
      "source": [
        "import time\n",
        "\n",
        "# Large NumPy array of integers\n",
        "arr_large_int32 = np.arange(1_000_000, dtype=np.int32)\n",
        "\n",
        "# Large NumPy array of floats\n",
        "arr_large_float64 = np.arange(1_000_000, dtype=np.float64)\n",
        "\n",
        "# Timing addition for int32\n",
        "start = time.time()\n",
        "result_int32 = arr_large_int32 + arr_large_int32\n",
        "print(\"Time for int32 addition:\", time.time() - start)\n",
        "\n",
        "# Timing addition for float64\n",
        "start = time.time()\n",
        "result_float64 = arr_large_float64 + arr_large_float64\n",
        "print(\"Time for float64 addition:\", time.time() - start)\n"
      ],
      "metadata": {
        "colab": {
          "base_uri": "https://localhost:8080/"
        },
        "id": "OWpgW5-7tdMx",
        "outputId": "b4db8d57-212e-4ca0-bfc7-2097f4c7bb3e"
      },
      "execution_count": 15,
      "outputs": [
        {
          "output_type": "stream",
          "name": "stdout",
          "text": [
            "Time for int32 addition: 0.003894329071044922\n",
            "Time for float64 addition: 0.005199432373046875\n"
          ]
        }
      ]
    },
    {
      "cell_type": "markdown",
      "source": [
        "Common Data Types in NumPy\n",
        "NumPy supports several data types, including:\n",
        "\n",
        "* Integer types: int8, int16, int32, int64\n",
        "* Unsigned integers: uint8, uint16, uint32, uint64\n",
        "* Floating point: float16, float32, float64\n",
        "* Complex numbers: complex64, complex128\n",
        "* Boolean: bool\n",
        "* Object: object (used for storing Python objects)\n",
        "\n",
        "Each of these types affects the amount of memory used per element and the precision of calculations."
      ],
      "metadata": {
        "id": "8VaGuT8QttIz"
      }
    },
    {
      "cell_type": "markdown",
      "source": [
        "Q5. Define ndarrays in NumPy and explain their key features. How do they differ from standard Python lists?\n",
        "ANS--> n NumPy, an ndarray (N-dimensional array) is the core data structure used for representing arrays of fixed sizes, containing elements of the same data type. Unlike Python lists, ndarrays are optimized for efficient computation and memory management, making them ideal for scientific computing and data analysis.\n",
        "\n",
        "Definition of ndarray\n",
        "\n",
        "An ndarray is a multidimensional, homogeneous array of fixed-size items. All elements in the array have the same data type, and each element occupies the same amount of memory. These arrays are highly efficient and support advanced mathematical operations.\n",
        "\n",
        "Creating an ndarray:\n",
        "create an ndarray using the np.array() function in NumPy."
      ],
      "metadata": {
        "id": "Wc3u7MVmt0Wb"
      }
    },
    {
      "cell_type": "code",
      "source": [
        "import numpy as np\n",
        "\n",
        "# Creating a 1D ndarray\n",
        "arr_1d = np.array([1, 2, 3])\n",
        "\n",
        "# Creating a 2D ndarray\n",
        "arr_2d = np.array([[1, 2, 3], [4, 5, 6]])\n",
        "\n",
        "print(arr_1d)\n",
        "print(arr_2d)"
      ],
      "metadata": {
        "colab": {
          "base_uri": "https://localhost:8080/"
        },
        "id": "xcSUInd0usMA",
        "outputId": "971f5770-6f00-4516-a225-84377abb556a"
      },
      "execution_count": 16,
      "outputs": [
        {
          "output_type": "stream",
          "name": "stdout",
          "text": [
            "[1 2 3]\n",
            "[[1 2 3]\n",
            " [4 5 6]]\n"
          ]
        }
      ]
    },
    {
      "cell_type": "markdown",
      "source": [
        "Key Features of ndarray:\n",
        "\n",
        "1. Homogeneous Data Types:\n",
        "\n",
        "* All elements in an ndarray must have the same data type (dtype). This uniformity ensures that the array is stored efficiently in memory, reducing overhead.\n",
        "* explicitly specify the data type when creating an array."
      ],
      "metadata": {
        "id": "baXjGizIuzHH"
      }
    },
    {
      "cell_type": "code",
      "source": [
        "arr_float = np.array([1, 2, 3], dtype=float)\n",
        "print(arr_float.dtype)"
      ],
      "metadata": {
        "colab": {
          "base_uri": "https://localhost:8080/"
        },
        "id": "L7lOrUs7x1RM",
        "outputId": "2a9282f7-8674-4042-cf3e-91acac14ca70"
      },
      "execution_count": 17,
      "outputs": [
        {
          "output_type": "stream",
          "name": "stdout",
          "text": [
            "float64\n"
          ]
        }
      ]
    },
    {
      "cell_type": "markdown",
      "source": [
        "2. Multidimensional:\n",
        "\n",
        "* ndarray supports multiple dimensions (up to N dimensions). These dimensions are specified as axes. For example, a 2D array has two axes (rows and columns).\n",
        "* inspect the number of dimensions using the ndim attribute"
      ],
      "metadata": {
        "id": "oi4_BoCjx3kD"
      }
    },
    {
      "cell_type": "code",
      "source": [
        "arr = np.array([[1, 2], [3, 4], [5, 6]])\n",
        "print(arr.ndim)"
      ],
      "metadata": {
        "colab": {
          "base_uri": "https://localhost:8080/"
        },
        "id": "Jad98vHOyEv9",
        "outputId": "33af8e94-cad3-4a82-bfb8-29bd6ea107a9"
      },
      "execution_count": 18,
      "outputs": [
        {
          "output_type": "stream",
          "name": "stdout",
          "text": [
            "2\n"
          ]
        }
      ]
    },
    {
      "cell_type": "markdown",
      "source": [
        "3. Shape and Size:\n",
        "\n",
        "* The shape of an ndarray refers to the number of elements along each dimension (axis). You can retrieve it using the shape attribute.\n",
        "* The total number of elements in the array can be accessed with the size attribute"
      ],
      "metadata": {
        "id": "s5LeYVsyyPR7"
      }
    },
    {
      "cell_type": "code",
      "source": [
        "arr = np.array([[1, 2], [3, 4], [5, 6]])\n",
        "print(arr.shape)\n",
        "print(arr.size)"
      ],
      "metadata": {
        "colab": {
          "base_uri": "https://localhost:8080/"
        },
        "id": "rQ8iaa8FycNP",
        "outputId": "2331422a-e0fc-44c4-e270-6c7511e8555d"
      },
      "execution_count": 19,
      "outputs": [
        {
          "output_type": "stream",
          "name": "stdout",
          "text": [
            "(3, 2)\n",
            "6\n"
          ]
        }
      ]
    },
    {
      "cell_type": "markdown",
      "source": [
        "4. Memory Efficiency:\n",
        "\n",
        "* ndarrays are stored in contiguous blocks of memory, making them much more memory-efficient than Python lists. This structure allows for faster access to elements and faster processing of mathematical operations.\n",
        "\n",
        "5. Broadcasting:\n",
        "\n",
        "* NumPy allows for broadcasting, which enables arithmetic operations on arrays of different shapes. This makes operations efficient and avoids unnecessary copying of data.\n"
      ],
      "metadata": {
        "id": "oTBNb3omyglr"
      }
    },
    {
      "cell_type": "code",
      "source": [
        "arr = np.array([1, 2, 3])\n",
        "print(arr + 1)"
      ],
      "metadata": {
        "colab": {
          "base_uri": "https://localhost:8080/"
        },
        "id": "J_cvB-0EysyC",
        "outputId": "99284323-2491-473b-ce64-78926ffd6f69"
      },
      "execution_count": 20,
      "outputs": [
        {
          "output_type": "stream",
          "name": "stdout",
          "text": [
            "[2 3 4]\n"
          ]
        }
      ]
    },
    {
      "cell_type": "markdown",
      "source": [
        "6. Vectorized Operations:\n",
        "\n",
        "* ndarrays support vectorized operations, which means that element-wise operations (such as addition, multiplication) can be performed without explicit loops. This leads to significantly faster computations compared to traditional Python loops."
      ],
      "metadata": {
        "id": "C0MQlIuBywDb"
      }
    },
    {
      "cell_type": "code",
      "source": [
        "arr = np.array([1, 2, 3])\n",
        "print(arr * 2)"
      ],
      "metadata": {
        "colab": {
          "base_uri": "https://localhost:8080/"
        },
        "id": "7r9rRueCy1N7",
        "outputId": "456400e8-457c-41ad-86a8-cb468508d3e0"
      },
      "execution_count": 21,
      "outputs": [
        {
          "output_type": "stream",
          "name": "stdout",
          "text": [
            "[2 4 6]\n"
          ]
        }
      ]
    },
    {
      "cell_type": "markdown",
      "source": [
        "7. Slicing and Indexing:\n",
        "\n",
        "* ndarrays support advanced slicing and indexing techniques, making it easy to extract, modify, or assign values to specific parts of the array"
      ],
      "metadata": {
        "id": "YBUxOWl-y3lh"
      }
    },
    {
      "cell_type": "code",
      "source": [
        "arr = np.array([1, 2, 3, 4, 5])\n",
        "print(arr[1:4])"
      ],
      "metadata": {
        "colab": {
          "base_uri": "https://localhost:8080/"
        },
        "id": "iM7BfDRpy9Ba",
        "outputId": "7c0c4ae3-b9c4-4f7b-b636-10584d41b2c1"
      },
      "execution_count": 22,
      "outputs": [
        {
          "output_type": "stream",
          "name": "stdout",
          "text": [
            "[2 3 4]\n"
          ]
        }
      ]
    },
    {
      "cell_type": "markdown",
      "source": [
        "8. Mathematical Functions:\n",
        "\n",
        "* NumPy provides a wide range of built-in mathematical functions that can be applied to ndarrays, such as trigonometric functions, statistical functions, linear algebra, and more."
      ],
      "metadata": {
        "id": "rntYK6EtzAPJ"
      }
    },
    {
      "cell_type": "code",
      "source": [
        "arr = np.array([1, 2, 3])\n",
        "print(np.sum(arr))"
      ],
      "metadata": {
        "colab": {
          "base_uri": "https://localhost:8080/"
        },
        "id": "axG74RdvzF3x",
        "outputId": "6f2702df-0ee5-4bd7-c008-947b9b03a286"
      },
      "execution_count": 23,
      "outputs": [
        {
          "output_type": "stream",
          "name": "stdout",
          "text": [
            "6\n"
          ]
        }
      ]
    },
    {
      "cell_type": "markdown",
      "source": [
        "9. Shape Manipulation:\n",
        "\n",
        "* You can reshape, transpose, or flatten arrays easily using various NumPy methods like reshape(), transpose(), and ravel(). This allows flexibility in handling multi-dimensional data."
      ],
      "metadata": {
        "id": "_qx9T2wvzIya"
      }
    },
    {
      "cell_type": "code",
      "source": [
        "arr = np.array([[1, 2, 3], [4, 5, 6]])\n",
        "print(arr.reshape(3, 2))"
      ],
      "metadata": {
        "colab": {
          "base_uri": "https://localhost:8080/"
        },
        "id": "Mo0P5LgAzOV6",
        "outputId": "cf2d1b2f-0b78-48ba-d733-2cd95c68d75c"
      },
      "execution_count": 24,
      "outputs": [
        {
          "output_type": "stream",
          "name": "stdout",
          "text": [
            "[[1 2]\n",
            " [3 4]\n",
            " [5 6]]\n"
          ]
        }
      ]
    },
    {
      "cell_type": "markdown",
      "source": [
        "Differences Between ndarray and Python Lists:\n",
        "![Capture.JPG](data:image/jpeg;base64,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)"
      ],
      "metadata": {
        "id": "s8BBa99DzSUB"
      }
    },
    {
      "cell_type": "markdown",
      "source": [
        "Summary\n",
        "* ndarray is the primary data structure in NumPy, designed for efficient numerical computations. It supports multi-dimensional arrays, homogenous data types, and is memory-efficient, making it ideal for scientific computing.\n",
        "* Python lists, on the other hand, are flexible and can store mixed data types but are less efficient for large numerical operations due to their dynamic nature and lack of built-in support for high-performance computation."
      ],
      "metadata": {
        "id": "y7uBPK1Ez8EZ"
      }
    },
    {
      "cell_type": "markdown",
      "source": [
        "Q6. Analyze the performance benefits of NumPy arrays over Python lists for large-scale numerical operations.\n",
        "ANS--> NumPy arrays (ndarrays) offer significant performance benefits over Python lists when it comes to large-scale numerical operations. These advantages arise due to how NumPy handles memory management, its use of vectorized operations, and its overall efficiency in performing mathematical computations. Let’s dive deeper into the specific benefits and how NumPy arrays outshine Python lists in performance.\n",
        "\n",
        "1. Memory Efficiency\n",
        "* Fixed Data Types in NumPy: NumPy arrays store data in contiguous blocks of memory with a fixed data type, which makes memory allocation and access more efficient. Every element in a NumPy array has the same data type and size, leading to predictable memory usage.\n",
        "* Dynamic Typing in Python Lists: In contrast, Python lists are dynamically typed, which means they can store elements of different types. Each element in a list is an object that comes with overhead due to its reference and type information. As the list grows, this overhead increases.\n",
        "\n",
        "Memory Efficiency Example:\n",
        "\n",
        "Consider storing a list of a million integers. In NumPy, the memory for each integer is fixed (e.g., int32 requires 4 bytes). In Python lists, each element is an object with additional metadata."
      ],
      "metadata": {
        "id": "Z3uRC_eE0AfR"
      }
    },
    {
      "cell_type": "code",
      "source": [
        "import numpy as np\n",
        "import sys\n",
        "\n",
        "# NumPy array of integers\n",
        "arr_np = np.arange(1_000_000, dtype=np.int32)\n",
        "print(arr_np.nbytes)  # Memory used by NumPy array (4 bytes per element)\n",
        "\n",
        "# Python list of integers\n",
        "arr_py = list(range(1_000_000))\n",
        "print(sys.getsizeof(arr_py))  # Memory used by Python list (overhead per element)\n"
      ],
      "metadata": {
        "colab": {
          "base_uri": "https://localhost:8080/"
        },
        "id": "T3jvEULkz2wk",
        "outputId": "7e11b791-28aa-4df7-f270-ae795c333796"
      },
      "execution_count": 25,
      "outputs": [
        {
          "output_type": "stream",
          "name": "stdout",
          "text": [
            "4000000\n",
            "8000056\n"
          ]
        }
      ]
    },
    {
      "cell_type": "markdown",
      "source": [
        "2. Vectorized Operations\n",
        "* NumPy’s Vectorized Operations: NumPy arrays allow vectorized operations, which means element-wise computations are applied directly to the entire array without the need for explicit loops. NumPy leverages highly optimized C and Fortran routines under the hood, enabling operations to be executed at compiled language speed.\n",
        "* Loops in Python Lists: In contrast, with Python lists, you must iterate through the list using a loop to perform element-wise operations, which is much slower due to Python's interpreted nature and the overhead of managing dynamic types.\n",
        "\n",
        "Vectorized Operations Example:\n",
        "\n",
        "Performing element-wise addition on large arrays/lists:"
      ],
      "metadata": {
        "id": "FHGa64ql1KEE"
      }
    },
    {
      "cell_type": "code",
      "source": [
        "import numpy as np\n",
        "import time\n",
        "\n",
        "# NumPy array\n",
        "arr_np = np.arange(1_000_000)\n",
        "\n",
        "# Python list\n",
        "arr_py = list(range(1_000_000))\n",
        "\n",
        "# Timing NumPy addition\n",
        "start = time.time()\n",
        "arr_np_result = arr_np + arr_np\n",
        "print(\"NumPy addition time:\", time.time() - start)\n",
        "\n",
        "# Timing Python list addition using a loop\n",
        "start = time.time()\n",
        "arr_py_result = [x + x for x in arr_py]\n",
        "print(\"Python list addition time:\", time.time() - start)\n"
      ],
      "metadata": {
        "colab": {
          "base_uri": "https://localhost:8080/"
        },
        "id": "ddJXwOVp1SXg",
        "outputId": "a0c5974e-ca07-4dcd-c96c-bb5489a46723"
      },
      "execution_count": 26,
      "outputs": [
        {
          "output_type": "stream",
          "name": "stdout",
          "text": [
            "NumPy addition time: 0.005957603454589844\n",
            "Python list addition time: 0.15865254402160645\n"
          ]
        }
      ]
    },
    {
      "cell_type": "markdown",
      "source": [
        "3. Performance of Mathematical Operations\n",
        "* Optimized Mathematical Functions in NumPy: NumPy provides a rich set of optimized mathematical functions (e.g., np.sum(), np.mean(), np.dot(), etc.), which perform operations much faster than their Python equivalents. This is because NumPy uses efficient algorithms and applies them in C/Fortran without the overhead of Python loops.\n",
        "* Python Lists: Performing the same mathematical operations on Python lists is inefficient since you need to iterate through the elements manually, and each element's type is dynamically checked during the loop.\n",
        "\n",
        "Mathematical Operations Example:\n",
        "\n",
        "Summing the elements of a large array/list:"
      ],
      "metadata": {
        "id": "xDRsUqKS1VSM"
      }
    },
    {
      "cell_type": "code",
      "source": [
        "# Sum of NumPy array\n",
        "start = time.time()\n",
        "np.sum(arr_np)\n",
        "print(\"NumPy sum time:\", time.time() - start)\n",
        "\n",
        "# Sum of Python list\n",
        "start = time.time()\n",
        "sum(arr_py)\n",
        "print(\"Python list sum time:\", time.time() - start)\n"
      ],
      "metadata": {
        "colab": {
          "base_uri": "https://localhost:8080/"
        },
        "id": "LBY86DC81b42",
        "outputId": "6c679d6d-2722-4110-c174-16cdda6bac3b"
      },
      "execution_count": 27,
      "outputs": [
        {
          "output_type": "stream",
          "name": "stdout",
          "text": [
            "NumPy sum time: 0.0018503665924072266\n",
            "Python list sum time: 0.010289669036865234\n"
          ]
        }
      ]
    },
    {
      "cell_type": "markdown",
      "source": [
        "4. Broadcasting\n",
        "* Broadcasting in NumPy: NumPy arrays support broadcasting, which allows operations between arrays of different shapes. Broadcasting eliminates the need to explicitly resize or copy arrays, leading to faster and more memory-efficient computations.\n",
        "* Python Lists: Python lists do not support broadcasting, meaning you have to manually resize lists or use loops to achieve similar results, which is inefficient.\n",
        "\n",
        "Broadcasting Example:\n",
        "\n",
        "Adding a scalar to a large array/list:"
      ],
      "metadata": {
        "id": "XIxOFAAw1ejg"
      }
    },
    {
      "cell_type": "code",
      "source": [
        "# Broadcasting in NumPy\n",
        "start = time.time()\n",
        "arr_np_result = arr_np + 5  # Add 5 to every element\n",
        "print(\"NumPy scalar addition time:\", time.time() - start)\n",
        "\n",
        "# Python list using a loop for scalar addition\n",
        "start = time.time()\n",
        "arr_py_result = [x + 5 for x in arr_py]\n",
        "print(\"Python list scalar addition time:\", time.time() - start)\n"
      ],
      "metadata": {
        "colab": {
          "base_uri": "https://localhost:8080/"
        },
        "id": "U4ZuLzL61lXt",
        "outputId": "e8493e2c-c63e-44ce-9cc6-a47df01eee60"
      },
      "execution_count": 28,
      "outputs": [
        {
          "output_type": "stream",
          "name": "stdout",
          "text": [
            "NumPy scalar addition time: 0.006082296371459961\n",
            "Python list scalar addition time: 0.0872490406036377\n"
          ]
        }
      ]
    },
    {
      "cell_type": "markdown",
      "source": [
        "5. Multidimensional Array Support\n",
        "* NumPy: NumPy supports multi-dimensional arrays (e.g., 2D, 3D, N-dimensional arrays), which are highly optimized for matrix operations, linear algebra, and other multi-dimensional computations. Operations like matrix multiplication, transposition, reshaping, and slicing are highly optimized.\n",
        "* Python Lists: Python lists can support only 1D arrays directly. For multi-dimensional structures, lists of lists (nested lists) are required, which leads to inefficiencies in both memory and performance.\n",
        "\n",
        "Multidimensional Array Example:\n",
        "\n",
        "Performing matrix multiplication using NumPy arrays and Python lists:"
      ],
      "metadata": {
        "id": "maj2ZkmI1oJT"
      }
    },
    {
      "cell_type": "code",
      "source": [
        "# NumPy 2D array (matrix)\n",
        "arr_np_2d = np.array([[1, 2], [3, 4]])\n",
        "\n",
        "# Python list of lists\n",
        "arr_py_2d = [[1, 2], [3, 4]]\n",
        "\n",
        "# NumPy matrix multiplication\n",
        "start = time.time()\n",
        "np.dot(arr_np_2d, arr_np_2d)\n",
        "print(\"NumPy matrix multiplication time:\", time.time() - start)\n",
        "\n",
        "# Python list matrix multiplication using loops\n",
        "start = time.time()\n",
        "arr_py_result = [[sum(a*b for a, b in zip(arr_py_row, arr_py_col))\n",
        "                  for arr_py_col in zip(*arr_py_2d)]\n",
        "                 for arr_py_row in arr_py_2d]\n",
        "print(\"Python list matrix multiplication time:\", time.time() - start)"
      ],
      "metadata": {
        "colab": {
          "base_uri": "https://localhost:8080/"
        },
        "id": "L564Lfk91uSK",
        "outputId": "6552c067-212c-4ecd-9e92-b4d0e476dfad"
      },
      "execution_count": 29,
      "outputs": [
        {
          "output_type": "stream",
          "name": "stdout",
          "text": [
            "NumPy matrix multiplication time: 0.0003597736358642578\n",
            "Python list matrix multiplication time: 0.00022792816162109375\n"
          ]
        }
      ]
    },
    {
      "cell_type": "markdown",
      "source": [
        "6. Parallelism and Low-Level Optimization\n",
        "* Parallelism in NumPy: NumPy operations are parallelized (when possible) and implemented in lower-level languages like C, making them highly optimized for large-scale computations. Many NumPy operations are multi-threaded, enabling faster execution on modern multi-core processors.\n",
        "* Python Lists: Python lists do not benefit from these optimizations and require manual implementation of parallelism, which is complex and error-prone.\n",
        "\n",
        "Summary of Performance Benefits:\n",
        "\n",
        "![image.png](data:image/png;base64,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)"
      ],
      "metadata": {
        "id": "_gkq01A21xh9"
      }
    },
    {
      "cell_type": "code",
      "source": [],
      "metadata": {
        "id": "bJ2n-tJC2DrY"
      },
      "execution_count": null,
      "outputs": []
    },
    {
      "cell_type": "markdown",
      "source": [
        "Q7. Compare vstack() and hstack() functions in NumPy. Provide examples demonstrating their usage and\n",
        "output.\n",
        "ANS--> In NumPy, the vstack() and hstack() functions are used for stacking arrays along specific axes. They are commonly used for combining multiple arrays, either vertically (along the rows) or horizontally (along the columns). Let’s explore how they work, their differences, and some examples.\n",
        "\n",
        "1. np.vstack() (Vertical Stack)\n",
        "* The vstack() function stacks arrays vertically along the rows (axis 0). The arrays must have the same number of columns, but they can have different numbers of rows.\n",
        "\n",
        "Syntax:\n",
        "np.vstack((array1, array2, ...))\n",
        "\n",
        "* Input: A sequence of arrays with the same number of columns.\n",
        "* Output: A new array with the input arrays stacked on top of each other.\n",
        "\n",
        "Example:"
      ],
      "metadata": {
        "id": "S4q22KEI2UlF"
      }
    },
    {
      "cell_type": "code",
      "source": [
        "import numpy as np\n",
        "\n",
        "# Two 1D arrays\n",
        "arr1 = np.array([1, 2, 3])\n",
        "arr2 = np.array([4, 5, 6])\n",
        "\n",
        "# Vertical stacking\n",
        "result_vstack = np.vstack((arr1, arr2))\n",
        "print(result_vstack)\n"
      ],
      "metadata": {
        "colab": {
          "base_uri": "https://localhost:8080/"
        },
        "id": "Qa4-XSvM2xUs",
        "outputId": "4579a647-29cf-4848-c7f8-90188273bd9f"
      },
      "execution_count": 30,
      "outputs": [
        {
          "output_type": "stream",
          "name": "stdout",
          "text": [
            "[[1 2 3]\n",
            " [4 5 6]]\n"
          ]
        }
      ]
    },
    {
      "cell_type": "code",
      "source": [
        "# Example with 2D Arrays:\n",
        "# Two 2D arrays\n",
        "arr3 = np.array([[1, 2, 3], [4, 5, 6]])\n",
        "arr4 = np.array([[7, 8, 9]])\n",
        "\n",
        "# Vertical stacking\n",
        "result_vstack_2d = np.vstack((arr3, arr4))\n",
        "print(result_vstack_2d)\n"
      ],
      "metadata": {
        "colab": {
          "base_uri": "https://localhost:8080/"
        },
        "id": "mN7wuwJA3pA7",
        "outputId": "9ecfc1ab-0085-4e90-9476-36fffc20a514"
      },
      "execution_count": 31,
      "outputs": [
        {
          "output_type": "stream",
          "name": "stdout",
          "text": [
            "[[1 2 3]\n",
            " [4 5 6]\n",
            " [7 8 9]]\n"
          ]
        }
      ]
    },
    {
      "cell_type": "markdown",
      "source": [
        "2. np.hstack() (Horizontal Stack)\n",
        "\n",
        "The hstack() function stacks arrays horizontally along the columns (axis 1). The arrays must have the same number of rows, but they can have different numbers of columns.\n",
        "\n",
        "Syntax:\n",
        "np.hstack((array1, array2, ...))\n",
        "\n",
        "* Input: A sequence of arrays with the same number of rows.\n",
        "* Output: A new array with the input arrays stacked side by side (along the columns).\n",
        "\n",
        "Example:"
      ],
      "metadata": {
        "id": "xS-QAHgP3uht"
      }
    },
    {
      "cell_type": "code",
      "source": [
        "# Two 1D arrays\n",
        "arr1 = np.array([1, 2, 3])\n",
        "arr2 = np.array([4, 5, 6])\n",
        "\n",
        "# Horizontal stacking\n",
        "result_hstack = np.hstack((arr1, arr2))\n",
        "print(result_hstack)\n"
      ],
      "metadata": {
        "colab": {
          "base_uri": "https://localhost:8080/"
        },
        "id": "6a_AEqs23tM2",
        "outputId": "57340360-e762-4b54-a746-cc64fcdd7f7e"
      },
      "execution_count": 32,
      "outputs": [
        {
          "output_type": "stream",
          "name": "stdout",
          "text": [
            "[1 2 3 4 5 6]\n"
          ]
        }
      ]
    },
    {
      "cell_type": "code",
      "source": [
        "# Example with 2D Arrays:\n",
        "# Two 2D arrays\n",
        "arr3 = np.array([[1, 2, 3], [4, 5, 6]])\n",
        "arr4 = np.array([[7, 8], [9, 10]])\n",
        "\n",
        "# Horizontal stacking\n",
        "result_hstack_2d = np.hstack((arr3, arr4))\n",
        "print(result_hstack_2d)\n"
      ],
      "metadata": {
        "colab": {
          "base_uri": "https://localhost:8080/"
        },
        "id": "Fns_0MzS3_sd",
        "outputId": "754b710b-c749-478a-e27e-c04bcf5a5120"
      },
      "execution_count": 33,
      "outputs": [
        {
          "output_type": "stream",
          "name": "stdout",
          "text": [
            "[[ 1  2  3  7  8]\n",
            " [ 4  5  6  9 10]]\n"
          ]
        }
      ]
    },
    {
      "cell_type": "markdown",
      "source": [
        "Key Differences Between vstack() and hstack()\n",
        "\n",
        "![image.png](data:image/png;base64,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)"
      ],
      "metadata": {
        "id": "slISOmgW4EkV"
      }
    },
    {
      "cell_type": "markdown",
      "source": [
        "Additional Notes:\n",
        "* 1D Arrays: When stacking 1D arrays, vstack() converts them into 2D arrays (one row per array), while hstack() simply concatenates them.\n",
        "* Multidimensional Arrays: Both functions extend naturally to higher-dimensional arrays. For vstack(), the arrays must have the same shape except for the first dimension (rows), and for hstack(), the arrays must have the same shape except for the second dimension (columns).\n",
        "\n",
        "Summary\n",
        "* np.vstack() stacks arrays vertically, requiring that the input arrays have the same number of columns. It's useful when you want to combine data along rows.\n",
        "* np.hstack() stacks arrays horizontally, requiring that the input arrays have the same number of rows. It’s used for combining data along columns.\n"
      ],
      "metadata": {
        "id": "iMjiyl3V4MYa"
      }
    },
    {
      "cell_type": "markdown",
      "source": [
        "Q8. Explain the differences between fliplr() and flipud() methods in NumPy, including their effects on various\n",
        "array dimensions\n",
        "ANS--> In NumPy, the fliplr() and flipud() methods are used to reverse the elements of an array along specific axes. While both functions flip arrays, they operate in different directions and on different axes. Here’s a breakdown of how they work and how they differ, including their effects on arrays of various dimensions.\n",
        "\n",
        "1. np.fliplr() (Flip Left to Right)\n",
        "* Description: fliplr() flips an array horizontally, reversing the order of the columns (left-to-right). It operates on the second axis (axis 1) and only works on 2D arrays or higher-dimensional arrays where the second axis has at least one element.\n",
        "\n",
        "* Effect: It mirrors the array across its vertical axis, flipping the elements horizontally.\n",
        "\n",
        "Syntax:np.fliplr(array)\n",
        "\n",
        "Example with 2D Array:"
      ],
      "metadata": {
        "id": "Cm9HKgpl4O5c"
      }
    },
    {
      "cell_type": "code",
      "source": [
        "import numpy as np\n",
        "\n",
        "# 2D array\n",
        "arr = np.array([[1, 2, 3],\n",
        "                [4, 5, 6],\n",
        "                [7, 8, 9]])\n",
        "\n",
        "# Flip left to right\n",
        "result_fliplr = np.fliplr(arr)\n",
        "print(result_fliplr)\n"
      ],
      "metadata": {
        "colab": {
          "base_uri": "https://localhost:8080/"
        },
        "id": "prPEqHO14Ds1",
        "outputId": "fc28453a-a197-42ac-d8fe-17471788edf3"
      },
      "execution_count": 34,
      "outputs": [
        {
          "output_type": "stream",
          "name": "stdout",
          "text": [
            "[[3 2 1]\n",
            " [6 5 4]\n",
            " [9 8 7]]\n"
          ]
        }
      ]
    },
    {
      "cell_type": "code",
      "source": [
        "# Example with 3D Array:\n",
        "# 3D array (2x3x3)\n",
        "arr_3d = np.array([[[1, 2, 3], [4, 5, 6], [7, 8, 9]],\n",
        "                   [[10, 11, 12], [13, 14, 15], [16, 17, 18]]])\n",
        "\n",
        "result_fliplr_3d = np.fliplr(arr_3d)\n",
        "print(result_fliplr_3d)\n"
      ],
      "metadata": {
        "colab": {
          "base_uri": "https://localhost:8080/"
        },
        "id": "9YZfkmAk5ENV",
        "outputId": "e96c1d91-7357-46ab-c678-8501388700ea"
      },
      "execution_count": 35,
      "outputs": [
        {
          "output_type": "stream",
          "name": "stdout",
          "text": [
            "[[[ 7  8  9]\n",
            "  [ 4  5  6]\n",
            "  [ 1  2  3]]\n",
            "\n",
            " [[16 17 18]\n",
            "  [13 14 15]\n",
            "  [10 11 12]]]\n"
          ]
        }
      ]
    },
    {
      "cell_type": "markdown",
      "source": [
        "2. np.flipud() (Flip Up to Down)\n",
        "* Description: flipud() flips an array vertically, reversing the order of the rows (top-to-bottom). It operates on the first axis (axis 0) and works on arrays with 2D or higher dimensions.\n",
        "\n",
        "* Effect: It mirrors the array across its horizontal axis, flipping the elements vertically.\n",
        "\n",
        "Syntax:np.flipud(array)\n",
        "\n",
        "Example with 2D Array:"
      ],
      "metadata": {
        "id": "PRish3rN5L_U"
      }
    },
    {
      "cell_type": "code",
      "source": [
        "# 2D array\n",
        "arr = np.array([[1, 2, 3],\n",
        "                [4, 5, 6],\n",
        "                [7, 8, 9]])\n",
        "\n",
        "# Flip up to down\n",
        "result_flipud = np.flipud(arr)\n",
        "print(result_flipud)\n"
      ],
      "metadata": {
        "colab": {
          "base_uri": "https://localhost:8080/"
        },
        "id": "exDoZzRQ5Ifs",
        "outputId": "cf631a8a-f65a-4f91-b581-50d5bb3bc647"
      },
      "execution_count": 36,
      "outputs": [
        {
          "output_type": "stream",
          "name": "stdout",
          "text": [
            "[[7 8 9]\n",
            " [4 5 6]\n",
            " [1 2 3]]\n"
          ]
        }
      ]
    },
    {
      "cell_type": "code",
      "source": [
        "# Example with 3D Array:\n",
        "# 3D array (2x3x3)\n",
        "arr_3d = np.array([[[1, 2, 3], [4, 5, 6], [7, 8, 9]],\n",
        "                   [[10, 11, 12], [13, 14, 15], [16, 17, 18]]])\n",
        "\n",
        "result_flipud_3d = np.flipud(arr_3d)\n",
        "print(result_flipud_3d)\n"
      ],
      "metadata": {
        "colab": {
          "base_uri": "https://localhost:8080/"
        },
        "id": "yQkU3lUC5bc7",
        "outputId": "c75332a5-6bab-4147-a84c-9dc003ee857f"
      },
      "execution_count": 37,
      "outputs": [
        {
          "output_type": "stream",
          "name": "stdout",
          "text": [
            "[[[10 11 12]\n",
            "  [13 14 15]\n",
            "  [16 17 18]]\n",
            "\n",
            " [[ 1  2  3]\n",
            "  [ 4  5  6]\n",
            "  [ 7  8  9]]]\n"
          ]
        }
      ]
    },
    {
      "cell_type": "markdown",
      "source": [
        "Key Differences Between fliplr() and flipud()\n",
        "\n",
        "![image.png](data:image/png;base64,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)"
      ],
      "metadata": {
        "id": "Br2BQRhS5kOo"
      }
    },
    {
      "cell_type": "markdown",
      "source": [
        "Behavior with 1D Arrays:\n",
        "\n",
        "fliplr() and flipud() do not work on 1D arrays. Both functions require at least a 2D array or higher. Attempting to use them on a 1D array will raise an error."
      ],
      "metadata": {
        "id": "iQQuizMS5rYQ"
      }
    },
    {
      "cell_type": "code",
      "source": [
        "# 1D array\n",
        "arr_1d = np.array([1, 2, 3])\n",
        "\n",
        "# Attempting to flip a 1D array with fliplr\n",
        "np.fliplr(arr_1d)  # Raises ValueError\n",
        "\n",
        "# Attempting to flip a 1D array with flipud\n",
        "np.flipud(arr_1d)  # Works fine\n"
      ],
      "metadata": {
        "colab": {
          "base_uri": "https://localhost:8080/",
          "height": 332
        },
        "id": "R_eddDZV5fnz",
        "outputId": "0dd2858d-4820-4a34-efff-a843ce7643de"
      },
      "execution_count": 38,
      "outputs": [
        {
          "output_type": "error",
          "ename": "ValueError",
          "evalue": "Input must be >= 2-d.",
          "traceback": [
            "\u001b[0;31m---------------------------------------------------------------------------\u001b[0m",
            "\u001b[0;31mValueError\u001b[0m                                Traceback (most recent call last)",
            "\u001b[0;32m<ipython-input-38-2b43a51edcbe>\u001b[0m in \u001b[0;36m<cell line: 5>\u001b[0;34m()\u001b[0m\n\u001b[1;32m      3\u001b[0m \u001b[0;34m\u001b[0m\u001b[0m\n\u001b[1;32m      4\u001b[0m \u001b[0;31m# Attempting to flip a 1D array with fliplr\u001b[0m\u001b[0;34m\u001b[0m\u001b[0;34m\u001b[0m\u001b[0m\n\u001b[0;32m----> 5\u001b[0;31m \u001b[0mnp\u001b[0m\u001b[0;34m.\u001b[0m\u001b[0mfliplr\u001b[0m\u001b[0;34m(\u001b[0m\u001b[0marr_1d\u001b[0m\u001b[0;34m)\u001b[0m  \u001b[0;31m# Raises ValueError\u001b[0m\u001b[0;34m\u001b[0m\u001b[0;34m\u001b[0m\u001b[0m\n\u001b[0m\u001b[1;32m      6\u001b[0m \u001b[0;34m\u001b[0m\u001b[0m\n\u001b[1;32m      7\u001b[0m \u001b[0;31m# Attempting to flip a 1D array with flipud\u001b[0m\u001b[0;34m\u001b[0m\u001b[0;34m\u001b[0m\u001b[0m\n",
            "\u001b[0;32m/usr/local/lib/python3.10/dist-packages/numpy/lib/twodim_base.py\u001b[0m in \u001b[0;36mfliplr\u001b[0;34m(m)\u001b[0m\n\u001b[1;32m     96\u001b[0m     \u001b[0mm\u001b[0m \u001b[0;34m=\u001b[0m \u001b[0masanyarray\u001b[0m\u001b[0;34m(\u001b[0m\u001b[0mm\u001b[0m\u001b[0;34m)\u001b[0m\u001b[0;34m\u001b[0m\u001b[0;34m\u001b[0m\u001b[0m\n\u001b[1;32m     97\u001b[0m     \u001b[0;32mif\u001b[0m \u001b[0mm\u001b[0m\u001b[0;34m.\u001b[0m\u001b[0mndim\u001b[0m \u001b[0;34m<\u001b[0m \u001b[0;36m2\u001b[0m\u001b[0;34m:\u001b[0m\u001b[0;34m\u001b[0m\u001b[0;34m\u001b[0m\u001b[0m\n\u001b[0;32m---> 98\u001b[0;31m         \u001b[0;32mraise\u001b[0m \u001b[0mValueError\u001b[0m\u001b[0;34m(\u001b[0m\u001b[0;34m\"Input must be >= 2-d.\"\u001b[0m\u001b[0;34m)\u001b[0m\u001b[0;34m\u001b[0m\u001b[0;34m\u001b[0m\u001b[0m\n\u001b[0m\u001b[1;32m     99\u001b[0m     \u001b[0;32mreturn\u001b[0m \u001b[0mm\u001b[0m\u001b[0;34m[\u001b[0m\u001b[0;34m:\u001b[0m\u001b[0;34m,\u001b[0m \u001b[0;34m:\u001b[0m\u001b[0;34m:\u001b[0m\u001b[0;34m-\u001b[0m\u001b[0;36m1\u001b[0m\u001b[0;34m]\u001b[0m\u001b[0;34m\u001b[0m\u001b[0;34m\u001b[0m\u001b[0m\n\u001b[1;32m    100\u001b[0m \u001b[0;34m\u001b[0m\u001b[0m\n",
            "\u001b[0;31mValueError\u001b[0m: Input must be >= 2-d."
          ]
        }
      ]
    },
    {
      "cell_type": "markdown",
      "source": [
        "Explanation: fliplr() will raise an error because it requires at least 2 dimensions, while flipud() will treat a 1D array as a single column and reverse its elements."
      ],
      "metadata": {
        "id": "VLpB7IJ5581v"
      }
    },
    {
      "cell_type": "markdown",
      "source": [
        "Summary of Effects on Different Array Dimensions:\n",
        "\n",
        "![image.png](data:image/png;base64,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)"
      ],
      "metadata": {
        "id": "IT_ZXEKw5-LB"
      }
    },
    {
      "cell_type": "markdown",
      "source": [
        "Q9. Discuss the functionality of the array_split() method in NumPy. How does it handle uneven splits?\n",
        "ANS--> The np.array_split() method in NumPy is used to split an array into multiple sub-arrays. It provides more flexibility compared to np.split(), especially when dealing with uneven splits. The key difference between the two is that array_split() allows for splitting an array into sub-arrays of unequal size if the array cannot be split evenly, whereas split() will raise an error in such cases.\n",
        "\n",
        "Functionality of np.array_split()\n",
        "\n",
        "Syntax: np.array_split(array, indices_or_sections, axis=0)\n",
        "* array: The input array to be split.\n",
        "* indices_or_sections:\n",
        "* If an integer n is passed, the array is split into n sub-arrays.\n",
        "* If a list of indices is passed, the splits occur at those specific positions.\n",
        "* axis: The axis along which the array is split. By default, it's axis=0 (i.e., along the rows).\n",
        "\n",
        "1. Handling Uneven Splits\n",
        "If the number of elements in the array cannot be evenly divided by the number of sections, np.array_split() distributes the remainder unevenly across the sub-arrays. The sub-arrays at the beginning will have more elements, while those toward the end will have fewer.\n",
        "\n",
        "Example 1: Splitting an array into uneven sections"
      ],
      "metadata": {
        "id": "rE6DV6eG6Fu4"
      }
    },
    {
      "cell_type": "code",
      "source": [
        "import numpy as np\n",
        "\n",
        "# 1D array with 7 elements\n",
        "arr = np.array([1, 2, 3, 4, 5, 6, 7])\n",
        "\n",
        "# Split into 3 sub-arrays\n",
        "result = np.array_split(arr, 3)\n",
        "print(result)\n"
      ],
      "metadata": {
        "colab": {
          "base_uri": "https://localhost:8080/"
        },
        "id": "B199-B2h6D2K",
        "outputId": "ea36c92a-91ab-40bc-9828-196b150701f7"
      },
      "execution_count": 39,
      "outputs": [
        {
          "output_type": "stream",
          "name": "stdout",
          "text": [
            "[array([1, 2, 3]), array([4, 5]), array([6, 7])]\n"
          ]
        }
      ]
    },
    {
      "cell_type": "code",
      "source": [
        "# Example 2: Splitting a 2D array\n",
        "# 2D array (3x4)\n",
        "arr_2d = np.array([[1, 2, 3, 4],\n",
        "                   [5, 6, 7, 8],\n",
        "                   [9, 10, 11, 12]])\n",
        "\n",
        "# Split into 4 sub-arrays along the default axis (rows)\n",
        "result_2d = np.array_split(arr_2d, 4)\n",
        "print(result_2d)\n"
      ],
      "metadata": {
        "colab": {
          "base_uri": "https://localhost:8080/"
        },
        "id": "Z4wDGYHh8oGC",
        "outputId": "908d2b4c-c056-4036-fa91-679b98b8a052"
      },
      "execution_count": 79,
      "outputs": [
        {
          "output_type": "stream",
          "name": "stdout",
          "text": [
            "[array([[1, 2, 3, 4]]), array([[5, 6, 7, 8]]), array([[ 9, 10, 11, 12]]), array([], shape=(0, 4), dtype=int64)]\n"
          ]
        }
      ]
    },
    {
      "cell_type": "code",
      "source": [
        "# Example 3: Specifying custom indices for split positions\n",
        "# Custom split based on indices\n",
        "result_custom = np.array_split(arr_2d, [1, 2])\n",
        "print(result_custom)\n"
      ],
      "metadata": {
        "colab": {
          "base_uri": "https://localhost:8080/"
        },
        "id": "0yAgcmOT8L2q",
        "outputId": "9ea82248-d6f0-4372-823c-aafdc46cbaed"
      },
      "execution_count": 68,
      "outputs": [
        {
          "output_type": "stream",
          "name": "stdout",
          "text": [
            "[array([[1, 2, 3]]), array([[4, 5, 6]]), array([], shape=(0, 3), dtype=int64)]\n"
          ]
        }
      ]
    },
    {
      "cell_type": "markdown",
      "source": [
        "Key Points about array_split() Handling Uneven Splits:\n",
        "* Uneven Sub-arrays: When splitting an array into unequal sections, the method will distribute extra elements starting from the first sub-array. Sub-arrays at the beginning of the output list may contain one more element than the later ones.\n",
        "\n",
        "* Empty Arrays: If the number of splits is greater than the number of elements along the split axis, some of the resulting sub-arrays may be empty.\n",
        "\n",
        "* Custom Split Points: You can specify the exact split points using a list of indices. This gives you more control over where the array is split."
      ],
      "metadata": {
        "id": "ud1N18nREFkg"
      }
    },
    {
      "cell_type": "markdown",
      "source": [
        "q10. Explain the concepts of vectorization and broadcasting in NumPy. How do they contribute to efficient array\n",
        "operations?\n",
        "ANS--> In NumPy, vectorization and broadcasting are two powerful concepts that significantly enhance the efficiency and performance of array operations. They allow for more concise code, reduce the need for explicit loops, and optimize computational performance. Let’s explore each concept in detail.\n",
        "\n",
        "1. Vectorization\n",
        "\n",
        "Definition:\n",
        "\n",
        "Vectorization refers to the process of converting operations that are typically executed in a loop (iteratively) into array operations that are performed in a single step. This is achieved by applying operations directly to entire arrays or slices of arrays rather than individual elements.\n",
        "\n",
        "How It Works:\n",
        "* NumPy functions are implemented in a way that they operate on entire arrays at once, leveraging low-level optimizations. This means you can apply mathematical operations to whole arrays without needing to write explicit loops in Python.\n",
        "\n",
        "Example:\n",
        "\n",
        "Without vectorization (using loops):"
      ],
      "metadata": {
        "id": "D48US5NCEKUC"
      }
    },
    {
      "cell_type": "code",
      "source": [
        "import numpy as np\n",
        "\n",
        "# Creating two arrays\n",
        "a = np.array([1, 2, 3])\n",
        "b = np.array([4, 5, 6])\n",
        "\n",
        "# Element-wise addition using a loop\n",
        "result = np.empty_like(a)\n",
        "for i in range(len(a)):\n",
        "    result[i] = a[i] + b[i]\n",
        "\n",
        "print(result)  # Output: [5 7 9]\n"
      ],
      "metadata": {
        "colab": {
          "base_uri": "https://localhost:8080/"
        },
        "id": "PZ9tO2bA79Ng",
        "outputId": "a699d760-2785-4b2b-8a2d-b4e9ecab152b"
      },
      "execution_count": 69,
      "outputs": [
        {
          "output_type": "stream",
          "name": "stdout",
          "text": [
            "[5 7 9]\n"
          ]
        }
      ]
    },
    {
      "cell_type": "markdown",
      "source": [
        "Benefits of Vectorization:\n",
        "* Performance: Vectorized operations are executed in compiled code, making them significantly faster than Python loops.\n",
        "* Readability: The code is cleaner and more expressive, making it easier to understand.\n",
        "* Less Code: Reduces the amount of code needed to achieve the same result.\n",
        "\n",
        "2. Broadcasting\n",
        "\n",
        "Definition:\n",
        "\n",
        "Broadcasting is a powerful mechanism that allows NumPy to perform operations on arrays of different shapes and sizes. It enables NumPy to “stretch” or “broadcast” smaller arrays across larger ones during arithmetic operations so that they are compatible for element-wise operations.\n",
        "\n",
        "How It Works:\n",
        "* When performing operations between two arrays, NumPy compares their shapes. If the arrays do not have the same shape, NumPy tries to make them compatible by applying the following rules:\n",
        "1. If the arrays have a different number of dimensions, the shape of the smaller-dimensional array is padded with ones on the left side until both shapes have the same length.\n",
        "2. The arrays are compatible if their sizes along each dimension are either the same or one of them is 1.\n",
        "3. If the arrays are compatible, NumPy performs the operation element-wise.\n",
        "\n",
        "Example:"
      ],
      "metadata": {
        "id": "Fde7tvnRJ9TX"
      }
    },
    {
      "cell_type": "code",
      "source": [
        "import numpy as np\n",
        "\n",
        "# Creating a 1D array\n",
        "a = np.array([1, 2, 3])\n",
        "\n",
        "# Creating a 2D array\n",
        "b = np.array([[10], [20], [30]])\n",
        "\n",
        "# Broadcasting the 1D array across the 2D array\n",
        "result_broadcasting = a + b\n",
        "print(result_broadcasting)\n"
      ],
      "metadata": {
        "colab": {
          "base_uri": "https://localhost:8080/"
        },
        "id": "f5AFkGawKZDo",
        "outputId": "56603562-2a94-4d35-fe83-1285ebaa0647"
      },
      "execution_count": 70,
      "outputs": [
        {
          "output_type": "stream",
          "name": "stdout",
          "text": [
            "[[11 12 13]\n",
            " [21 22 23]\n",
            " [31 32 33]]\n"
          ]
        }
      ]
    },
    {
      "cell_type": "markdown",
      "source": [
        "Benefits of Broadcasting:\n",
        "* Flexibility: Allows operations between arrays of different shapes without needing to explicitly replicate data.\n",
        "* Memory Efficiency: Avoids the need to create large temporary arrays to hold repeated values, saving memory.\n",
        "* Simplifies Code: Eliminates the need for complex reshaping and looping, resulting in more straightforward operations.\n",
        "\n",
        "Combined Benefits of Vectorization and Broadcasting\n",
        "* Performance Optimization: By leveraging both concepts, NumPy can execute operations that would normally require multiple iterations and memory allocations in a single, efficient call.\n",
        "* Conciseness: Combining vectorized operations with broadcasting allows for writing clear and concise code that performs complex operations seamlessly.\n",
        "* Numerical Computing: Both techniques are essential in scientific computing and data analysis, where performance is critical, and large datasets are often manipulated."
      ],
      "metadata": {
        "id": "zsJDeRYFKgen"
      }
    },
    {
      "cell_type": "markdown",
      "source": [
        "#                                    PRACTICAL PART"
      ],
      "metadata": {
        "id": "H9pfHqJyKwMM"
      }
    },
    {
      "cell_type": "markdown",
      "source": [
        "Q1. Create a 3x3 NumPy array with random integers between 1 and 100. Then, interchange its rows and columns."
      ],
      "metadata": {
        "id": "1bMTmLFnLFjW"
      }
    },
    {
      "cell_type": "code",
      "source": [
        "# Original Array:\n",
        " [[ 9, 45, 26],\n",
        " [32, 55, 37],\n",
        " [45,  8, 20]]\n"
      ],
      "metadata": {
        "colab": {
          "base_uri": "https://localhost:8080/"
        },
        "id": "KQzfOTrSKbKg",
        "outputId": "b0f1e918-1d92-44b6-98ad-79a6fe3699b8"
      },
      "execution_count": 71,
      "outputs": [
        {
          "output_type": "execute_result",
          "data": {
            "text/plain": [
              "[[9, 45, 26], [32, 55, 37], [45, 8, 20]]"
            ]
          },
          "metadata": {},
          "execution_count": 71
        }
      ]
    },
    {
      "cell_type": "code",
      "source": [
        "# Transposed Array (Interchanged Rows and Columns):\n",
        " [[ 9, 32, 45],\n",
        " [45, 55,  8],\n",
        " [26, 37, 20]]"
      ],
      "metadata": {
        "colab": {
          "base_uri": "https://localhost:8080/"
        },
        "id": "Cd8_uTZGLSSv",
        "outputId": "ed2c8487-72e0-4b87-897f-8a7e60cb8848"
      },
      "execution_count": 73,
      "outputs": [
        {
          "output_type": "execute_result",
          "data": {
            "text/plain": [
              "[[9, 32, 45], [45, 55, 8], [26, 37, 20]]"
            ]
          },
          "metadata": {},
          "execution_count": 73
        }
      ]
    },
    {
      "cell_type": "markdown",
      "source": [
        "Q2. Generate a 1D NumPy array with 10 elements. Reshape it into a 2x5 array, then into a 5x2 array"
      ],
      "metadata": {
        "id": "UvLgV6UbLd7c"
      }
    },
    {
      "cell_type": "code",
      "source": [
        "# Original 1D Array:\n",
        " [0, 1, 2, 3, 4, 5, 6, 7, 8, 9]\n"
      ],
      "metadata": {
        "colab": {
          "base_uri": "https://localhost:8080/"
        },
        "id": "hL0JXIGhLXVW",
        "outputId": "52fdad3d-8849-4f1d-d7ff-b086cbcde63a"
      },
      "execution_count": 74,
      "outputs": [
        {
          "output_type": "execute_result",
          "data": {
            "text/plain": [
              "[0, 1, 2, 3, 4, 5, 6, 7, 8, 9]"
            ]
          },
          "metadata": {},
          "execution_count": 74
        }
      ]
    },
    {
      "cell_type": "code",
      "source": [
        "# Reshaped 2x5 Array:\n",
        " [[0, 1, 2, 3, 4],\n",
        " [5, 6, 7, 8, 9]]\n"
      ],
      "metadata": {
        "colab": {
          "base_uri": "https://localhost:8080/"
        },
        "id": "dL2hTjCkLsYm",
        "outputId": "6bf953e6-a067-4127-e146-8f0f4853970a"
      },
      "execution_count": 75,
      "outputs": [
        {
          "output_type": "execute_result",
          "data": {
            "text/plain": [
              "[[0, 1, 2, 3, 4], [5, 6, 7, 8, 9]]"
            ]
          },
          "metadata": {},
          "execution_count": 75
        }
      ]
    },
    {
      "cell_type": "code",
      "source": [
        "# Reshaped 5x2 Array:\n",
        " [[0, 1],\n",
        " [2, 3],\n",
        " [4, 5],\n",
        " [6, 7],\n",
        " [8, 9]]"
      ],
      "metadata": {
        "colab": {
          "base_uri": "https://localhost:8080/"
        },
        "id": "Dcbz2HE2Lvnd",
        "outputId": "0540b9b4-7eae-4baa-faf4-389512206baa"
      },
      "execution_count": 76,
      "outputs": [
        {
          "output_type": "execute_result",
          "data": {
            "text/plain": [
              "[[0, 1], [2, 3], [4, 5], [6, 7], [8, 9]]"
            ]
          },
          "metadata": {},
          "execution_count": 76
        }
      ]
    },
    {
      "cell_type": "markdown",
      "source": [
        "Q3. Create a 4x4 NumPy array with random float values. Add a border of zeros around it, resulting in a 6x6 array."
      ],
      "metadata": {
        "id": "wnZJbklcMGy4"
      }
    },
    {
      "cell_type": "code",
      "source": [
        "# Original 4x4 Array:\n",
        "[[0.8678196 , 0.15011539, 0.98441141, 0.51404075],\n",
        " [0.47281166, 0.15780332, 0.94808389, 0.47052897],\n",
        " [0.75081521, 0.99531155, 0.91992204, 0.17253079],\n",
        " [0.58034472, 0.62934717, 0.83240124, 0.12760527]]\n"
      ],
      "metadata": {
        "colab": {
          "base_uri": "https://localhost:8080/"
        },
        "id": "7mm4ilJ9LzKl",
        "outputId": "3c784870-3155-48c1-d5cc-f038a560d7d5"
      },
      "execution_count": 77,
      "outputs": [
        {
          "output_type": "execute_result",
          "data": {
            "text/plain": [
              "[[0.8678196, 0.15011539, 0.98441141, 0.51404075],\n",
              " [0.47281166, 0.15780332, 0.94808389, 0.47052897],\n",
              " [0.75081521, 0.99531155, 0.91992204, 0.17253079],\n",
              " [0.58034472, 0.62934717, 0.83240124, 0.12760527]]"
            ]
          },
          "metadata": {},
          "execution_count": 77
        }
      ]
    },
    {
      "cell_type": "code",
      "source": [
        "# 6x6 Array with Border of Zeros:\n",
        "[[0.        , 0.        , 0.        , 0.        , 0.        , 0.        ],\n",
        " [0.        , 0.8678196 , 0.15011539, 0.98441141, 0.51404075, 0.        ],\n",
        " [0.        , 0.47281166, 0.15780332, 0.94808389, 0.47052897, 0.        ],\n",
        " [0.        , 0.75081521, 0.99531155, 0.91992204, 0.17253079, 0.        ],\n",
        " [0.        , 0.58034472, 0.62934717, 0.83240124, 0.12760527, 0.        ],\n",
        " [0.        , 0.        , 0.        , 0.        , 0.        , 0.        ]]\n"
      ],
      "metadata": {
        "colab": {
          "base_uri": "https://localhost:8080/"
        },
        "id": "X8OzCqOuM1U0",
        "outputId": "0165ee26-2424-4aa8-d3aa-efd6418bda18"
      },
      "execution_count": 78,
      "outputs": [
        {
          "output_type": "execute_result",
          "data": {
            "text/plain": [
              "[[0.0, 0.0, 0.0, 0.0, 0.0, 0.0],\n",
              " [0.0, 0.8678196, 0.15011539, 0.98441141, 0.51404075, 0.0],\n",
              " [0.0, 0.47281166, 0.15780332, 0.94808389, 0.47052897, 0.0],\n",
              " [0.0, 0.75081521, 0.99531155, 0.91992204, 0.17253079, 0.0],\n",
              " [0.0, 0.58034472, 0.62934717, 0.83240124, 0.12760527, 0.0],\n",
              " [0.0, 0.0, 0.0, 0.0, 0.0, 0.0]]"
            ]
          },
          "metadata": {},
          "execution_count": 78
        }
      ]
    },
    {
      "cell_type": "markdown",
      "source": [
        "Q4. Using NumPy, create an array of integers from 10 to 60 with a step of 5."
      ],
      "metadata": {
        "id": "VYGRKlq2TZH6"
      }
    },
    {
      "cell_type": "code",
      "source": [
        "import numpy as np\n",
        "\n",
        "# Create an array of integers from 10 to 60 with a step of 5\n",
        "arr = np.arange(10, 61, 5)\n",
        "\n",
        "# Print the result\n",
        "print(arr)\n"
      ],
      "metadata": {
        "colab": {
          "base_uri": "https://localhost:8080/"
        },
        "id": "902Z-XOGTvsS",
        "outputId": "70eeb22e-3e6c-4aa4-ebd1-3af6f9356764"
      },
      "execution_count": 81,
      "outputs": [
        {
          "output_type": "stream",
          "name": "stdout",
          "text": [
            "[10 15 20 25 30 35 40 45 50 55 60]\n"
          ]
        }
      ]
    },
    {
      "cell_type": "markdown",
      "source": [
        "Q5. Create a NumPy array of strings ['python', 'numpy', 'pandas']. Apply different case transformations\n",
        "(uppercase, lowercase, title case, etc.) to each element.\n"
      ],
      "metadata": {
        "id": "lVbFxCaETZka"
      }
    },
    {
      "cell_type": "code",
      "source": [
        "import numpy as np\n",
        "\n",
        "# Create a NumPy array of strings\n",
        "arr = np.array(['python', 'numpy', 'pandas'])\n",
        "\n",
        "# Apply different case transformations\n",
        "upper_case = np.char.upper(arr)           # Uppercase\n",
        "lower_case = np.char.lower(arr)           # Lowercase\n",
        "title_case = np.char.title(arr)           # Title Case\n",
        "capitalize_case = np.char.capitalize(arr) # Capitalize\n",
        "\n",
        "# Print the results\n",
        "print(\"Uppercase:\", upper_case)\n",
        "print(\"Lowercase:\", lower_case)\n",
        "print(\"Title Case:\", title_case)\n",
        "print(\"Capitalize:\", capitalize_case)"
      ],
      "metadata": {
        "colab": {
          "base_uri": "https://localhost:8080/"
        },
        "id": "EPMkL2ZGTdtp",
        "outputId": "99f640ad-04c5-42fe-c9ea-aa4b39877146"
      },
      "execution_count": 80,
      "outputs": [
        {
          "output_type": "stream",
          "name": "stdout",
          "text": [
            "Uppercase: ['PYTHON' 'NUMPY' 'PANDAS']\n",
            "Lowercase: ['python' 'numpy' 'pandas']\n",
            "Title Case: ['Python' 'Numpy' 'Pandas']\n",
            "Capitalize: ['Python' 'Numpy' 'Pandas']\n"
          ]
        }
      ]
    },
    {
      "cell_type": "markdown",
      "source": [
        "Q6. Generate a NumPy array of words. Insert a space between each character of every word in the array."
      ],
      "metadata": {
        "id": "74Wg6oLJTy9g"
      }
    },
    {
      "cell_type": "code",
      "source": [
        "import numpy as np\n",
        "\n",
        "# Create a NumPy array of words\n",
        "words = np.array(['hema', 'siri', 'madhu', 'akshi'])\n",
        "\n",
        "# Insert a space between each character of every word\n",
        "spaced_words = np.char.join(' ', words)\n",
        "\n",
        "# Print the result\n",
        "print(spaced_words)\n"
      ],
      "metadata": {
        "colab": {
          "base_uri": "https://localhost:8080/"
        },
        "id": "5bJeZdxhTkRq",
        "outputId": "92d9d96d-78cb-4db5-fb72-96b23c4ad04d"
      },
      "execution_count": 82,
      "outputs": [
        {
          "output_type": "stream",
          "name": "stdout",
          "text": [
            "['h e m a' 's i r i' 'm a d h u' 'a k s h i']\n"
          ]
        }
      ]
    },
    {
      "cell_type": "markdown",
      "source": [
        "Q7. Create two 2D NumPy arrays and perform element-wise addition, subtraction, multiplication, and division."
      ],
      "metadata": {
        "id": "RhWFoIQLUIC5"
      }
    },
    {
      "cell_type": "code",
      "source": [
        "import numpy as np\n",
        "\n",
        "# Create two 2D NumPy arrays\n",
        "array1 = np.array([[1, 2, 3], [4, 5, 6]])\n",
        "array2 = np.array([[7, 8, 9], [10, 11, 12]])\n",
        "\n",
        "# Perform element-wise addition\n",
        "addition = array1 + array2\n",
        "\n",
        "# Perform element-wise subtraction\n",
        "subtraction = array1 - array2\n",
        "\n",
        "# Perform element-wise multiplication\n",
        "multiplication = array1 * array2\n",
        "\n",
        "# Perform element-wise division\n",
        "division = array1 / array2\n",
        "\n",
        "# Print the results\n",
        "print(\"Addition:\\n\", addition)\n",
        "print(\"Subtraction:\\n\", subtraction)\n",
        "print(\"Multiplication:\\n\", multiplication)\n",
        "print(\"Division:\\n\", division)"
      ],
      "metadata": {
        "colab": {
          "base_uri": "https://localhost:8080/"
        },
        "id": "-uqJdN4RUFI4",
        "outputId": "0fc41326-5990-44db-8f98-a215a5a4dcf5"
      },
      "execution_count": 83,
      "outputs": [
        {
          "output_type": "stream",
          "name": "stdout",
          "text": [
            "Addition:\n",
            " [[ 8 10 12]\n",
            " [14 16 18]]\n",
            "Subtraction:\n",
            " [[-6 -6 -6]\n",
            " [-6 -6 -6]]\n",
            "Multiplication:\n",
            " [[ 7 16 27]\n",
            " [40 55 72]]\n",
            "Division:\n",
            " [[0.14285714 0.25       0.33333333]\n",
            " [0.4        0.45454545 0.5       ]]\n"
          ]
        }
      ]
    },
    {
      "cell_type": "markdown",
      "source": [
        "Q8. Use NumPy to create a 5x5 identity matrix, then extract its diagonal elements."
      ],
      "metadata": {
        "id": "5bk6rQ7HUHAd"
      }
    },
    {
      "cell_type": "code",
      "source": [
        "import numpy as np\n",
        "\n",
        "# Create a 5x5 identity matrix\n",
        "identity_matrix = np.eye(5)\n",
        "\n",
        "# Extract the diagonal elements\n",
        "diagonal_elements = np.diagonal(identity_matrix)\n",
        "\n",
        "# Print the results\n",
        "print(\"Identity Matrix:\\n\", identity_matrix)\n",
        "print(\"Diagonal Elements:\", diagonal_elements)"
      ],
      "metadata": {
        "colab": {
          "base_uri": "https://localhost:8080/"
        },
        "id": "ZipmnS-oUdfY",
        "outputId": "50d1d978-8a64-471c-8f0c-fdbbed9f6029"
      },
      "execution_count": 84,
      "outputs": [
        {
          "output_type": "stream",
          "name": "stdout",
          "text": [
            "Identity Matrix:\n",
            " [[1. 0. 0. 0. 0.]\n",
            " [0. 1. 0. 0. 0.]\n",
            " [0. 0. 1. 0. 0.]\n",
            " [0. 0. 0. 1. 0.]\n",
            " [0. 0. 0. 0. 1.]]\n",
            "Diagonal Elements: [1. 1. 1. 1. 1.]\n"
          ]
        }
      ]
    },
    {
      "cell_type": "markdown",
      "source": [
        "Q9. Generate a NumPy array of 100 random integers between 0 and 1000. Find and display all prime numbers in\n",
        "this array."
      ],
      "metadata": {
        "id": "RTThAbLMUflv"
      }
    },
    {
      "cell_type": "code",
      "source": [
        "import numpy as np\n",
        "\n",
        "# Function to check if a number is prime\n",
        "def is_prime(n):\n",
        "    if n <= 1:\n",
        "        return False\n",
        "    for i in range(2, int(n**0.5) + 1):\n",
        "        if n % i == 0:\n",
        "            return False\n",
        "    return True\n",
        "\n",
        "# Generate a NumPy array of 100 random integers between 0 and 1000\n",
        "random_integers = np.random.randint(0, 1000, size=100)\n",
        "\n",
        "# Find and display all prime numbers in the array\n",
        "prime_numbers = [num for num in random_integers if is_prime(num)]\n",
        "\n",
        "# Print the results\n",
        "print(\"Random Integers:\", random_integers)\n",
        "print(\"Prime Numbers:\", prime_numbers)"
      ],
      "metadata": {
        "colab": {
          "base_uri": "https://localhost:8080/"
        },
        "id": "yj4XRLgeUeoR",
        "outputId": "73b63d69-e075-4ea7-8269-7a7a241e2502"
      },
      "execution_count": 85,
      "outputs": [
        {
          "output_type": "stream",
          "name": "stdout",
          "text": [
            "Random Integers: [ 51 595 639 879 514 809 627 864 619  40 485 698 431 333  92 804 197 124\n",
            " 338 253 266  83  61 207 879 484 296 597  91 962 112 246 474 909 660 941\n",
            " 893 923 762 631 603 667 908 988 651 451  52 914 954 993 190  91 159 877\n",
            " 439 770 312 689 440 453  66 943  86  25 512 808 726 511 812 419 418 935\n",
            " 874 348 182 681 990 807 742 437   2 598 520 700 410 688 253 981 961 331\n",
            " 735 894 710 473 226 892 435 674 799 182]\n",
            "Prime Numbers: [809, 619, 431, 197, 83, 61, 941, 631, 877, 439, 419, 2, 331]\n"
          ]
        }
      ]
    },
    {
      "cell_type": "markdown",
      "source": [
        "Q10. Create a NumPy array representing daily temperatures for a month. Calculate and display the weekly\n",
        "averages"
      ],
      "metadata": {
        "id": "JB21C4jwU01g"
      }
    },
    {
      "cell_type": "code",
      "source": [
        "import numpy as np\n",
        "\n",
        "# Create a NumPy array representing daily temperatures for a month (30 days)\n",
        "np.random.seed(0)  # For reproducibility\n",
        "daily_temperatures = np.random.uniform(32, 90, 30)  # Fahrenheit\n",
        "\n",
        "# Reshape array to 5 weeks, with the last week having fewer days if needed\n",
        "# The total number of elements in the reshaped array must match the original array\n",
        "num_weeks = 5  # Change this to the desired number of weeks\n",
        "weekly_temperatures = daily_temperatures.reshape(num_weeks, -1) #-1 is inferred from the length of the array and remaining dimension which is 5\n",
        "# Calculate weekly averages\n",
        "weekly_averages = np.mean(weekly_temperatures, axis=1)\n",
        "\n",
        "# Display daily temperatures and weekly averages\n",
        "print(\"Daily Temperatures:\")\n",
        "print(daily_temperatures)\n",
        "\n",
        "print(\"\\nWeekly Temperatures:\")\n",
        "print(weekly_temperatures)\n",
        "\n",
        "print(\"\\nWeekly Averages:\")\n",
        "for i, avg in enumerate(weekly_averages):\n",
        "    print(f\"Week {i + 1}: {avg:.2f}°F\")"
      ],
      "metadata": {
        "colab": {
          "base_uri": "https://localhost:8080/"
        },
        "id": "ojOJV0sMXckb",
        "outputId": "b18cd4e1-2060-4827-cd6d-0d2b7d3e6401"
      },
      "execution_count": 95,
      "outputs": [
        {
          "output_type": "stream",
          "name": "stdout",
          "text": [
            "Daily Temperatures:\n",
            "[63.83118323 73.48098325 66.96027581 63.60322461 56.57197836 69.46185856\n",
            " 57.38005825 83.72283405 87.89244011 54.23960809 77.92005221 62.67590535\n",
            " 64.94658454 85.68460502 36.12009138 37.05349938 33.17266705 80.29195104\n",
            " 77.13309156 82.4607046  88.75986385 78.35119672 58.76580301 77.27069222\n",
            " 38.8599167  69.11541924 40.31449067 86.79079719 62.26720266 56.05039252]\n",
            "\n",
            "Weekly Temperatures:\n",
            "[[63.83118323 73.48098325 66.96027581 63.60322461 56.57197836 69.46185856]\n",
            " [57.38005825 83.72283405 87.89244011 54.23960809 77.92005221 62.67590535]\n",
            " [64.94658454 85.68460502 36.12009138 37.05349938 33.17266705 80.29195104]\n",
            " [77.13309156 82.4607046  88.75986385 78.35119672 58.76580301 77.27069222]\n",
            " [38.8599167  69.11541924 40.31449067 86.79079719 62.26720266 56.05039252]]\n",
            "\n",
            "Weekly Averages:\n",
            "Week 1: 65.65°F\n",
            "Week 2: 70.64°F\n",
            "Week 3: 56.21°F\n",
            "Week 4: 77.12°F\n",
            "Week 5: 58.90°F\n"
          ]
        }
      ]
    }
  ]
}
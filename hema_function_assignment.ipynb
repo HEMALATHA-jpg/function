{
  "nbformat": 4,
  "nbformat_minor": 0,
  "metadata": {
    "colab": {
      "provenance": [],
      "toc_visible": true
    },
    "kernelspec": {
      "name": "python3",
      "display_name": "Python 3"
    },
    "language_info": {
      "name": "python"
    }
  },
  "cells": [
    {
      "cell_type": "code",
      "source": [
        "# Python program to print even Numbers in a List\n",
        "\n",
        "# Initializing list\n",
        "list1 = [10, 21, 4, 45, 66, 93, 6]\n",
        "\n",
        "# using list comprehension\n",
        "even_nos = [num for num in list1 if num % 2 == 0]\n",
        "\n",
        "print(\"Even numbers in the list: \", even_nos)"
      ],
      "metadata": {
        "id": "DZg1dth5tDzD",
        "colab": {
          "base_uri": "https://localhost:8080/"
        },
        "outputId": "e53d1f18-8c57-4c61-ce22-a0aee6878cf4"
      },
      "execution_count": 2,
      "outputs": [
        {
          "output_type": "stream",
          "name": "stdout",
          "text": [
            "Even numbers in the list:  [10, 4, 66, 6]\n"
          ]
        }
      ]
    },
    {
      "cell_type": "code",
      "source": [
        "# Q1 Write a Python function that takes a list of numbers as input and returns the sum of all even numbers in the list.\n",
        "# Ans-->  Python program to print Even Numbers in a List\n",
        "\n",
        "# list of numbers\n",
        "list1 = [10, 21, 4, 45, 66, 93]\n",
        "\n",
        "# iterating each number in list\n",
        "for num in list1:\n",
        "\n",
        "    # checking condition\n",
        "    if num % 2 == 0:\n",
        "        print(num, end=\" \")"
      ],
      "metadata": {
        "id": "rKKmCEr6qYDu",
        "colab": {
          "base_uri": "https://localhost:8080/"
        },
        "outputId": "2a82c8d1-026d-46e2-b345-026778408981"
      },
      "execution_count": 3,
      "outputs": [
        {
          "output_type": "stream",
          "name": "stdout",
          "text": [
            "10 4 66 "
          ]
        }
      ]
    },
    {
      "cell_type": "code",
      "source": [
        "# Q2 Create a Python function that accepts a string and returns the reverse of that string.\n",
        "# Ans-->\n",
        "def reverse(s):\n",
        "    str = \"\"\n",
        "    for i in s:\n",
        "        str = i + str\n",
        "    return str\n",
        "\n",
        "s = \"Hemalatha Reddy\"\n",
        "\n",
        "print(\"The original string is : \", end=\"\")\n",
        "print(s)\n",
        "\n",
        "print(\"The reversed string(using loops) is : \", end=\"\")\n",
        "print(reverse(s))"
      ],
      "metadata": {
        "colab": {
          "base_uri": "https://localhost:8080/"
        },
        "id": "JXml6WuJeNni",
        "outputId": "a506b327-aaac-4e4d-dcc7-1d81ed6c6d35"
      },
      "execution_count": 4,
      "outputs": [
        {
          "output_type": "stream",
          "name": "stdout",
          "text": [
            "The original string is : Hemalatha Reddy\n",
            "The reversed string(using loops) is : yddeR ahtalameH\n"
          ]
        }
      ]
    },
    {
      "cell_type": "code",
      "source": [
        "# Q3 Implement a Python function that takes a list of integers and returns a new list containing the squares of each number.\n",
        "# Ans--> Create a list of integers named 'nums'\n",
        "nums = [1, 2, 3, 4, 5, 6, 7, 8, 9, 10]\n",
        "\n",
        "# Display a message indicating that the following output will show the original list of integers\n",
        "print(\"Original list of integers:\")\n",
        "print(nums)\n",
        "\n",
        "# Display a message indicating that the following output will show each number in the list squared\n",
        "print(\"\\nSquare every number of the said list:\")\n",
        "\n",
        "# Use the 'map()' function with a lambda function to square each number in the 'nums' list\n",
        "# Create a new list 'square_nums' containing the squared values of the original list\n",
        "square_nums = list(map(lambda x: x ** 2, nums))\n",
        "print(square_nums)\n"
      ],
      "metadata": {
        "id": "SPyNZ4yCtEIt",
        "colab": {
          "base_uri": "https://localhost:8080/"
        },
        "outputId": "9d3db521-1e0a-4709-aa93-f316ebc0c016"
      },
      "execution_count": 5,
      "outputs": [
        {
          "output_type": "stream",
          "name": "stdout",
          "text": [
            "Original list of integers:\n",
            "[1, 2, 3, 4, 5, 6, 7, 8, 9, 10]\n",
            "\n",
            "Square every number of the said list:\n",
            "[1, 4, 9, 16, 25, 36, 49, 64, 81, 100]\n"
          ]
        }
      ]
    },
    {
      "cell_type": "code",
      "source": [
        "# Q4 Write a Python function that checks if a given number is prime or not from 1 to 200.\n",
        "# Ans-->\n",
        "def is_prime(n):\n",
        "    if n <= 1:\n",
        "        return False\n",
        "    for i in range(2, int(n**0.5) + 1):\n",
        "        if n % i == 0:\n",
        "            return False\n",
        "    return True\n",
        "\n",
        "def prime_numbers_in_range(start, end):\n",
        "    primes = []\n",
        "    for num in range(start, end + 1):\n",
        "        if is_prime(num):\n",
        "            primes.append(num)\n",
        "    return primes\n",
        "\n",
        "print(prime_numbers_in_range(1, 200))\n"
      ],
      "metadata": {
        "id": "P-bQc-rTtESK",
        "colab": {
          "base_uri": "https://localhost:8080/"
        },
        "outputId": "8d20f5df-e92b-4d16-81df-7d4f0d496c52"
      },
      "execution_count": 6,
      "outputs": [
        {
          "output_type": "stream",
          "name": "stdout",
          "text": [
            "[2, 3, 5, 7, 11, 13, 17, 19, 23, 29, 31, 37, 41, 43, 47, 53, 59, 61, 67, 71, 73, 79, 83, 89, 97, 101, 103, 107, 109, 113, 127, 131, 137, 139, 149, 151, 157, 163, 167, 173, 179, 181, 191, 193, 197, 199]\n"
          ]
        }
      ]
    },
    {
      "cell_type": "code",
      "source": [
        "# Q5  Create an iterator class in Python that generates the Fibonacci sequence up to a specified number of terms.\n",
        "# Ans-->\n",
        "class FibonacciIterator:\n",
        "    def __init__(self, limit):\n",
        "        self.limit = limit\n",
        "        self.a = 0\n",
        "        self.b = 1\n",
        "\n",
        "    def __iter__(self):\n",
        "        return self\n",
        "\n",
        "    def __next__(self):\n",
        "        if self.a > self.limit:\n",
        "            raise StopIteration\n",
        "        current = self.a\n",
        "        self.a, self.b = self.b, self.a + self.b\n",
        "        return current\n",
        "\n",
        "# Create an instance of FibonacciIterator\n",
        "fib_iterator = FibonacciIterator(100)\n",
        "\n",
        "# Using a for loop to iterate\n",
        "print(\"Using for loop:\")\n",
        "for num in fib_iterator:\n",
        "    print(num)\n",
        "\n",
        "# Using next() to iterate\n",
        "print(\"\\nUsing next() function:\")\n",
        "fib_iterator = FibonacciIterator(100)\n",
        "print(next(fib_iterator))\n",
        "print(next(fib_iterator))\n",
        "print(next(fib_iterator))\n",
        "print(next(fib_iterator))\n",
        "print(next(fib_iterator))\n",
        "print(next(fib_iterator))\n",
        "print(next(fib_iterator))\n",
        "print(next(fib_iterator))\n",
        "print(next(fib_iterator))\n",
        "print(next(fib_iterator))\n",
        "print(next(fib_iterator))\n",
        "print(next(fib_iterator))"
      ],
      "metadata": {
        "id": "_sCP_6yNtEY3",
        "colab": {
          "base_uri": "https://localhost:8080/"
        },
        "outputId": "a4c3ae2a-99b8-4497-a6a0-53c9bb6681d5"
      },
      "execution_count": 7,
      "outputs": [
        {
          "output_type": "stream",
          "name": "stdout",
          "text": [
            "Using for loop:\n",
            "0\n",
            "1\n",
            "1\n",
            "2\n",
            "3\n",
            "5\n",
            "8\n",
            "13\n",
            "21\n",
            "34\n",
            "55\n",
            "89\n",
            "\n",
            "Using next() function:\n",
            "0\n",
            "1\n",
            "1\n",
            "2\n",
            "3\n",
            "5\n",
            "8\n",
            "13\n",
            "21\n",
            "34\n",
            "55\n",
            "89\n"
          ]
        }
      ]
    },
    {
      "cell_type": "code",
      "source": [
        "3# Q6 Write a generator function in Python that yields the powers of 2 up to a given exponent.\n",
        "# Ans-->\n",
        "def power_generator(base, exponent):\n",
        "    result = 1\n",
        "    for i in range(exponent + 1):\n",
        "        yield result\n",
        "        result *= base\n",
        "\n",
        "# Accept input from the user\n",
        "base = int(input(\"Input the base number: \"))\n",
        "exponent = int(input(\"Input the exponent: \"))\n",
        "\n",
        "# Create the generator object\n",
        "power_gen = power_generator(base, exponent)\n",
        "\n",
        "# Generate and print the powers\n",
        "print(f\"Powers of {base} up to exponent {exponent}:\")\n",
        "for power in power_gen:\n",
        "    print(power)"
      ],
      "metadata": {
        "id": "PaoiGGEftEgo",
        "colab": {
          "base_uri": "https://localhost:8080/"
        },
        "outputId": "f96bdd46-800b-470f-aecf-d1457e991fed"
      },
      "execution_count": 9,
      "outputs": [
        {
          "output_type": "stream",
          "name": "stdout",
          "text": [
            "Input the base number: 2\n",
            "Input the exponent: 5\n",
            "Powers of 2 up to exponent 5:\n",
            "1\n",
            "2\n",
            "4\n",
            "8\n",
            "16\n",
            "32\n"
          ]
        }
      ]
    },
    {
      "cell_type": "code",
      "source": [
        "# Q7  Implement a generator function that reads a file line by line and yields each line as a string.\n",
        "# Ans--> demonstrate readline()\n",
        "\n",
        "L = [\"Umadevi\\n\", \"LakshmiReddy\\n\", \"Hema\\n\", \"sirisha\\n\", \"Madhu\\n\"]\n",
        "\n",
        "# Writing to a file\n",
        "file1 = open('myfile.txt', 'w')\n",
        "file1.writelines((L))\n",
        "file1.close()\n",
        "\n",
        "# Using readline()\n",
        "file1 = open('myfile.txt', 'r')\n",
        "count = 0\n",
        "\n",
        "while True:\n",
        "    count += 1\n",
        "\n",
        "    # Get next line from file\n",
        "    line = file1.readline()\n",
        "\n",
        "    # if line is empty\n",
        "    # end of file is reached\n",
        "    if not line:\n",
        "        break\n",
        "    print(\"Line{}: {}\".format(count, line.strip()))\n",
        "\n",
        "file1.close()"
      ],
      "metadata": {
        "id": "5bCUuycKtEnc",
        "colab": {
          "base_uri": "https://localhost:8080/"
        },
        "outputId": "8a57d580-8ab2-4aad-894e-431e70388295"
      },
      "execution_count": 10,
      "outputs": [
        {
          "output_type": "stream",
          "name": "stdout",
          "text": [
            "Line1: Umadevi\n",
            "Line2: LakshmiReddy\n",
            "Line3: Hema\n",
            "Line4: sirisha\n",
            "Line5: Madhu\n"
          ]
        }
      ]
    },
    {
      "cell_type": "code",
      "source": [
        "# Q8 Use a lambda function in Python to sort a list of tuples based on the second element of each tuple.\n",
        "# Ans--> Create a list of tuples named 'subject_marks', each tuple containing a subject and its corresponding marks\n",
        "subject_marks = [('English', 88), ('Science', 90), ('Maths', 97), ('Social sciences', 82)]\n",
        "\n",
        "# Display the original list of tuples to the console\n",
        "print(\"Original list of tuples:\")\n",
        "print(subject_marks)\n",
        "\n",
        "# Sort the 'subject_marks' list of tuples based on the second element of each tuple (the marks),\n",
        "# using a lambda function as the sorting key to extract the second element\n",
        "subject_marks.sort(key=lambda x: x[1])\n",
        "\n",
        "# Display the sorted list of tuples to the console\n",
        "print(\"\\nSorting the List of Tuples:\")\n",
        "print(subject_marks)"
      ],
      "metadata": {
        "colab": {
          "base_uri": "https://localhost:8080/"
        },
        "id": "yu-MOI4MiX-V",
        "outputId": "141e9f18-50c6-4a0d-edab-1f337439436d"
      },
      "execution_count": 11,
      "outputs": [
        {
          "output_type": "stream",
          "name": "stdout",
          "text": [
            "Original list of tuples:\n",
            "[('English', 88), ('Science', 90), ('Maths', 97), ('Social sciences', 82)]\n",
            "\n",
            "Sorting the List of Tuples:\n",
            "[('Social sciences', 82), ('English', 88), ('Science', 90), ('Maths', 97)]\n"
          ]
        }
      ]
    },
    {
      "cell_type": "code",
      "source": [
        "# Q9 Write a Python program that uses `map()` to convert a list of temperatures from Celsius to Fahrenheit\n",
        "# Ans--> Temperature in celsius degree\n",
        "celsius = 47\n",
        "\n",
        "# Converting the temperature to\n",
        "# fehrenheit using the formula\n",
        "fahrenheit = (celsius * 1.8) + 32\n",
        "\n",
        "# printing the result\n",
        "print('%.2f Celsius is equivalent to: %.2f Fahrenheit'\n",
        "      % (celsius, fahrenheit))"
      ],
      "metadata": {
        "colab": {
          "base_uri": "https://localhost:8080/"
        },
        "id": "6tZdYOvZiYI6",
        "outputId": "ffb99732-f1a5-487b-dada-79f9c2d4ac78"
      },
      "execution_count": 13,
      "outputs": [
        {
          "output_type": "stream",
          "name": "stdout",
          "text": [
            "47.00 Celsius is equivalent to: 116.60 Fahrenheit\n"
          ]
        }
      ]
    },
    {
      "cell_type": "code",
      "source": [
        "# Q10 Create a Python program that uses `filter()` to remove all the vowels from a given string.\n",
        "# Ans--> Function to remove vowels\n",
        "def rem_vowel(string):\n",
        "    vowels = ['a','e','i','o','u']\n",
        "    result = [letter for letter in string if letter.lower() not in vowels]\n",
        "    result = ''.join(result)\n",
        "    print(result)\n",
        "\n",
        "# Driver program\n",
        "string = \"Hemalatha Reddy - A Computer Science Portal for Hemalatha Reddy\"\n",
        "rem_vowel(string)\n",
        "string = \"Loving Python LOL\"\n",
        "rem_vowel(string)"
      ],
      "metadata": {
        "colab": {
          "base_uri": "https://localhost:8080/"
        },
        "id": "GeugQopziYND",
        "outputId": "54cf2108-41ad-491e-eba2-92770b64b756"
      },
      "execution_count": 14,
      "outputs": [
        {
          "output_type": "stream",
          "name": "stdout",
          "text": [
            "Hmlth Rddy -  Cmptr Scnc Prtl fr Hmlth Rddy\n",
            "Lvng Pythn LL\n"
          ]
        }
      ]
    },
    {
      "cell_type": "code",
      "source": [
        "# Q11 Write a Python program, which returns a list with 2-tuples. Each tuple consists of the order number and the product of the price per item and the quantity. The product should be increased by 10,- € if the value of the order is smaller than 100,00 €.\n",
        "# Sample data: (order_number, Book Title and Author, quantity, price_per_item)\n",
        "orders = [\n",
        "    (34587, \"Learning Python, Mark Lutz\", 4, 40.95),\n",
        "    (98762, \"Programming Python, Mark Lutz\", 5, 56.80),\n",
        "    (77226, \"Head First Python, Paul Barry\", 3, 32.95),\n",
        "    (88112, \"Einführung in Python3, Bernd Klein\", 3, 24.99)\n",
        "]\n",
        "\n",
        "# Function to calculate total cost\n",
        "def calculate_total(order):\n",
        "    order_number, book_info, quantity, price_per_item = order\n",
        "    total_cost = price_per_item * quantity\n",
        "    # Apply the extra charge if total cost is less than 100\n",
        "    if total_cost < 100:\n",
        "        total_cost += 10.00\n",
        "    return (order_number, total_cost)\n",
        "\n",
        "# Using lambda and map to create the list of 2-tuples\n",
        "result = list(map(lambda order: calculate_total(order), orders))\n",
        "\n",
        "# Output the result\n",
        "print(result)"
      ],
      "metadata": {
        "colab": {
          "base_uri": "https://localhost:8080/"
        },
        "id": "d7QsUlmziYU7",
        "outputId": "4d47091a-ac53-4268-8e13-f9a326e72cf8"
      },
      "execution_count": 15,
      "outputs": [
        {
          "output_type": "stream",
          "name": "stdout",
          "text": [
            "[(34587, 163.8), (98762, 284.0), (77226, 108.85000000000001), (88112, 84.97)]\n"
          ]
        }
      ]
    },
    {
      "cell_type": "code",
      "source": [],
      "metadata": {
        "id": "4J0fFdy-iYbH"
      },
      "execution_count": null,
      "outputs": []
    }
  ]
}
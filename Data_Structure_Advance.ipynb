{
  "nbformat": 4,
  "nbformat_minor": 0,
  "metadata": {
    "colab": {
      "provenance": [],
      "authorship_tag": "ABX9TyMzjc4J2JEp1hpyLmvNujXH",
      "include_colab_link": true
    },
    "kernelspec": {
      "name": "python3",
      "display_name": "Python 3"
    },
    "language_info": {
      "name": "python"
    }
  },
  "cells": [
    {
      "cell_type": "markdown",
      "metadata": {
        "id": "view-in-github",
        "colab_type": "text"
      },
      "source": [
        "<a href=\"https://colab.research.google.com/github/HEMALATHA-jpg/data_structure/blob/main/Data_Structure_Advance.ipynb\" target=\"_parent\"><img src=\"https://colab.research.google.com/assets/colab-badge.svg\" alt=\"Open In Colab\"/></a>"
      ]
    },
    {
      "cell_type": "markdown",
      "source": [
        "**Assignment - DATA STRUCTURE ADVANCE**"
      ],
      "metadata": {
        "id": "Qdc5IVswIq5A"
      }
    },
    {
      "cell_type": "markdown",
      "source": [
        "Q1 Write a code to reverse a string."
      ],
      "metadata": {
        "id": "siQzwqNrJT_O"
      }
    },
    {
      "cell_type": "code",
      "source": [
        "# Ans-\n",
        "def reverse_string(s):\n",
        "    return s[::-1]\n",
        "\n",
        "# Example usage\n",
        "string = \"Hello, World!\"\n",
        "reversed_string = reverse_string(string)\n",
        "print(reversed_string)"
      ],
      "metadata": {
        "colab": {
          "base_uri": "https://localhost:8080/"
        },
        "id": "yLB9YTGqJRKM",
        "outputId": "dc3b7cdf-cbc4-481b-b6b0-60be07a89ae0"
      },
      "execution_count": null,
      "outputs": [
        {
          "output_type": "stream",
          "name": "stdout",
          "text": [
            "!dlroW ,olleH\n"
          ]
        }
      ]
    },
    {
      "cell_type": "markdown",
      "source": [
        "Q2 Write a code to count the number of vowels in a string."
      ],
      "metadata": {
        "id": "UeNvt-mKKGYW"
      }
    },
    {
      "cell_type": "code",
      "source": [
        "# Ans-\n",
        "def count_vowels(s):\n",
        "    vowels = 'aeiouAEIOU'\n",
        "    count = sum(1 for char in s if char in vowels)\n",
        "    return count\n",
        "\n",
        "string = \"Hemalatha reddy\"\n",
        "vowel_count = count_vowels(string)\n",
        "print(vowel_count)"
      ],
      "metadata": {
        "colab": {
          "base_uri": "https://localhost:8080/"
        },
        "id": "MsJzWujJKLv6",
        "outputId": "73444552-60af-435a-d893-e37e2088a33f"
      },
      "execution_count": null,
      "outputs": [
        {
          "output_type": "stream",
          "name": "stdout",
          "text": [
            "5\n"
          ]
        }
      ]
    },
    {
      "cell_type": "markdown",
      "source": [
        "Q3  Write a code to check if a given string is a palindrome or not."
      ],
      "metadata": {
        "id": "zHSD5CdKK2Yc"
      }
    },
    {
      "cell_type": "code",
      "source": [
        "# Ans-\n",
        "def is_palindrome(s):\n",
        "    # Normalize the string by removing spaces and converting to lowercase\n",
        "    normalized_s = ''.join(s.split()).lower()\n",
        "    return normalized_s == normalized_s[::-1]\n",
        "\n",
        "string = \"A man a plan a canal Panama\"\n",
        "result = is_palindrome(string)\n",
        "print(result)"
      ],
      "metadata": {
        "colab": {
          "base_uri": "https://localhost:8080/"
        },
        "id": "SWdn3Hg6LGjY",
        "outputId": "b239c2a5-ce23-49de-efd8-bdd4f42c762d"
      },
      "execution_count": null,
      "outputs": [
        {
          "output_type": "stream",
          "name": "stdout",
          "text": [
            "True\n"
          ]
        }
      ]
    },
    {
      "cell_type": "markdown",
      "source": [
        "Q4  Write a code to check if two given strings are anagrams of each other"
      ],
      "metadata": {
        "id": "VVvCvyFjLcbS"
      }
    },
    {
      "cell_type": "code",
      "source": [
        "# Ans-\n",
        "def are_anagrams(str1, str2):\n",
        "    # Normalize the strings by removing spaces and converting to lowercase\n",
        "    str1 = ''.join(str1.split()).lower()\n",
        "    str2 = ''.join(str2.split()).lower()\n",
        "\n",
        "    # Check if sorted characters of both strings are the same\n",
        "    return sorted(str1) == sorted(str2)\n",
        "\n",
        "string1 = \"Listen\"\n",
        "string2 = \"Silent\"\n",
        "result = are_anagrams(string1, string2)\n",
        "print(result)"
      ],
      "metadata": {
        "colab": {
          "base_uri": "https://localhost:8080/"
        },
        "id": "UaEp5YxwLUfn",
        "outputId": "ce199c7e-1c64-48b7-9796-c712576ee027"
      },
      "execution_count": null,
      "outputs": [
        {
          "output_type": "stream",
          "name": "stdout",
          "text": [
            "True\n"
          ]
        }
      ]
    },
    {
      "cell_type": "markdown",
      "source": [
        "Q5 Write a code to find all occurrences of a given substring within another string"
      ],
      "metadata": {
        "id": "k3zKIaUlL4rr"
      }
    },
    {
      "cell_type": "code",
      "source": [
        "# Ans-\n",
        "def find_substring_occurrences(main_string, substring):\n",
        "    occurrences = []\n",
        "    start = 0\n",
        "\n",
        "    while True:\n",
        "        start = main_string.find(substring, start)\n",
        "        if start == -1:\n",
        "            break\n",
        "        occurrences.append(start)\n",
        "        start += 1  # Move to the next character after the found substring\n",
        "\n",
        "    return occurrences\n",
        "\n",
        "main_string = \"This is a test. This test is only a test.\"\n",
        "substring = \"test\"\n",
        "result = find_substring_occurrences(main_string, substring)\n",
        "print(result)"
      ],
      "metadata": {
        "colab": {
          "base_uri": "https://localhost:8080/"
        },
        "id": "1HTV0XGbLwZY",
        "outputId": "9e7b4aa3-794a-405f-a2ed-f80f1d63c783"
      },
      "execution_count": null,
      "outputs": [
        {
          "output_type": "stream",
          "name": "stdout",
          "text": [
            "[10, 21, 36]\n"
          ]
        }
      ]
    },
    {
      "cell_type": "markdown",
      "source": [
        "Q6 Write a code to perform basic string compression using the counts of repeated characters"
      ],
      "metadata": {
        "id": "rMrIf2gnMUVZ"
      }
    },
    {
      "cell_type": "code",
      "source": [
        "# Ans-\n",
        "def compress_string(s):\n",
        "    # Initialize an empty result list\n",
        "    compressed = []\n",
        "    count = 1  # Initialize count for the first character\n",
        "\n",
        "    # Loop through the string, starting from the second character\n",
        "    for i in range(1, len(s)):\n",
        "        # If the current character is the same as the previous one, increase the count\n",
        "        if s[i] == s[i - 1]:\n",
        "            count += 1\n",
        "        else:\n",
        "            # Append the character and its count to the result\n",
        "            compressed.append(s[i - 1] + str(count))\n",
        "            count = 1  # Reset the count for the new character\n",
        "\n",
        "    # Append the last character and its count\n",
        "    compressed.append(s[-1] + str(count))\n",
        "\n",
        "    # Convert the list to a string\n",
        "    compressed_string = ''.join(compressed)\n",
        "\n",
        "    # Return the original string if compression does not reduce the size\n",
        "    return compressed_string if len(compressed_string) < len(s) else s\n",
        "\n",
        "input_string = \"aabbcccccddddd\"\n",
        "compressed = compress_string(input_string)\n",
        "print(compressed)"
      ],
      "metadata": {
        "colab": {
          "base_uri": "https://localhost:8080/"
        },
        "id": "1kpVXq-DMK0e",
        "outputId": "c2050573-ae68-4088-bec3-91df3e77e960"
      },
      "execution_count": null,
      "outputs": [
        {
          "output_type": "stream",
          "name": "stdout",
          "text": [
            "a2b2c5d5\n"
          ]
        }
      ]
    },
    {
      "cell_type": "markdown",
      "source": [
        "Q7 Write a code to determine if a string has all unique characters."
      ],
      "metadata": {
        "id": "d1v-viydQ2uY"
      }
    },
    {
      "cell_type": "code",
      "source": [
        "# Ans\n",
        "def has_unique_chars(s):\n",
        "    # Create an empty set to store unique characters\n",
        "    char_set = set()\n",
        "\n",
        "    # Loop through each character in the string\n",
        "    for char in s:\n",
        "        # If the character is already in the set, it means it's a duplicate\n",
        "        if char in char_set:\n",
        "            return False\n",
        "        # Otherwise, add the character to the set\n",
        "        char_set.add(char)\n",
        "\n",
        "    # If no duplicates were found, return True\n",
        "    return True\n",
        "\n",
        "input_string = \"abcdefg\"\n",
        "result = has_unique_chars(input_string)\n",
        "print(result)"
      ],
      "metadata": {
        "colab": {
          "base_uri": "https://localhost:8080/"
        },
        "id": "B7UIhHaGRh26",
        "outputId": "3aee0717-6eb8-49f2-d45b-1077c0d4edfc"
      },
      "execution_count": null,
      "outputs": [
        {
          "output_type": "stream",
          "name": "stdout",
          "text": [
            "True\n"
          ]
        }
      ]
    },
    {
      "cell_type": "markdown",
      "source": [
        "Q8  Write a code to convert a given string to uppercase or lowercase."
      ],
      "metadata": {
        "id": "8U_2kcHOSIN0"
      }
    },
    {
      "cell_type": "code",
      "source": [
        "#Ans-\n",
        "def convert_case(s, to_upper=True):\n",
        "    # Convert to uppercase if to_upper is True, otherwise to lowercase\n",
        "    if to_upper:\n",
        "        return s.upper()\n",
        "    else:\n",
        "        return s.lower()\n",
        "\n",
        "input_string = \"Hello World\"\n",
        "\n",
        "# Convert to uppercase\n",
        "uppercase_string = convert_case(input_string, to_upper=True)\n",
        "print(uppercase_string)\n",
        "\n",
        "# Convert to lowercase\n",
        "lowercase_string = convert_case(input_string, to_upper=False)\n",
        "print(lowercase_string)"
      ],
      "metadata": {
        "colab": {
          "base_uri": "https://localhost:8080/"
        },
        "id": "ligpWsHTSK5g",
        "outputId": "0a60f5b7-74fb-4ebb-a8de-7500733cf442"
      },
      "execution_count": null,
      "outputs": [
        {
          "output_type": "stream",
          "name": "stdout",
          "text": [
            "HELLO WORLD\n",
            "hello world\n"
          ]
        }
      ]
    },
    {
      "cell_type": "markdown",
      "source": [
        "Q9 Write a code to count the number of words in a string."
      ],
      "metadata": {
        "id": "JJftYRn7SbHL"
      }
    },
    {
      "cell_type": "code",
      "source": [
        "# Ans-\n",
        "def count_words(s):\n",
        "    # Split the string by whitespace into words\n",
        "    words = s.split()\n",
        "    # Return the number of words\n",
        "    return len(words)\n",
        "\n",
        "input_string = \"Hello, how are you Hema?\"\n",
        "word_count = count_words(input_string)\n",
        "print(f\"Number of words: {word_count}\")"
      ],
      "metadata": {
        "colab": {
          "base_uri": "https://localhost:8080/"
        },
        "id": "gjjrYTxQSXKY",
        "outputId": "cbd03cb1-899a-4d8b-e439-5ba7c6db71d2"
      },
      "execution_count": null,
      "outputs": [
        {
          "output_type": "stream",
          "name": "stdout",
          "text": [
            "Number of words: 5\n"
          ]
        }
      ]
    },
    {
      "cell_type": "markdown",
      "source": [
        "Q10 Write a code to concatenate two strings without using the + operator"
      ],
      "metadata": {
        "id": "35qtG6h1S3TD"
      }
    },
    {
      "cell_type": "code",
      "source": [
        "# Ans-\n",
        "def concatenate_strings(s1, s2):\n",
        "    # Use join() to concatenate strings\n",
        "    return ''.join([s1, s2])\n",
        "\n",
        "string1 = \"Hemalatha, \"\n",
        "string2 = \"Reddy\"\n",
        "concatenated_string = concatenate_strings(string1, string2)\n",
        "print(concatenated_string)"
      ],
      "metadata": {
        "colab": {
          "base_uri": "https://localhost:8080/"
        },
        "id": "6RhwHbJDSwvX",
        "outputId": "5f0681b2-0b04-4c7b-f68c-a11365d6406e"
      },
      "execution_count": null,
      "outputs": [
        {
          "output_type": "stream",
          "name": "stdout",
          "text": [
            "Hemalatha, Reddy\n"
          ]
        }
      ]
    },
    {
      "cell_type": "markdown",
      "source": [
        "Q11 Write a code to remove all occurrences of a specific element from a list."
      ],
      "metadata": {
        "id": "I-ZuL8NfTIdb"
      }
    },
    {
      "cell_type": "code",
      "source": [
        "def remove_all_occurrences(lst, element):\n",
        "    # Use list comprehension to filter out all occurrences of the element\n",
        "    return [x for x in lst if x != element]\n",
        "\n",
        "input_list = [1, 2, 3, 4, 2, 2, 5]\n",
        "element_to_remove = 2\n",
        "result = remove_all_occurrences(input_list, element_to_remove)\n",
        "print(result)"
      ],
      "metadata": {
        "colab": {
          "base_uri": "https://localhost:8080/"
        },
        "id": "UCrg6ERnTGkO",
        "outputId": "72736b84-aa6d-4d77-d3fb-27af2f4bebff"
      },
      "execution_count": null,
      "outputs": [
        {
          "output_type": "stream",
          "name": "stdout",
          "text": [
            "[1, 3, 4, 5]\n"
          ]
        }
      ]
    },
    {
      "cell_type": "markdown",
      "source": [
        "Q12  Implement a code to find the second largest number in a given list of integers."
      ],
      "metadata": {
        "id": "xpIhYQfTTjuS"
      }
    },
    {
      "cell_type": "code",
      "source": [
        "# Ans-\n",
        "def find_second_largest(lst):\n",
        "    # Remove duplicates by converting the list to a set\n",
        "    unique_lst = list(set(lst))\n",
        "\n",
        "    # Check if there are at least two unique numbers\n",
        "    if len(unique_lst) < 2:\n",
        "        return None  # Return None if there's no second largest number\n",
        "\n",
        "    # Sort the unique list in descending order and return the second element\n",
        "    unique_lst.sort(reverse=True)\n",
        "    return unique_lst[1]\n",
        "\n",
        "input_list = [10, 20, 4, 45, 99, 99]\n",
        "second_largest = find_second_largest(input_list)\n",
        "if second_largest is not None:\n",
        "    print(f\"The second largest number is: {second_largest}\")\n",
        "else:\n",
        "    print(\"There is no second largest number.\")"
      ],
      "metadata": {
        "colab": {
          "base_uri": "https://localhost:8080/"
        },
        "id": "i_fzQYwPTiQ-",
        "outputId": "843556c0-3865-4c05-e650-fbc11a9adaeb"
      },
      "execution_count": null,
      "outputs": [
        {
          "output_type": "stream",
          "name": "stdout",
          "text": [
            "The second largest number is: 45\n"
          ]
        }
      ]
    },
    {
      "cell_type": "markdown",
      "source": [
        "Q13 Create a code to count the occurrences of each element in a list and return a dictionary with elements as\n",
        "keys and their counts as values."
      ],
      "metadata": {
        "id": "S0Nm8NmEUdVh"
      }
    },
    {
      "cell_type": "code",
      "source": [
        "# Ans-\n",
        "def count_occurrences(lst):\n",
        "    # Create an empty dictionary to store the counts\n",
        "    counts = {}\n",
        "\n",
        "    # Loop through each element in the list\n",
        "    for element in lst:\n",
        "        # If the element is already in the dictionary, increment its count\n",
        "        if element in counts:\n",
        "            counts[element] += 1\n",
        "        # Otherwise, add the element to the dictionary with a count of 1\n",
        "        else:\n",
        "            counts[element] = 1\n",
        "\n",
        "    return counts\n",
        "\n",
        "input_list = [1, 2, 2, 3, 4, 4, 4, 5, 5, 5]\n",
        "occurrences = count_occurrences(input_list)\n",
        "print(occurrences)"
      ],
      "metadata": {
        "colab": {
          "base_uri": "https://localhost:8080/"
        },
        "id": "5vfc0WKBUYUr",
        "outputId": "22efb924-1f7d-4562-c6da-8f61c51e1ce2"
      },
      "execution_count": null,
      "outputs": [
        {
          "output_type": "stream",
          "name": "stdout",
          "text": [
            "{1: 1, 2: 2, 3: 1, 4: 3, 5: 3}\n"
          ]
        }
      ]
    },
    {
      "cell_type": "markdown",
      "source": [
        "Q14 Write a code to reverse a list in-place without using any built-in reverse functions"
      ],
      "metadata": {
        "id": "UVNmPSQ5VLv3"
      }
    },
    {
      "cell_type": "code",
      "source": [
        "# Ans-\n",
        "def reverse_list_in_place(lst):\n",
        "    # Initialize two pointers, one at the beginning and one at the end of the list\n",
        "    left = 0\n",
        "    right = len(lst) - 1\n",
        "\n",
        "    # Swap elements until the two pointers meet in the middle\n",
        "    while left < right:\n",
        "        # Swap the elements at left and right indices\n",
        "        lst[left], lst[right] = lst[right], lst[left]\n",
        "        # Move the pointers closer to the center\n",
        "        left += 1\n",
        "        right -= 1\n",
        "\n",
        "input_list = [1, 2, 3, 4, 5, 6, 7, 8, 9, 10]\n",
        "reverse_list_in_place(input_list)\n",
        "print(input_list)"
      ],
      "metadata": {
        "colab": {
          "base_uri": "https://localhost:8080/"
        },
        "id": "_BwRAufzU2p7",
        "outputId": "b5016da8-e85b-4089-f633-992b132e23ee"
      },
      "execution_count": null,
      "outputs": [
        {
          "output_type": "stream",
          "name": "stdout",
          "text": [
            "[10, 9, 8, 7, 6, 5, 4, 3, 2, 1]\n"
          ]
        }
      ]
    },
    {
      "cell_type": "markdown",
      "source": [
        "Q15 Implement a code to find and remove duplicates from a list while preserving the original order of\n",
        "elements."
      ],
      "metadata": {
        "id": "X8WhBFaNVirP"
      }
    },
    {
      "cell_type": "code",
      "source": [
        "# Ans-\n",
        "def remove_duplicates(lst):\n",
        "    # Create an empty set to track seen elements and an empty list for results\n",
        "    seen = set()\n",
        "    result = []\n",
        "\n",
        "    # Loop through each element in the list\n",
        "    for element in lst:\n",
        "        # If the element hasn't been seen yet, add it to the result and mark it as seen\n",
        "        if element not in seen:\n",
        "            result.append(element)\n",
        "            seen.add(element)\n",
        "\n",
        "    return result\n",
        "\n",
        "input_list = [1, 2, 3, 2, 4, 3, 5, 1]\n",
        "unique_list = remove_duplicates(input_list)\n",
        "print(unique_list)"
      ],
      "metadata": {
        "colab": {
          "base_uri": "https://localhost:8080/"
        },
        "id": "Y4qe1JuHVd6i",
        "outputId": "0c34fa0a-2df6-49b0-b4c9-f16c5080717d"
      },
      "execution_count": null,
      "outputs": [
        {
          "output_type": "stream",
          "name": "stdout",
          "text": [
            "[1, 2, 3, 4, 5]\n"
          ]
        }
      ]
    },
    {
      "cell_type": "markdown",
      "source": [
        "Q16  Create a code to check if a given list is sorted (either in ascending or descending order) or not"
      ],
      "metadata": {
        "id": "j9fV66TPV5JW"
      }
    },
    {
      "cell_type": "code",
      "source": [
        "# Ans-\n",
        "def is_sorted(lst):\n",
        "    # Check if the list is sorted in ascending order\n",
        "    if all(lst[i] <= lst[i + 1] for i in range(len(lst) - 1)):\n",
        "        return \"Ascending\"\n",
        "    # Check if the list is sorted in descending order\n",
        "    elif all(lst[i] >= lst[i + 1] for i in range(len(lst) - 1)):\n",
        "        return \"Descending\"\n",
        "    else:\n",
        "        return \"Not sorted\"\n",
        "\n",
        "\n",
        "input_list_ascending = [1, 2, 3, 4, 5]\n",
        "input_list_descending = [5, 4, 3, 2, 1]\n",
        "input_list_unsorted = [3, 1, 4, 2]\n",
        "\n",
        "print(is_sorted(input_list_ascending))\n",
        "print(is_sorted(input_list_descending))\n",
        "print(is_sorted(input_list_unsorted))"
      ],
      "metadata": {
        "colab": {
          "base_uri": "https://localhost:8080/"
        },
        "id": "5Qz2E7BZV3HQ",
        "outputId": "1af4dae0-80a2-462c-c02d-c40dd40fa1cf"
      },
      "execution_count": null,
      "outputs": [
        {
          "output_type": "stream",
          "name": "stdout",
          "text": [
            "Ascending\n",
            "Descending\n",
            "Not sorted\n"
          ]
        }
      ]
    },
    {
      "cell_type": "markdown",
      "source": [
        "Q17 Write a code to merge two sorted lists into a single sorted list"
      ],
      "metadata": {
        "id": "a1vZX5hYWOuc"
      }
    },
    {
      "cell_type": "code",
      "source": [
        "# Ans\n",
        "def merge_sorted_lists(list1, list2):\n",
        "    merged_list = []\n",
        "    i, j = 0, 0\n",
        "\n",
        "    # Merge the two lists by comparing elements\n",
        "    while i < len(list1) and j < len(list2):\n",
        "        if list1[i] < list2[j]:\n",
        "            merged_list.append(list1[i])\n",
        "            i += 1\n",
        "        else:\n",
        "            merged_list.append(list2[j])\n",
        "            j += 1\n",
        "\n",
        "    # Append any remaining elements from list1 or list2\n",
        "    merged_list.extend(list1[i:])\n",
        "    merged_list.extend(list2[j:])\n",
        "\n",
        "    return merged_list\n",
        "\n",
        "list1 = [1, 3, 5, 7]\n",
        "list2 = [2, 4, 6, 8]\n",
        "merged_list = merge_sorted_lists(list1, list2)\n",
        "print(merged_list)"
      ],
      "metadata": {
        "id": "7emoWwlbWIFo",
        "colab": {
          "base_uri": "https://localhost:8080/"
        },
        "outputId": "33fa2056-5b6b-4128-8c6c-95c6dc0b48fe"
      },
      "execution_count": 1,
      "outputs": [
        {
          "output_type": "stream",
          "name": "stdout",
          "text": [
            "[1, 2, 3, 4, 5, 6, 7, 8]\n"
          ]
        }
      ]
    },
    {
      "cell_type": "markdown",
      "source": [
        "Q18  Implement a code to find the intersection of two given lists"
      ],
      "metadata": {
        "id": "GaLkrma2GT8X"
      }
    },
    {
      "cell_type": "code",
      "source": [
        "# Ans\n",
        "def find_intersection(list1, list2):\n",
        "    # Convert both lists to sets and find the intersection\n",
        "    intersection = list(set(list1) & set(list2))\n",
        "    return intersection\n",
        "\n",
        "list1 = [1, 2, 3, 4, 5]\n",
        "list2 = [4, 5, 6, 7, 8]\n",
        "intersection = find_intersection(list1, list2)\n",
        "print(intersection)"
      ],
      "metadata": {
        "colab": {
          "base_uri": "https://localhost:8080/"
        },
        "id": "HnD4d2mZGSNU",
        "outputId": "88ce37dc-fe74-457c-db94-d852d37bf716"
      },
      "execution_count": 2,
      "outputs": [
        {
          "output_type": "stream",
          "name": "stdout",
          "text": [
            "[4, 5]\n"
          ]
        }
      ]
    },
    {
      "cell_type": "markdown",
      "source": [
        "Q19  Create a code to find the union of two lists without duplicates"
      ],
      "metadata": {
        "id": "wMMtr_ArJoCy"
      }
    },
    {
      "cell_type": "code",
      "source": [
        "def find_union(list1, list2):\n",
        "    # Convert both lists to sets and find the union\n",
        "    union = list(set(list1) | set(list2))\n",
        "    return union\n",
        "\n",
        "list1 = [1, 2, 3, 4, 5]\n",
        "list2 = [4, 5, 6, 7, 8]\n",
        "union = find_union(list1, list2)\n",
        "print(union)"
      ],
      "metadata": {
        "colab": {
          "base_uri": "https://localhost:8080/"
        },
        "id": "2iC8ur-BJv5i",
        "outputId": "175ecf82-b0e4-4963-87cc-819fb070a6de"
      },
      "execution_count": 3,
      "outputs": [
        {
          "output_type": "stream",
          "name": "stdout",
          "text": [
            "[1, 2, 3, 4, 5, 6, 7, 8]\n"
          ]
        }
      ]
    },
    {
      "cell_type": "markdown",
      "source": [
        "Q20 Write a code to shuffle a given list randomly without using any built-in shuffle functions"
      ],
      "metadata": {
        "id": "hiNlmZJuJ8le"
      }
    },
    {
      "cell_type": "code",
      "source": [
        "# Ans\n",
        "import random\n",
        "\n",
        "def shuffle_list(input_list):\n",
        "    # Loop through the list and swap each element with a randomly chosen one\n",
        "    for i in range(len(input_list)):\n",
        "        # Generate a random index from the remaining unshuffled portion\n",
        "        rand_index = random.randint(0, i)\n",
        "        # Swap the current element with the randomly chosen one\n",
        "        input_list[i], input_list[rand_index] = input_list[rand_index], input_list[i]\n",
        "    return input_list\n",
        "\n",
        "my_list = [1, 2, 3, 4, 5, 6, 7, 8]\n",
        "shuffled_list = shuffle_list(my_list)\n",
        "print(shuffled_list)"
      ],
      "metadata": {
        "colab": {
          "base_uri": "https://localhost:8080/"
        },
        "id": "RurvOdEEJ7vS",
        "outputId": "df0f6e3a-f409-4a48-fc71-5f7a36ece56a"
      },
      "execution_count": 4,
      "outputs": [
        {
          "output_type": "stream",
          "name": "stdout",
          "text": [
            "[3, 5, 4, 7, 1, 2, 8, 6]\n"
          ]
        }
      ]
    },
    {
      "cell_type": "markdown",
      "source": [
        "Q21 Write a code that takes two tuples as input and returns a new tuple containing elements that are\n",
        "common to both input tuples"
      ],
      "metadata": {
        "id": "cMvJr7UKKS1F"
      }
    },
    {
      "cell_type": "code",
      "source": [
        "# Ans\n",
        "def common_elements(tuple1, tuple2):\n",
        "    # Use set intersection to find common elements and convert it back to a tuple\n",
        "    common = tuple(set(tuple1) & set(tuple2))\n",
        "    return common\n",
        "\n",
        "tuple1 = (1, 2, 3, 4, 5)\n",
        "tuple2 = (4, 5, 6, 7, 8)\n",
        "result = common_elements(tuple1, tuple2)\n",
        "print(result)"
      ],
      "metadata": {
        "colab": {
          "base_uri": "https://localhost:8080/"
        },
        "id": "fYSqqiKlKRrZ",
        "outputId": "1ec75270-a228-498a-88b5-d6b4a26952bf"
      },
      "execution_count": 5,
      "outputs": [
        {
          "output_type": "stream",
          "name": "stdout",
          "text": [
            "(4, 5)\n"
          ]
        }
      ]
    },
    {
      "cell_type": "markdown",
      "source": [
        "Q22 Create a code that prompts the user to enter two sets of integers separated by commas. Then, print the\n",
        "intersection of these two sets"
      ],
      "metadata": {
        "id": "WI9-dneBKtDt"
      }
    },
    {
      "cell_type": "code",
      "source": [
        "# Ans\n",
        "def get_set_from_input(prompt):\n",
        "    # Prompt the user to enter a set of integers separated by commas\n",
        "    user_input = input(prompt)\n",
        "    # Convert the input string into a set of integers\n",
        "    return set(map(int, user_input.split(',')))\n",
        "\n",
        "# Get two sets of integers from the user\n",
        "set1 = get_set_from_input(\"Enter the first set of integers, separated by commas: \")\n",
        "set2 = get_set_from_input(\"Enter the second set of integers, separated by commas: \")\n",
        "\n",
        "# Find the intersection of the two sets\n",
        "intersection = set1 & set2\n",
        "\n",
        "# Print the intersection\n",
        "print(\"Intersection of the two sets:\", intersection)"
      ],
      "metadata": {
        "colab": {
          "base_uri": "https://localhost:8080/"
        },
        "id": "N3ZnywYWKr3p",
        "outputId": "c892fd39-5d94-442c-ae24-2dda7dd066ad"
      },
      "execution_count": 6,
      "outputs": [
        {
          "output_type": "stream",
          "name": "stdout",
          "text": [
            "Enter the first set of integers, separated by commas: 1,2,3,4,5\n",
            "Enter the second set of integers, separated by commas: 3,4,5,6,7\n",
            "Intersection of the two sets: {3, 4, 5}\n"
          ]
        }
      ]
    },
    {
      "cell_type": "markdown",
      "source": [
        "Q23 Write a code to concatenate two tuples. The function should take two tuples as input and return a new\n",
        "tuple containing elements from both input tuples"
      ],
      "metadata": {
        "id": "vqriybDQLH5E"
      }
    },
    {
      "cell_type": "code",
      "source": [
        "# Ans\n",
        "def concatenate_tuples(tuple1, tuple2):\n",
        "    # Concatenate the two tuples using the + operator\n",
        "    return tuple1 + tuple2\n",
        "\n",
        "tuple1 = (1, 2, 3)\n",
        "tuple2 = (4, 5, 6)\n",
        "result = concatenate_tuples(tuple1, tuple2)\n",
        "print(result)"
      ],
      "metadata": {
        "colab": {
          "base_uri": "https://localhost:8080/"
        },
        "id": "bzMt-tLCK_dw",
        "outputId": "d4bd5e2b-4ab4-4b8d-be09-2cc3d7122112"
      },
      "execution_count": 7,
      "outputs": [
        {
          "output_type": "stream",
          "name": "stdout",
          "text": [
            "(1, 2, 3, 4, 5, 6)\n"
          ]
        }
      ]
    },
    {
      "cell_type": "markdown",
      "source": [
        "Q24  Develop a code that prompts the user to input two sets of strings. Then, print the elements that are\n",
        "present in the first set but not in the second set\n"
      ],
      "metadata": {
        "id": "pPU0VimELXlt"
      }
    },
    {
      "cell_type": "code",
      "source": [
        "def get_set_from_input(prompt):\n",
        "    # Prompt the user to enter a set of strings separated by commas\n",
        "    user_input = input(prompt)\n",
        "    # Convert the input string into a set of strings\n",
        "    return set(user_input.split(','))\n",
        "\n",
        "# Get two sets of strings from the user\n",
        "set1 = get_set_from_input(\"Enter the first set of strings, separated by commas: \")\n",
        "set2 = get_set_from_input(\"Enter the second set of strings, separated by commas: \")\n",
        "\n",
        "# Find elements that are in set1 but not in set2\n",
        "difference = set1 - set2\n",
        "\n",
        "# Print the elements present in the first set but not in the second\n",
        "print(\"Elements in the first set but not in the second set:\", difference)"
      ],
      "metadata": {
        "colab": {
          "base_uri": "https://localhost:8080/"
        },
        "id": "7fVYSrrDLWqP",
        "outputId": "79b5c0e3-bc63-46b3-bde5-ae3fb5e54de5"
      },
      "execution_count": 8,
      "outputs": [
        {
          "output_type": "stream",
          "name": "stdout",
          "text": [
            "Enter the first set of strings, separated by commas: orange, grapes, apple\n",
            "Enter the second set of strings, separated by commas: banana, orange, grapes\n",
            "Elements in the first set but not in the second set: {'orange', ' apple'}\n"
          ]
        }
      ]
    },
    {
      "cell_type": "markdown",
      "source": [
        "Q25  Create a code that takes a tuple and two integers as input. The function should return a new tuple\n",
        "containing elements from the original tuple within the specified range of indices"
      ],
      "metadata": {
        "id": "atwFeniQVce_"
      }
    },
    {
      "cell_type": "code",
      "source": [
        "def slice_tuple(input_tuple, start, end):\n",
        "    # Use slicing to get the elements from start to end indices\n",
        "    return input_tuple[start:end]\n",
        "\n",
        "# Example usage:\n",
        "input_tuple = (1, 2, 3, 4, 5, 6, 7, 8)\n",
        "start_index = int(input(\"Enter the start index: \"))\n",
        "end_index = int(input(\"Enter the end index: \"))\n",
        "\n",
        "# Get the sliced tuple\n",
        "result = slice_tuple(input_tuple, start_index, end_index)\n",
        "print(\"Sliced tuple:\", result)"
      ],
      "metadata": {
        "colab": {
          "base_uri": "https://localhost:8080/"
        },
        "id": "NDRlSJwrVD2i",
        "outputId": "bf432055-7125-460d-a83e-3788d244e6fa"
      },
      "execution_count": 9,
      "outputs": [
        {
          "output_type": "stream",
          "name": "stdout",
          "text": [
            "Enter the start index: 2\n",
            "Enter the end index: 7\n",
            "Sliced tuple: (3, 4, 5, 6, 7)\n"
          ]
        }
      ]
    },
    {
      "cell_type": "markdown",
      "source": [
        "Q26 Write a code that prompts the user to input two sets of characters. Then, print the union of these two sets\n"
      ],
      "metadata": {
        "id": "fZBrIGaLV17v"
      }
    },
    {
      "cell_type": "code",
      "source": [
        "def get_set_from_input(prompt):\n",
        "    # Prompt the user to enter a set of characters separated by commas\n",
        "    user_input = input(prompt)\n",
        "    # Convert the input string into a set of characters\n",
        "    return set(user_input.split(','))\n",
        "\n",
        "# Get two sets of characters from the user\n",
        "set1 = get_set_from_input(\"Enter the first set of characters, separated by commas: \")\n",
        "set2 = get_set_from_input(\"Enter the second set of characters, separated by commas: \")\n",
        "\n",
        "# Find the union of the two sets\n",
        "union = set1 | set2\n",
        "\n",
        "# Print the union\n",
        "print(\"Union of the two sets:\", union)"
      ],
      "metadata": {
        "colab": {
          "base_uri": "https://localhost:8080/"
        },
        "id": "dtT8gSm2WEV_",
        "outputId": "fd38927f-119f-4af7-a6bc-b5942a21f996"
      },
      "execution_count": 12,
      "outputs": [
        {
          "output_type": "stream",
          "name": "stdout",
          "text": [
            "Enter the first set of characters, separated by commas: a, b, c\n",
            "Enter the second set of characters, separated by commas: c, d, e\n",
            "Union of the two sets: {'c', ' d', ' b', 'a', ' e', ' c'}\n"
          ]
        }
      ]
    },
    {
      "cell_type": "markdown",
      "source": [
        "Q27 Develop a code that takes a tuple of integers as input. The function should return the maximum and\n",
        "minimum values from the tuple using tuple unpacking"
      ],
      "metadata": {
        "id": "17tsIc5sWl78"
      }
    },
    {
      "cell_type": "code",
      "source": [
        "def get_max_min(input_tuple):\n",
        "    # Use the built-in max() and min() functions to find the maximum and minimum\n",
        "    max_value = max(input_tuple)\n",
        "    min_value = min(input_tuple)\n",
        "    return max_value, min_value\n",
        "\n",
        "# Example usage:\n",
        "input_tuple = (3, 1, 4, 1, 5, 9, 2)\n",
        "max_value, min_value = get_max_min(input_tuple)\n",
        "\n",
        "print(\"Maximum value:\", max_value)\n",
        "print(\"Minimum value:\", min_value)"
      ],
      "metadata": {
        "colab": {
          "base_uri": "https://localhost:8080/"
        },
        "id": "fHP9g7ymWMbg",
        "outputId": "5f6bf617-f79d-45c8-e301-3845db16e3c7"
      },
      "execution_count": 13,
      "outputs": [
        {
          "output_type": "stream",
          "name": "stdout",
          "text": [
            "Maximum value: 9\n",
            "Minimum value: 1\n"
          ]
        }
      ]
    },
    {
      "cell_type": "markdown",
      "source": [
        "Q28  Create a code that defines two sets of integers. Then, print the union, intersection, and difference of these\n",
        "two sets"
      ],
      "metadata": {
        "id": "lHjFrOD3W7ST"
      }
    },
    {
      "cell_type": "code",
      "source": [
        "# Define two sets of integers\n",
        "set1 = {1, 2, 3, 4, 5}\n",
        "set2 = {4, 5, 6, 7, 8}\n",
        "\n",
        "# Calculate union, intersection, and difference\n",
        "union = set1 | set2\n",
        "intersection = set1 & set2\n",
        "difference = set1 - set2\n",
        "\n",
        "# Print the results\n",
        "print(\"Set 1:\", set1)\n",
        "print(\"Set 2:\", set2)\n",
        "print(\"Union:\", union)\n",
        "print(\"Intersection:\", intersection)\n",
        "print(\"Difference (Set 1 - Set 2):\", difference)"
      ],
      "metadata": {
        "colab": {
          "base_uri": "https://localhost:8080/"
        },
        "id": "CEpYkRo9WvA-",
        "outputId": "98971ba6-75eb-4567-ae34-4165c122db5a"
      },
      "execution_count": 15,
      "outputs": [
        {
          "output_type": "stream",
          "name": "stdout",
          "text": [
            "Set 1: {1, 2, 3, 4, 5}\n",
            "Set 2: {4, 5, 6, 7, 8}\n",
            "Union: {1, 2, 3, 4, 5, 6, 7, 8}\n",
            "Intersection: {4, 5}\n",
            "Difference (Set 1 - Set 2): {1, 2, 3}\n"
          ]
        }
      ]
    },
    {
      "cell_type": "markdown",
      "source": [
        "Q29 Write a code that takes a tuple and an element as input. The function should return the count of\n",
        "occurrences of the given element in the tuple"
      ],
      "metadata": {
        "id": "hIIhv1WVXIcU"
      }
    },
    {
      "cell_type": "code",
      "source": [
        "def count_occurrences(input_tuple, element):\n",
        "    # Use the count() method to get the number of occurrences\n",
        "    return input_tuple.count(element)\n",
        "\n",
        "# Example usage:\n",
        "input_tuple = (1, 2, 3, 4, 1, 5, 1)\n",
        "element = int(input(\"Enter an element to count its occurrences: \"))\n",
        "\n",
        "# Get the count of occurrences\n",
        "occurrences = count_occurrences(input_tuple, element)\n",
        "print(f\"The element {element} occurs {occurrences} times in the tuple.\")"
      ],
      "metadata": {
        "colab": {
          "base_uri": "https://localhost:8080/"
        },
        "id": "3RQZkWprW5e2",
        "outputId": "34efcbbd-5604-45ec-cc2d-f6a99f821dc3"
      },
      "execution_count": 16,
      "outputs": [
        {
          "output_type": "stream",
          "name": "stdout",
          "text": [
            "Enter an element to count its occurrences: 2\n",
            "The element 2 occurs 1 times in the tuple.\n"
          ]
        }
      ]
    },
    {
      "cell_type": "markdown",
      "source": [
        "Q30  Develop a code that prompts the user to input two sets of strings. Then, print the symmetric difference of\n",
        "these two sets"
      ],
      "metadata": {
        "id": "dZ15Md3bXVda"
      }
    },
    {
      "cell_type": "code",
      "source": [
        "def get_set_from_input(prompt):\n",
        "    # Prompt the user to enter a set of strings separated by commas\n",
        "    user_input = input(prompt)\n",
        "    # Convert the input string into a set of strings\n",
        "    return set(user_input.split(','))\n",
        "\n",
        "# Get two sets of strings from the user\n",
        "set1 = get_set_from_input(\"Enter the first set of strings, separated by commas: \")\n",
        "set2 = get_set_from_input(\"Enter the second set of strings, separated by commas: \")\n",
        "\n",
        "# Find the symmetric difference of the two sets\n",
        "symmetric_difference = set1 ^ set2\n",
        "\n",
        "# Print the symmetric difference\n",
        "print(\"Symmetric difference of the two sets:\", symmetric_difference)"
      ],
      "metadata": {
        "colab": {
          "base_uri": "https://localhost:8080/"
        },
        "id": "0qNRxWMoXRHN",
        "outputId": "d191a148-b93e-4125-d26e-fe4058057839"
      },
      "execution_count": 17,
      "outputs": [
        {
          "output_type": "stream",
          "name": "stdout",
          "text": [
            "Enter the first set of strings, separated by commas: apple, banana, orange\n",
            "Enter the second set of strings, separated by commas: grape, banana, orange\n",
            "Symmetric difference of the two sets: {'grape', 'apple'}\n"
          ]
        }
      ]
    },
    {
      "cell_type": "markdown",
      "source": [
        "Q31 Write a code that takes a list of words as input and returns a dictionary where the keys are unique words\n",
        "and the values are the frequencies of those words in the input list"
      ],
      "metadata": {
        "id": "QHv1bcdmXmu5"
      }
    },
    {
      "cell_type": "code",
      "source": [
        "def word_frequencies(words):\n",
        "    frequency_dict = {}\n",
        "    for word in words:\n",
        "        # Increment the count for each word in the dictionary\n",
        "        frequency_dict[word] = frequency_dict.get(word, 0) + 1\n",
        "    return frequency_dict\n",
        "\n",
        "# Example usage:\n",
        "input_words = input(\"Enter a list of words separated by spaces: \").split()\n",
        "result = word_frequencies(input_words)\n",
        "\n",
        "print(\"Word Frequencies:\", result)"
      ],
      "metadata": {
        "colab": {
          "base_uri": "https://localhost:8080/"
        },
        "id": "NTU16lj3Xgp8",
        "outputId": "c191b359-18b9-46a1-ea3e-1838d7343466"
      },
      "execution_count": 18,
      "outputs": [
        {
          "output_type": "stream",
          "name": "stdout",
          "text": [
            "Enter a list of words separated by spaces: apple mango banana mango apple \n",
            "Word Frequencies: {'apple': 2, 'mango': 2, 'banana': 1}\n"
          ]
        }
      ]
    },
    {
      "cell_type": "markdown",
      "source": [
        "Q32 Write a code that takes two dictionaries as input and merges them into a single dictionary. If there are\n",
        "common keys, the values should be added together"
      ],
      "metadata": {
        "id": "-fifdUK1X6kB"
      }
    },
    {
      "cell_type": "code",
      "source": [
        "def merge_dictionaries(dict1, dict2):\n",
        "    merged_dict = dict1.copy()  # Start with a copy of the first dictionary\n",
        "\n",
        "    for key, value in dict2.items():\n",
        "        if key in merged_dict:\n",
        "            merged_dict[key] += value  # Add values for common keys\n",
        "        else:\n",
        "            merged_dict[key] = value  # Add new key-value pairs\n",
        "\n",
        "    return merged_dict\n",
        "\n",
        "# Example usage:\n",
        "dict1 = {'a': 1, 'b': 2, 'c': 3}\n",
        "dict2 = {'b': 3, 'c': 4, 'd': 5}\n",
        "\n",
        "result = merge_dictionaries(dict1, dict2)\n",
        "print(\"Merged Dictionary:\", result)"
      ],
      "metadata": {
        "colab": {
          "base_uri": "https://localhost:8080/"
        },
        "id": "SkgUSFlrXwrM",
        "outputId": "bd8b94e2-c751-403b-fc0a-2d97eda533dc"
      },
      "execution_count": 19,
      "outputs": [
        {
          "output_type": "stream",
          "name": "stdout",
          "text": [
            "Merged Dictionary: {'a': 1, 'b': 5, 'c': 7, 'd': 5}\n"
          ]
        }
      ]
    },
    {
      "cell_type": "markdown",
      "source": [
        "Q33 Write a code to access a value in a nested dictionary. The function should take the dictionary and a list of\n",
        "keys as input, and return the corresponding value. If any of the keys do not exist in the dictionary, the\n",
        "function should return None"
      ],
      "metadata": {
        "id": "cz5Bn2jPYGmU"
      }
    },
    {
      "cell_type": "code",
      "source": [
        "def access_nested_value(nested_dict, keys):\n",
        "    current = nested_dict\n",
        "    for key in keys:\n",
        "        if key in current:\n",
        "            current = current[key]  # Move to the next level in the dictionary\n",
        "        else:\n",
        "            return None  # Return None if any key is not found\n",
        "    return current\n",
        "\n",
        "# Example usage:\n",
        "nested_dict = {\n",
        "    'a': {\n",
        "        'b': {\n",
        "            'c': 1\n",
        "        }\n",
        "    },\n",
        "    'x': {\n",
        "        'y': 2\n",
        "    }\n",
        "}\n",
        "\n",
        "keys = ['a', 'b', 'c']\n",
        "result = access_nested_value(nested_dict, keys)\n",
        "print(\"Accessed Value:\", result)  # Output: Accessed Value: 1"
      ],
      "metadata": {
        "colab": {
          "base_uri": "https://localhost:8080/"
        },
        "id": "9zqLlgfPYFnj",
        "outputId": "abd16515-576e-4aa1-9693-74f93992e573"
      },
      "execution_count": 20,
      "outputs": [
        {
          "output_type": "stream",
          "name": "stdout",
          "text": [
            "Accessed Value: 1\n"
          ]
        }
      ]
    },
    {
      "cell_type": "markdown",
      "source": [
        "Q34 Write a code that takes a dictionary as input and returns a sorted version of it based on the values. You\n",
        "can choose whether to sort in ascending or descending order"
      ],
      "metadata": {
        "id": "l3JkuOEDYSuQ"
      }
    },
    {
      "cell_type": "code",
      "source": [
        "def sort_dictionary_by_value(input_dict, ascending=True):\n",
        "    # Sort the dictionary by values and return a new dictionary\n",
        "    sorted_dict = dict(sorted(input_dict.items(), key=lambda item: item[1], reverse=not ascending))\n",
        "    return sorted_dict\n",
        "\n",
        "# Example usage:\n",
        "input_dict = {\n",
        "    'apple': 3,\n",
        "    'banana': 1,\n",
        "    'cherry': 2\n",
        "}\n",
        "\n",
        "# Sort in ascending order\n",
        "sorted_ascending = sort_dictionary_by_value(input_dict, ascending=True)\n",
        "print(\"Sorted Dictionary (Ascending):\", sorted_ascending)\n",
        "\n",
        "# Sort in descending order\n",
        "sorted_descending = sort_dictionary_by_value(input_dict, ascending=False)\n",
        "print(\"Sorted Dictionary (Descending):\", sorted_descending)"
      ],
      "metadata": {
        "colab": {
          "base_uri": "https://localhost:8080/"
        },
        "id": "VlV95Y6FYQ7T",
        "outputId": "bac8f47b-58df-4e33-d4ae-09920b3ba1db"
      },
      "execution_count": 21,
      "outputs": [
        {
          "output_type": "stream",
          "name": "stdout",
          "text": [
            "Sorted Dictionary (Ascending): {'banana': 1, 'cherry': 2, 'apple': 3}\n",
            "Sorted Dictionary (Descending): {'apple': 3, 'cherry': 2, 'banana': 1}\n"
          ]
        }
      ]
    },
    {
      "cell_type": "markdown",
      "source": [
        "Q35 Write a code that inverts a dictionary, swapping keys and values. Ensure that the inverted dictionary\n",
        "correctly handles cases where multiple keys have the same value by storing the keys as a list in the\n",
        "inverted dictionary"
      ],
      "metadata": {
        "id": "dAJOy0jNYkup"
      }
    },
    {
      "cell_type": "code",
      "source": [
        "def invert_dictionary(input_dict):\n",
        "    inverted_dict = {}\n",
        "    for key, value in input_dict.items():\n",
        "        # If the value already exists in the inverted dictionary, append the key to the list\n",
        "        if value in inverted_dict:\n",
        "            inverted_dict[value].append(key)\n",
        "        else:\n",
        "            inverted_dict[value] = [key]  # Create a new list for the first occurrence of the value\n",
        "    return inverted_dict\n",
        "\n",
        "# Example usage:\n",
        "input_dict = {\n",
        "    'a': 1,\n",
        "    'b': 2,\n",
        "    'c': 1,\n",
        "    'd': 3,\n",
        "    'e': 2\n",
        "}\n",
        "\n",
        "inverted = invert_dictionary(input_dict)\n",
        "print(\"Inverted Dictionary:\", inverted)"
      ],
      "metadata": {
        "colab": {
          "base_uri": "https://localhost:8080/"
        },
        "id": "pX2cyrLIYjpS",
        "outputId": "059ad5e3-f24a-4496-afbe-615807d782a9"
      },
      "execution_count": 22,
      "outputs": [
        {
          "output_type": "stream",
          "name": "stdout",
          "text": [
            "Inverted Dictionary: {1: ['a', 'c'], 2: ['b', 'e'], 3: ['d']}\n"
          ]
        }
      ]
    }
  ]
}
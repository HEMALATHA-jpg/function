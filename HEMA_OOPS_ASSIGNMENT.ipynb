{
  "nbformat": 4,
  "nbformat_minor": 0,
  "metadata": {
    "colab": {
      "provenance": [],
      "authorship_tag": "ABX9TyPPwIKUalv4YgEh0lggs/F8",
      "include_colab_link": true
    },
    "kernelspec": {
      "name": "python3",
      "display_name": "Python 3"
    },
    "language_info": {
      "name": "python"
    }
  },
  "cells": [
    {
      "cell_type": "markdown",
      "metadata": {
        "id": "view-in-github",
        "colab_type": "text"
      },
      "source": [
        "<a href=\"https://colab.research.google.com/github/HEMALATHA-jpg/function/blob/main/HEMA_OOPS_ASSIGNMENT.ipynb\" target=\"_parent\"><img src=\"https://colab.research.google.com/assets/colab-badge.svg\" alt=\"Open In Colab\"/></a>"
      ]
    },
    {
      "cell_type": "code",
      "execution_count": null,
      "metadata": {
        "id": "7BU-Jfo8tOH7"
      },
      "outputs": [],
      "source": []
    },
    {
      "cell_type": "markdown",
      "source": [
        "Q1 What are the five key concepts of Object-Oriented Programming (OOP)?\n",
        "\n",
        "ANS-> The five key concepts of Object-Oriented Programming (OOP) are:\n",
        "\n",
        "* Classes and Objects:\n",
        "\n",
        "Class: A blueprint or template for creating objects. It defines the properties (attributes) and behaviors (methods) that the objects created from it will have.\n",
        "Object: An instance of a class. Objects are created based on the class and have their own values for the properties defined in the class.\n",
        "\n",
        "* Encapsulation:\n",
        "\n",
        "Encapsulation involves bundling the data (attributes) and methods (functions or behaviors) that operate on the data into a single unit, or class. It also restricts direct access to some of an object's components, which is typically done by using access specifiers (like private, public, and protected in languages like Java or C++).\n",
        "\n",
        "* Abstraction:\n",
        "\n",
        "Abstraction means hiding the complex implementation details and showing only the essential features of an object. This simplifies interaction with the object, providing a clear interface and reducing complexity for the user.\n",
        "\n",
        "* Inheritance:\n",
        "\n",
        "Inheritance allows a new class (called a subclass or derived class) to inherit properties and behaviors from an existing class (called a superclass or base class). This promotes code reuse and establishes a relationship between the parent and child classes.\n",
        "\n",
        "* Polymorphism:\n",
        "\n",
        "Polymorphism allows objects of different classes to be treated as objects of a common superclass. It also enables the same method to behave differently based on the object that invokes it. This is often achieved through method overloading (same method name, different parameters) or method overriding (subclass provides a specific implementation of a method that is already defined in the superclass)."
      ],
      "metadata": {
        "id": "P1kbJ5IHtUDh"
      }
    },
    {
      "cell_type": "markdown",
      "source": [
        "Q2. Write a Python class for a `Car` with attributes for `make`, `model`, and `year`. Include a method to display\n",
        "the car's information."
      ],
      "metadata": {
        "id": "yqDzwLABtd4X"
      }
    },
    {
      "cell_type": "code",
      "source": [
        "class Car:\n",
        "    def __init__(self, make, model, year):\n",
        "        self.make = make\n",
        "        self.model = model\n",
        "        self.year = year\n",
        "\n",
        "    def display_info(self):\n",
        "        print(f\"Car Information: {self.year} {self.make} {self.model}\")\n",
        "\n",
        "my_car = Car(\"Toyota\", \"Corolla\", 2021)\n",
        "my_car.display_info()"
      ],
      "metadata": {
        "colab": {
          "base_uri": "https://localhost:8080/"
        },
        "id": "muFGG-GaudEl",
        "outputId": "4dde57b5-01ce-411e-ba35-4a46f9bfdb8c"
      },
      "execution_count": null,
      "outputs": [
        {
          "output_type": "stream",
          "name": "stdout",
          "text": [
            "Car Information: 2021 Toyota Corolla\n"
          ]
        }
      ]
    },
    {
      "cell_type": "markdown",
      "source": [
        "Q3  Explain the difference between instance methods and class methods. Provide an example of each.\n",
        "ANS-> In Python, instance methods and class methods differ in how they operate and which type of data they access. Here's a breakdown of the differences:\n",
        "\n",
        "1. Instance Methods:\n",
        "* Definition: Instance methods are the most common methods and are defined within a class. They work on individual instances (objects) of the class.\n",
        "\n",
        "* Access: These methods can access and modify object-specific data (i.e., instance variables).\n",
        "\n",
        "* First Parameter: The first parameter of an instance method is typically self, which refers to the instance of the class calling the method.\n",
        "2. Class Methods:\n",
        "\n",
        "* Definition: Class methods are methods that are bound to the class and not the instance. They are used when you want to perform operations that are related to the class as a whole, rather than any particular object.\n",
        "\n",
        "* Access: Class methods can access and modify class-level data (i.e., variables shared by all instances of the class) but cannot modify instance-specific data directly.\n",
        "\n",
        "* First Parameter: The first parameter of a class method is typically cls, which refers to the class itself (not an instance).\n",
        "\n",
        "* Decorator: Class methods are defined using the @classmethod decorator."
      ],
      "metadata": {
        "id": "joFMYltoutDT"
      }
    },
    {
      "cell_type": "code",
      "source": [
        "# EXAMPLE\n",
        "class Car:\n",
        "    # Class attribute (shared by all instances)\n",
        "    car_count = 0\n",
        "\n",
        "    def __init__(self, make, model, year):\n",
        "        # Instance attributes (unique to each instance)\n",
        "        self.make = make\n",
        "        self.model = model\n",
        "        self.year = year\n",
        "        Car.car_count += 1  # Increment the class-level car count\n",
        "\n",
        "    # Instance method (operates on an instance)\n",
        "    def display_info(self):\n",
        "        print(f\"Car Information: {self.year} {self.make} {self.model}\")\n",
        "\n",
        "    # Class method (operates on the class, not an instance)\n",
        "    @classmethod\n",
        "    def get_car_count(cls):\n",
        "        return f\"Total cars created: {cls.car_count}\"\n",
        "\n",
        "# Example usage\n",
        "my_car = Car(\"Toyota\", \"Corolla\", 2021)\n",
        "my_car.display_info()  # Instance method, displays individual car info\n",
        "\n",
        "# Class method, displays total number of cars\n",
        "print(Car.get_car_count())\n",
        "\n",
        "another_car = Car(\"Honda\", \"Civic\", 2022)\n",
        "print(Car.get_car_count())  # Updates car count after creating a new car"
      ],
      "metadata": {
        "colab": {
          "base_uri": "https://localhost:8080/"
        },
        "id": "vH-MfG7dueoJ",
        "outputId": "7f9e8e1b-e985-4673-ce58-796211b632aa"
      },
      "execution_count": null,
      "outputs": [
        {
          "output_type": "stream",
          "name": "stdout",
          "text": [
            "Car Information: 2021 Toyota Corolla\n",
            "Total cars created: 1\n",
            "Total cars created: 2\n"
          ]
        }
      ]
    },
    {
      "cell_type": "markdown",
      "source": [
        "Q4 How does Python implement method overloading? Give an example.\n",
        "ANS-> In many programming languages, method overloading allows multiple methods with the same name but different parameters (type or number) within the same class. However, Python does not natively support method overloading in the same way as languages like Java or C++.\n",
        "\n",
        "* Instead, Python allows for flexibility in handling method arguments. A single method can be defined to accept different numbers of arguments using techniques like:\n",
        "\n",
        "1. Default arguments: Using default values for some parameters.\n",
        "2. Variable-length arguments: Using *args and **kwargs to handle an arbitrary number of positional and keyword arguments."
      ],
      "metadata": {
        "id": "pMLl63LEvytu"
      }
    },
    {
      "cell_type": "code",
      "source": [
        "class Calculator:\n",
        "    def add(self, *args):\n",
        "        # If no arguments, return 0\n",
        "        if len(args) == 0:\n",
        "            return 0\n",
        "        # If one argument, return that value\n",
        "        elif len(args) == 1:\n",
        "            return args[0]\n",
        "        # If more than one argument, return their sum\n",
        "        else:\n",
        "            return sum(args)\n",
        "\n",
        "# Example usage\n",
        "calc = Calculator()\n",
        "\n",
        "# Calling add with different numbers of arguments\n",
        "print(calc.add())            # No arguments, should return 0\n",
        "print(calc.add(5))           # One argument, should return 5\n",
        "print(calc.add(3, 7))        # Two arguments, should return 10\n",
        "print(calc.add(1, 2, 3, 4))  # Four arguments, should return 10"
      ],
      "metadata": {
        "colab": {
          "base_uri": "https://localhost:8080/"
        },
        "id": "DttaegLnvk70",
        "outputId": "f0d96145-fe21-4177-ff08-ec7e0a7d21bd"
      },
      "execution_count": null,
      "outputs": [
        {
          "output_type": "stream",
          "name": "stdout",
          "text": [
            "0\n",
            "5\n",
            "10\n",
            "10\n"
          ]
        }
      ]
    },
    {
      "cell_type": "markdown",
      "source": [
        "Q5 What are the three types of access modifiers in Python? How are they denoted?\n",
        "ANS-> In Python, access modifiers control the visibility and accessibility of class attributes and methods. Although Python doesn't have explicit access control like some other languages (e.g., private, protected, public in Java), it follows naming conventions to indicate the level of access. The three types of access modifiers in Python are:\n",
        "\n",
        "1. Public:\n",
        "* Description: Attributes and methods declared as public are accessible from any part of the code. In Python, by default, all attributes and methods are public.\n",
        "\n",
        "* Notation: Public attributes and methods are defined with no special prefix."
      ],
      "metadata": {
        "id": "YCqCbTuDwXRU"
      }
    },
    {
      "cell_type": "code",
      "source": [
        "# EXAMPLE\n",
        "class Car:\n",
        "    def __init__(self, make, model):\n",
        "        self.make = make  # Public attribute\n",
        "        self.model = model  # Public attribute\n",
        "\n",
        "    def display_info(self):  # Public method\n",
        "        print(f\"Car: {self.make} {self.model}\")\n",
        "\n",
        "my_car = Car(\"Toyota\", \"Corolla\")\n",
        "print(my_car.make)  # Accessing public attribute\n",
        "my_car.display_info()  # Accessing public method"
      ],
      "metadata": {
        "colab": {
          "base_uri": "https://localhost:8080/"
        },
        "id": "3P64hrOuwVBX",
        "outputId": "dd3bbed9-7e11-46f6-8a65-1e1e44afaafa"
      },
      "execution_count": null,
      "outputs": [
        {
          "output_type": "stream",
          "name": "stdout",
          "text": [
            "Toyota\n",
            "Car: Toyota Corolla\n"
          ]
        }
      ]
    },
    {
      "cell_type": "markdown",
      "source": [
        "2. Protected:\n",
        "* Description: Protected attributes and methods are intended to be used within the class and by subclasses (derived classes). Python uses a single underscore _ as a convention to denote that an attribute or method is \"protected\", but it doesn't strictly enforce this restriction (it's a convention rather than an enforcement).\n",
        "* Notation: A single leading underscore (_attribute or _method)"
      ],
      "metadata": {
        "id": "0PrjNjo6xcI-"
      }
    },
    {
      "cell_type": "code",
      "source": [
        "#EXAMPLE\n",
        "class Car:\n",
        "    def __init__(self, make, model):\n",
        "        self._make = make  # Protected attribute\n",
        "        self._model = model  # Protected attribute\n",
        "\n",
        "    def _display_info(self):  # Protected method\n",
        "        print(f\"Car: {self._make} {self._model}\")\n",
        "\n",
        "class ElectricCar(Car):\n",
        "    def __init__(self, make, model, battery_size):\n",
        "        super().__init__(make, model)\n",
        "        self.battery_size = battery_size\n",
        "\n",
        "    def display_battery_info(self):\n",
        "        print(f\"Battery Size: {self.battery_size}\")\n",
        "        self._display_info()  # Accessing protected method from subclass\n",
        "\n",
        "my_car = ElectricCar(\"Tesla\", \"Model S\", 75)\n",
        "my_car.display_battery_info()  # Accessing the protected method from a subclass"
      ],
      "metadata": {
        "colab": {
          "base_uri": "https://localhost:8080/"
        },
        "id": "pf3AV3Vixaw8",
        "outputId": "918e7719-9c3e-4c67-9565-3234427f7fd9"
      },
      "execution_count": null,
      "outputs": [
        {
          "output_type": "stream",
          "name": "stdout",
          "text": [
            "Battery Size: 75\n",
            "Car: Tesla Model S\n"
          ]
        }
      ]
    },
    {
      "cell_type": "markdown",
      "source": [
        "3. Private:\n",
        "* Description: Private attributes and methods are intended to be accessible only within the class where they are defined. In Python, private members are denoted by a double leading underscore __, which triggers name mangling. Name mangling makes the attribute harder (but not impossible) to access from outside the class.\n",
        "\n",
        "* Notation: A double leading underscore (__attribute or __method)."
      ],
      "metadata": {
        "id": "QrUG7Zz-xpc1"
      }
    },
    {
      "cell_type": "code",
      "source": [
        "class Car:\n",
        "    def __init__(self, make, model):\n",
        "        self.__make = make  # Private attribute\n",
        "        self.__model = model  # Private attribute\n",
        "\n",
        "    def __display_info(self):  # Private method\n",
        "        print(f\"Car: {self.__make} {self.__model}\")\n",
        "\n",
        "    def show_car_info(self):  # Public method to access private members\n",
        "        self.__display_info()\n",
        "\n",
        "my_car = Car(\"Toyota\", \"Corolla\")\n",
        "# my_car.__make  # This will raise an AttributeError\n",
        "my_car.show_car_info()  # Public method can access the private method"
      ],
      "metadata": {
        "colab": {
          "base_uri": "https://localhost:8080/"
        },
        "id": "dz9jxefcyLIM",
        "outputId": "6f460db4-04eb-496f-9c5b-b7ee1b16fcc8"
      },
      "execution_count": null,
      "outputs": [
        {
          "output_type": "stream",
          "name": "stdout",
          "text": [
            "Car: Toyota Corolla\n"
          ]
        }
      ]
    },
    {
      "cell_type": "markdown",
      "source": [
        "Q6 Describe the five types of inheritance in Python. Provide a simple example of multiple inheritance\n",
        "\n",
        "ANS-> In Python, inheritance allows a class to inherit attributes and methods from another class, promoting code reuse and logical class hierarchies. There are five types of inheritance:\n",
        "\n",
        "1. Single Inheritance:\n",
        "\n",
        "* A class inherits from one base class."
      ],
      "metadata": {
        "id": "1Th1SOjgyP_E"
      }
    },
    {
      "cell_type": "code",
      "source": [
        "class Animal:\n",
        "    def speak(self):\n",
        "        print(\"Animal speaks\")\n",
        "\n",
        "class Dog(Animal):  # Dog inherits from Animal\n",
        "    def bark(self):\n",
        "        print(\"Dog barks\")\n",
        "\n",
        "my_dog = Dog()\n",
        "my_dog.speak()  # Inherited method from Animal\n",
        "my_dog.bark()   # Method from Dog"
      ],
      "metadata": {
        "colab": {
          "base_uri": "https://localhost:8080/"
        },
        "id": "koMSdA5Xy2GS",
        "outputId": "68c5f9f8-4747-4794-fad8-29234a90f5a1"
      },
      "execution_count": null,
      "outputs": [
        {
          "output_type": "stream",
          "name": "stdout",
          "text": [
            "Animal speaks\n",
            "Dog barks\n"
          ]
        }
      ]
    },
    {
      "cell_type": "markdown",
      "source": [
        "2. Multiple Inheritance:\n",
        "\n",
        "* A class inherits from more than one base class. Python allows a class to inherit from multiple classes, meaning it can access attributes and methods from all the parent classes."
      ],
      "metadata": {
        "id": "KGfm3vYxzijw"
      }
    },
    {
      "cell_type": "code",
      "source": [
        "class Father:\n",
        "    def skills(self):\n",
        "        print(\"Father's skills: Driving\")\n",
        "\n",
        "class Mother:\n",
        "    def skills(self):\n",
        "        print(\"Mother's skills: Cooking\")\n",
        "\n",
        "class Child(Father, Mother):  # Multiple inheritance\n",
        "    def skills(self):\n",
        "        # Calls both skills methods from Father and Mother\n",
        "        Father.skills(self)\n",
        "        Mother.skills(self)\n",
        "        print(\"Child's skills: Painting\")\n",
        "\n",
        "# Create an instance of Child\n",
        "my_child = Child()\n",
        "my_child.skills()"
      ],
      "metadata": {
        "colab": {
          "base_uri": "https://localhost:8080/"
        },
        "id": "BjXqCzs6y3Bm",
        "outputId": "d6fde9ae-2b9f-4dcf-d0ae-de37ce44cbac"
      },
      "execution_count": null,
      "outputs": [
        {
          "output_type": "stream",
          "name": "stdout",
          "text": [
            "Father's skills: Driving\n",
            "Mother's skills: Cooking\n",
            "Child's skills: Painting\n"
          ]
        }
      ]
    },
    {
      "cell_type": "markdown",
      "source": [
        "3. Multilevel Inheritance:\n",
        "\n",
        "* A class inherits from another class, which in turn inherits from yet another class, forming a chain of inheritance."
      ],
      "metadata": {
        "id": "xAZ4u1jJzxF-"
      }
    },
    {
      "cell_type": "code",
      "source": [
        "class Animal:\n",
        "    def speak(self):\n",
        "        print(\"Animal speaks\")\n",
        "\n",
        "class Mammal(Animal):  # Mammal inherits from Animal\n",
        "    def has_fur(self):\n",
        "        print(\"Mammal has fur\")\n",
        "\n",
        "class Dog(Mammal):  # Dog inherits from Mammal\n",
        "    def bark(self):\n",
        "        print(\"Dog barks\")\n",
        "\n",
        "my_dog = Dog()\n",
        "my_dog.speak()    # Inherited from Animal\n",
        "my_dog.has_fur()  # Inherited from Mammal\n",
        "my_dog.bark()     # Method from Dog\n"
      ],
      "metadata": {
        "colab": {
          "base_uri": "https://localhost:8080/"
        },
        "id": "vr6ZPtYOzwGS",
        "outputId": "98256036-705b-4994-b07d-0374a781f6de"
      },
      "execution_count": null,
      "outputs": [
        {
          "output_type": "stream",
          "name": "stdout",
          "text": [
            "Animal speaks\n",
            "Mammal has fur\n",
            "Dog barks\n"
          ]
        }
      ]
    },
    {
      "cell_type": "markdown",
      "source": [
        "4. Hierarchical Inheritance:\n",
        "\n",
        "* Multiple classes inherit from a single base class."
      ],
      "metadata": {
        "id": "4OCuoBDtz_kN"
      }
    },
    {
      "cell_type": "code",
      "source": [
        "class Animal:\n",
        "    def speak(self):\n",
        "        print(\"Animal speaks\")\n",
        "\n",
        "class Dog(Animal):  # Dog inherits from Animal\n",
        "    def bark(self):\n",
        "        print(\"Dog barks\")\n",
        "\n",
        "class Cat(Animal):  # Cat also inherits from Animal\n",
        "    def meow(self):\n",
        "        print(\"Cat meows\")\n",
        "\n",
        "my_dog = Dog()\n",
        "my_dog.speak()  # Inherited from Animal\n",
        "my_dog.bark()\n",
        "\n",
        "my_cat = Cat()\n",
        "my_cat.speak()  # Inherited from Animal\n",
        "my_cat.meow()"
      ],
      "metadata": {
        "colab": {
          "base_uri": "https://localhost:8080/"
        },
        "id": "T1TXmjcrz-Sp",
        "outputId": "65ec6d92-d8ca-42a7-aac3-1371c1911f52"
      },
      "execution_count": null,
      "outputs": [
        {
          "output_type": "stream",
          "name": "stdout",
          "text": [
            "Animal speaks\n",
            "Dog barks\n",
            "Animal speaks\n",
            "Cat meows\n"
          ]
        }
      ]
    },
    {
      "cell_type": "markdown",
      "source": [
        "5. Hybrid Inheritance:\n",
        "* A combination of multiple types of inheritance (e.g., combining hierarchical and multilevel inheritance).\n"
      ],
      "metadata": {
        "id": "vRiTWAMn0M0P"
      }
    },
    {
      "cell_type": "code",
      "source": [
        "class Animal:\n",
        "    def speak(self):\n",
        "        print(\"Animal speaks\")\n",
        "\n",
        "class Mammal(Animal):  # Multilevel inheritance\n",
        "    def has_fur(self):\n",
        "        print(\"Mammal has fur\")\n",
        "\n",
        "class Dog(Mammal):  # Hierarchical inheritance (Dog and Cat from Animal)\n",
        "    def bark(self):\n",
        "        print(\"Dog barks\")\n",
        "\n",
        "class Cat(Mammal):  # Cat also inherits from Mammal\n",
        "    def meow(self):\n",
        "        print(\"Cat meows\")\n",
        "\n",
        "my_dog = Dog()\n",
        "my_dog.speak()    # From Animal\n",
        "my_dog.has_fur()  # From Mammal\n",
        "my_dog.bark()     # From Dog\n",
        "\n",
        "my_cat = Cat()\n",
        "my_cat.speak()    # From Animal\n",
        "my_cat.has_fur()  # From Mammal\n",
        "my_cat.meow()     # From Cat"
      ],
      "metadata": {
        "colab": {
          "base_uri": "https://localhost:8080/"
        },
        "id": "Z084Vrh20E4a",
        "outputId": "d86eccea-ee62-4c8a-f277-b2fe3160eaab"
      },
      "execution_count": null,
      "outputs": [
        {
          "output_type": "stream",
          "name": "stdout",
          "text": [
            "Animal speaks\n",
            "Mammal has fur\n",
            "Dog barks\n",
            "Animal speaks\n",
            "Mammal has fur\n",
            "Cat meows\n"
          ]
        }
      ]
    },
    {
      "cell_type": "markdown",
      "source": [
        "Q7 What is the Method Resolution Order (MRO) in Python? How can you retrieve it programmatically?\n",
        "\n",
        "ANS-> The Method Resolution Order (MRO) in Python defines the order in which base classes are searched when executing a method or attribute. This is especially important in the context of multiple inheritance, where a class can inherit from more than one parent class.\n",
        "\n",
        "The MRO follows the C3 Linearization algorithm, which ensures that:\n",
        "\n",
        "* A class appears before its parents.\n",
        "\n",
        "* If a class inherits from multiple parents, the parents are ordered in the same order as they were listed in the inheritance declaration.\n",
        "* Conflicts are resolved in a way that preserves the order of inheritance while ensuring a consistent ordering.\n",
        "\n",
        "How to Retrieve MRO Programmatically\n",
        "\n",
        "You can retrieve the MRO of a class using the following methods:\n",
        "\n",
        "* Using the __mro__ attribute:"
      ],
      "metadata": {
        "id": "OhWcunn24JUa"
      }
    },
    {
      "cell_type": "code",
      "source": [
        "class A:\n",
        "    pass\n",
        "\n",
        "class B(A):\n",
        "    pass\n",
        "\n",
        "class C(B):\n",
        "    pass\n",
        "\n",
        "print(C.__mro__)"
      ],
      "metadata": {
        "id": "2dVQ89Xh0THp",
        "colab": {
          "base_uri": "https://localhost:8080/"
        },
        "outputId": "b0e423d5-714a-4004-d101-119a51709111"
      },
      "execution_count": 17,
      "outputs": [
        {
          "output_type": "stream",
          "name": "stdout",
          "text": [
            "(<class '__main__.C'>, <class '__main__.B'>, <class '__main__.A'>, <class 'object'>)\n"
          ]
        }
      ]
    },
    {
      "cell_type": "markdown",
      "source": [
        "Q8  Create an abstract base class `Shape` with an abstract method `area()`. Then create two subclasses\n",
        "`Circle` and `Rectangle` that implement the `area()` method"
      ],
      "metadata": {
        "id": "17lw490z7Po_"
      }
    },
    {
      "cell_type": "code",
      "source": [
        "from abc import ABC, abstractmethod\n",
        "import math\n",
        "\n",
        "# Abstract base class\n",
        "class Shape(ABC):\n",
        "    @abstractmethod\n",
        "    def area(self):\n",
        "        pass\n",
        "\n",
        "# Circle subclass\n",
        "class Circle(Shape):\n",
        "    def __init__(self, radius):\n",
        "        self.radius = radius\n",
        "\n",
        "    def area(self):\n",
        "        return math.pi * self.radius ** 2\n",
        "\n",
        "# Rectangle subclass\n",
        "class Rectangle(Shape):\n",
        "    def __init__(self, width, height):\n",
        "        self.width = width\n",
        "        self.height = height\n",
        "\n",
        "    def area(self):\n",
        "        return self.width * self.height\n",
        "\n",
        "# Usage Example\n",
        "circle = Circle(5)\n",
        "rectangle = Rectangle(4, 6)\n",
        "\n",
        "print(f\"Circle area: {circle.area()}\")\n",
        "print(f\"Rectangle area: {rectangle.area()}\")"
      ],
      "metadata": {
        "colab": {
          "base_uri": "https://localhost:8080/"
        },
        "id": "67_681rX6sz2",
        "outputId": "1301b77f-3953-446a-c2b3-619dd93a54e8"
      },
      "execution_count": 18,
      "outputs": [
        {
          "output_type": "stream",
          "name": "stdout",
          "text": [
            "Circle area: 78.53981633974483\n",
            "Rectangle area: 24\n"
          ]
        }
      ]
    },
    {
      "cell_type": "markdown",
      "source": [
        "Q9  Demonstrate polymorphism by creating a function that can work with different shape objects to calculate\n",
        "and print their areas\n",
        "\n",
        "ANS-> Polymorphism allows us to write code that works with objects of different types through a unified interface, typically via inheritance. Since both Circle and Rectangle are subclasses of Shape, and they implement the area() method, we can create a function that accepts any Shape object and calculates its area."
      ],
      "metadata": {
        "id": "xFw79qDr8Aj3"
      }
    },
    {
      "cell_type": "code",
      "source": [
        "# Define a function that accepts any Shape object and prints its area\n",
        "def print_area(shape: Shape):\n",
        "    print(f\"The area is: {shape.area()}\")\n",
        "\n",
        "# Example usage\n",
        "circle = Circle(5)\n",
        "rectangle = Rectangle(4, 6)\n",
        "\n",
        "# The same function is used to calculate the area for both Circle and Rectangle\n",
        "print_area(circle)\n",
        "print_area(rectangle)"
      ],
      "metadata": {
        "colab": {
          "base_uri": "https://localhost:8080/"
        },
        "id": "LnlxDj2_7l1i",
        "outputId": "38773a11-a844-4da0-83f3-26d9269d15f7"
      },
      "execution_count": 20,
      "outputs": [
        {
          "output_type": "stream",
          "name": "stdout",
          "text": [
            "The area is: 78.53981633974483\n",
            "The area is: 24\n"
          ]
        }
      ]
    },
    {
      "cell_type": "markdown",
      "source": [
        "Q10  Implement encapsulation in a `BankAccount` class with private attributes for `balance` and\n",
        "`account_number`. Include methods for deposit, withdrawal, and balance inquiry\n",
        "\n",
        "ANS-> Here’s an implementation of a BankAccount class that demonstrates encapsulation. The class will have private attributes for balance and account_number, along with methods for deposit, withdrawal, and balance inquiry."
      ],
      "metadata": {
        "id": "kwnEIbmg8GR0"
      }
    },
    {
      "cell_type": "code",
      "source": [
        "class BankAccount:\n",
        "    def __init__(self, account_number, initial_balance=0):\n",
        "        self.__account_number = account_number  # Private attribute\n",
        "        self.__balance = initial_balance  # Private attribute\n",
        "\n",
        "    def deposit(self, amount):\n",
        "        if amount > 0:\n",
        "            self.__balance += amount\n",
        "            print(f\"Deposited: ${amount}. New balance: ${self.__balance}.\")\n",
        "        else:\n",
        "            print(\"Deposit amount must be positive.\")\n",
        "\n",
        "    def withdraw(self, amount):\n",
        "        if amount > 0:\n",
        "            if amount <= self.__balance:\n",
        "                self.__balance -= amount\n",
        "                print(f\"Withdrew: ${amount}. New balance: ${self.__balance}.\")\n",
        "            else:\n",
        "                print(\"Insufficient funds for withdrawal.\")\n",
        "        else:\n",
        "            print(\"Withdrawal amount must be positive.\")\n",
        "\n",
        "    def get_balance(self):\n",
        "        return self.__balance\n",
        "\n",
        "    def get_account_number(self):\n",
        "        return self.__account_number\n",
        "\n",
        "# Example usage\n",
        "account = BankAccount(\"123456789\", 1000)\n",
        "\n",
        "# Depositing money\n",
        "account.deposit(500)\n",
        "\n",
        "# Withdrawing money\n",
        "account.withdraw(200)\n",
        "\n",
        "# Checking balance\n",
        "print(f\"Current balance: ${account.get_balance()}\")\n",
        "\n",
        "# Trying to withdraw more than balance\n",
        "account.withdraw(1500)\n",
        "\n",
        "# Accessing account number\n",
        "print(f\"Account number: {account.get_account_number()}\")"
      ],
      "metadata": {
        "colab": {
          "base_uri": "https://localhost:8080/"
        },
        "id": "6HtJ7uI077sA",
        "outputId": "61ae6241-ff58-4460-eb6b-461896804f04"
      },
      "execution_count": 21,
      "outputs": [
        {
          "output_type": "stream",
          "name": "stdout",
          "text": [
            "Deposited: $500. New balance: $1500.\n",
            "Withdrew: $200. New balance: $1300.\n",
            "Current balance: $1300\n",
            "Insufficient funds for withdrawal.\n",
            "Account number: 123456789\n"
          ]
        }
      ]
    },
    {
      "cell_type": "markdown",
      "source": [
        "Q11 Write a class that overrides the `__str__` and `__add__` magic methods. What will these methods allow\n",
        "you to do?\n",
        "\n",
        "ANS-> Overriding the __str__ and __add__ magic methods in a class allows you to define custom string representations and addition behavior for instances of that class.\n",
        "\n",
        "* __str__: This method allows you to define how an object is represented as a string, particularly when using the print() function or str() on an instance of the class. This is useful for providing a user-friendly representation of the object.\n",
        "\n",
        "* __add__: This method allows you to define how two objects of the class can be added together using the + operator. This can be useful for custom aggregation or combining functionality."
      ],
      "metadata": {
        "id": "LfrzRtdy8oiT"
      }
    },
    {
      "cell_type": "code",
      "source": [
        "class Vector:\n",
        "    def __init__(self, x, y):\n",
        "        self.x = x\n",
        "        self.y = y\n",
        "\n",
        "    def __str__(self):\n",
        "        return f\"Vector({self.x}, {self.y})\"\n",
        "\n",
        "    def __add__(self, other):\n",
        "        if isinstance(other, Vector):\n",
        "            return Vector(self.x + other.x, self.y + other.y)\n",
        "        return NotImplemented\n",
        "\n",
        "# Example usage\n",
        "v1 = Vector(2, 3)\n",
        "v2 = Vector(4, 5)\n",
        "\n",
        "# Print vector\n",
        "print(v1)  # Output: Vector(2, 3)\n",
        "\n",
        "# Add vectors\n",
        "v3 = v1 + v2\n",
        "print(v3)  # Output: Vector(6, 8)"
      ],
      "metadata": {
        "colab": {
          "base_uri": "https://localhost:8080/"
        },
        "id": "LBXoaH6S8XHw",
        "outputId": "33f80533-7f29-4453-f97e-a720dc6cf708"
      },
      "execution_count": 22,
      "outputs": [
        {
          "output_type": "stream",
          "name": "stdout",
          "text": [
            "Vector(2, 3)\n",
            "Vector(6, 8)\n"
          ]
        }
      ]
    },
    {
      "cell_type": "markdown",
      "source": [
        "Q12 Create a decorator that measures and prints the execution time of a function"
      ],
      "metadata": {
        "id": "wM_oYwfU9Cls"
      }
    },
    {
      "cell_type": "code",
      "source": [
        "import time\n",
        "\n",
        "# Decorator to measure execution time\n",
        "def timeit(func):\n",
        "    def wrapper(*args, **kwargs):\n",
        "        start_time = time.time()  # Record the start time\n",
        "        result = func(*args, **kwargs)  # Call the original function\n",
        "        end_time = time.time()  # Record the end time\n",
        "        execution_time = end_time - start_time  # Calculate execution time\n",
        "        print(f\"Execution time of {func.__name__}: {execution_time:.4f} seconds\")\n",
        "        return result  # Return the result of the original function\n",
        "    return wrapper\n",
        "\n",
        "# Example usage of the decorator\n",
        "@timeit\n",
        "def example_function(n):\n",
        "    total = 0\n",
        "    for i in range(n):\n",
        "        total += i\n",
        "    return total\n",
        "\n",
        "# Call the decorated function\n",
        "result = example_function(1000000)\n",
        "print(f\"Result: {result}\")"
      ],
      "metadata": {
        "colab": {
          "base_uri": "https://localhost:8080/"
        },
        "id": "t8GH7HU09BNW",
        "outputId": "ce1fa244-06ce-4ca0-eb60-50938b5c53a5"
      },
      "execution_count": 23,
      "outputs": [
        {
          "output_type": "stream",
          "name": "stdout",
          "text": [
            "Execution time of example_function: 0.0699 seconds\n",
            "Result: 499999500000\n"
          ]
        }
      ]
    },
    {
      "cell_type": "markdown",
      "source": [
        "Q13  Explain the concept of the Diamond Problem in multiple inheritance. How does Python resolve it?\n",
        "\n",
        "ANS-> The Diamond Problem is a common issue that arises in multiple inheritance scenarios, particularly in object-oriented programming. It occurs when a class inherits from two classes that both inherit from a common superclass. This can create ambiguity in the method resolution order (MRO) when the derived class tries to access a method or attribute defined in the common superclass.\n",
        "\n",
        "Illustration of the Diamond Problem\n",
        "\n",
        "Consider the following class hierarchy:\n",
        "      A\n",
        "     / \\\n",
        "    B   C\n",
        "     \\ /\n",
        "      D\n",
        "In this example:\n",
        "\n",
        "* Class A is the common superclass.\n",
        "\n",
        "* Classes B and C both inherit from A.\n",
        "\n",
        "* Class D inherits from both B and C.\n",
        "\n",
        "When an instance of D calls a method defined in A, it is unclear whether to call the method from B or from C, leading to potential ambiguity and inconsistency.\n",
        "\n",
        "How Python Resolves the Diamond Problem\n",
        "\n",
        "Python uses the C3 Linearization algorithm to resolve the Diamond Problem and determine the Method Resolution Order (MRO). The MRO provides a clear order in which classes are searched for methods and attributes.\n",
        "\n",
        "Here’s how Python resolves the Diamond Problem:\n",
        "\n",
        "* Linearization: Python constructs a linearization of the class hierarchy that respects the order of inheritance. This means that it will respect the order in which classes are defined while ensuring that a class does not appear before its base classes.\n",
        "\n",
        "* Depth-First Search: The MRO is computed using a depth-first search approach that considers the order of the classes from left to right in the inheritance declaration.\n"
      ],
      "metadata": {
        "id": "7dPLBAGk9bz4"
      }
    },
    {
      "cell_type": "code",
      "source": [
        "class A:\n",
        "    def greet(self):\n",
        "        return \"Hello from A\"\n",
        "\n",
        "class B(A):\n",
        "    def greet(self):\n",
        "        return \"Hello from B\"\n",
        "\n",
        "class C(A):\n",
        "    def greet(self):\n",
        "        return \"Hello from C\"\n",
        "\n",
        "class D(B, C):\n",
        "    pass\n",
        "\n",
        "# Creating an instance of D\n",
        "d = D()\n",
        "print(d.greet())\n",
        "\n",
        "# Check the Method Resolution Order (MRO)\n",
        "print(D.__mro__)\n",
        "\n"
      ],
      "metadata": {
        "colab": {
          "base_uri": "https://localhost:8080/"
        },
        "id": "s833okk99XSl",
        "outputId": "8c1a492e-02bc-4430-d3a3-17d7fa75fc7b"
      },
      "execution_count": 26,
      "outputs": [
        {
          "output_type": "stream",
          "name": "stdout",
          "text": [
            "Hello from B\n",
            "(<class '__main__.D'>, <class '__main__.B'>, <class '__main__.C'>, <class '__main__.A'>, <class 'object'>)\n"
          ]
        }
      ]
    },
    {
      "cell_type": "markdown",
      "source": [
        "Q14 Write a class method that keeps track of the number of instances created from a class"
      ],
      "metadata": {
        "id": "5KKL-Wsg-rUw"
      }
    },
    {
      "cell_type": "code",
      "source": [
        "class InstanceCounter:\n",
        "    # Class variable to keep track of the number of instances\n",
        "    instance_count = 0\n",
        "\n",
        "    def __init__(self):\n",
        "        # Increment the count when a new instance is created\n",
        "        InstanceCounter.instance_count += 1\n",
        "\n",
        "    @classmethod\n",
        "    def get_instance_count(cls):\n",
        "        # Class method to get the current instance count\n",
        "        return cls.instance_count\n",
        "\n",
        "# Example usage\n",
        "obj1 = InstanceCounter()\n",
        "obj2 = InstanceCounter()\n",
        "obj3 = InstanceCounter()\n",
        "\n",
        "# Check the number of instances created\n",
        "print(f\"Number of instances created: {InstanceCounter.get_instance_count()}\")"
      ],
      "metadata": {
        "colab": {
          "base_uri": "https://localhost:8080/"
        },
        "id": "FDkGHVkJ9yxD",
        "outputId": "3e4e2cd0-c410-4ee2-9dce-c1a33f62a121"
      },
      "execution_count": 27,
      "outputs": [
        {
          "output_type": "stream",
          "name": "stdout",
          "text": [
            "Number of instances created: 3\n"
          ]
        }
      ]
    },
    {
      "cell_type": "markdown",
      "source": [
        "Q15 Implement a static method in a class that checks if a given year is a leap year\n",
        "ANS-> static method in a class that checks if a given year is a leap year. A leap year is defined as follows:\n",
        "\n",
        "A year is a leap year if it is divisible by 4.\n",
        "\n",
        "However, if the year is divisible by 100, it is not a leap year unless it is also divisible by 400."
      ],
      "metadata": {
        "id": "zvEeo-R-AKOZ"
      }
    },
    {
      "cell_type": "code",
      "source": [
        "class YearUtils:\n",
        "    @staticmethod\n",
        "    def is_leap_year(year):\n",
        "        \"\"\"Check if the given year is a leap year.\"\"\"\n",
        "        if (year % 4 == 0 and year % 100 != 0) or (year % 400 == 0):\n",
        "            return True\n",
        "        return False\n",
        "\n",
        "# Example usage\n",
        "year_to_check = 2024\n",
        "if YearUtils.is_leap_year(year_to_check):\n",
        "    print(f\"{year_to_check} is a leap year.\")\n",
        "else:\n",
        "    print(f\"{year_to_check} is not a leap year.\")\n",
        "\n",
        "# Check another year\n",
        "year_to_check = 1900\n",
        "if YearUtils.is_leap_year(year_to_check):\n",
        "    print(f\"{year_to_check} is a leap year.\")\n",
        "else:\n",
        "    print(f\"{year_to_check} is not a leap year.\")"
      ],
      "metadata": {
        "colab": {
          "base_uri": "https://localhost:8080/"
        },
        "id": "hjNLeuXl__f2",
        "outputId": "3162cb20-d285-40f0-ce1b-42f0faa290f8"
      },
      "execution_count": 28,
      "outputs": [
        {
          "output_type": "stream",
          "name": "stdout",
          "text": [
            "2024 is a leap year.\n",
            "1900 is not a leap year.\n"
          ]
        }
      ]
    },
    {
      "cell_type": "code",
      "source": [],
      "metadata": {
        "id": "3UwYDb6sAaq8"
      },
      "execution_count": null,
      "outputs": []
    }
  ]
}
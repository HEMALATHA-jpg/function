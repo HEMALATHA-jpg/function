{
 "cells": [
  {
   "cell_type": "code",
   "execution_count": 3,
   "id": "89e6246d-9b06-4a58-b749-2603f0a3ffdb",
   "metadata": {},
   "outputs": [
    {
     "data": {
      "text/plain": [
       "'ans --> Python slicing is about obtaining a sub-string from the given string by slicing it respectively from start to end. For understanding slicing we will use different methods, here we will cover 2 methods of string slicing, one using the in-build slice() method and another using the [:] array slice. String slicing in Python is about obtaining a sub-string from the given string by slicing it respectively from start to end. Python slicing can be done in two ways:\\nUsing a slice() method\\nUsing the array slicing  [:: ] method'"
      ]
     },
     "execution_count": 3,
     "metadata": {},
     "output_type": "execute_result"
    }
   ],
   "source": [
    "# Q1   Discuss string slicing and provide examples\n",
    "'''ans --> Python slicing is about obtaining a sub-string from the given string by slicing it respectively from start to end. For understanding slicing we will use different methods, here we will cover 2 methods of string slicing, one using the in-build slice() method and another using the [:] array slice. String slicing in Python is about obtaining a sub-string from the given string by slicing it respectively from start to end. Python slicing can be done in two ways:\n",
    "Using a slice() method\n",
    "Using the array slicing  [:: ] method'''\n"
   ]
  },
  {
   "cell_type": "code",
   "execution_count": 1,
   "id": "d4b6c4d2-06fc-4591-a75e-e1c55c59d443",
   "metadata": {},
   "outputs": [
    {
     "name": "stdout",
     "output_type": "stream",
     "text": [
      "String slicing\n",
      "SIR\n",
      "II\n",
      "ASRS\n"
     ]
    }
   ],
   "source": [
    "# Method 1: Using the slice() method\n",
    "''' The slice() constructor creates a slice object representing the set of indices specified by range(start, stop, step).'''\n",
    "# Python program to demonstrate\n",
    "# string slicing\n",
    "\n",
    "# String slicing\n",
    "String = 'SIRISHA'\n",
    "\n",
    "# Using slice constructor\n",
    "s1 = slice(3)\n",
    "s2 = slice(1, 5, 2)\n",
    "s3 = slice(-1, -12, -2)\n",
    "\n",
    "print(\"String slicing\")\n",
    "print(String[s1])\n",
    "print(String[s2])\n",
    "print(String[s3])"
   ]
  },
  {
   "cell_type": "code",
   "execution_count": 2,
   "id": "36239ca4-9299-434b-8de6-29ebf5923f69",
   "metadata": {},
   "outputs": [
    {
     "name": "stdout",
     "output_type": "stream",
     "text": [
      "HEM\n"
     ]
    }
   ],
   "source": [
    "# Method 2: Using the List/array slicing  [ :: ]  method\n",
    "''' In Python, indexing syntax can be used as a substitute for the slice object. This is an easy and convenient way to slice a string using list slicing and Array slicing both syntax-wise and execution-wise. A start, end, and step have the same mechanism as the slice() constructor. '''\n",
    "# Python program to demonstrate\n",
    "# string slicing\n",
    "\n",
    "# String slicing\n",
    "String = 'HEMALATHA'\n",
    "\n",
    "# Using indexing sequence\n",
    "print(String[:3])"
   ]
  },
  {
   "cell_type": "code",
   "execution_count": 3,
   "id": "f7a2e5ec-740b-427d-ac09-2f631b5c0e53",
   "metadata": {},
   "outputs": [
    {
     "name": "stdout",
     "output_type": "stream",
     "text": [
      "EA\n"
     ]
    }
   ],
   "source": [
    "# Python program to demonstrate\n",
    "# string slicing\n",
    "\n",
    "# String slicing\n",
    "String = 'HEMALATHA'\n",
    "\n",
    "# Using indexing sequence\n",
    "print(String[1:5:2])"
   ]
  },
  {
   "cell_type": "code",
   "execution_count": 1,
   "id": "76d61cd4-fa1f-4c2f-ab3b-c9618957c69f",
   "metadata": {},
   "outputs": [
    {
     "name": "stdout",
     "output_type": "stream",
     "text": [
      "YDRHAA\n"
     ]
    }
   ],
   "source": [
    "# Python program to demonstrate\n",
    "# string slicing\n",
    "\n",
    "# String slicing\n",
    "String = 'HEMALATHAREDDY'\n",
    "\n",
    "# Using indexing sequence\n",
    "print(String[-1:-12:-2])\n"
   ]
  },
  {
   "cell_type": "code",
   "execution_count": 2,
   "id": "ba0381d4-f6b5-4073-9f37-f0c94923ac7e",
   "metadata": {},
   "outputs": [
    {
     "name": "stdout",
     "output_type": "stream",
     "text": [
      "YDDERAHTALAMEH\n"
     ]
    }
   ],
   "source": [
    "# Python program to demonstrate\n",
    "# string slicing\n",
    "\n",
    "# String slicing\n",
    "String = 'HEMALATHAREDDY'\n",
    "\n",
    "# Prints string in reverse\n",
    "print(String[::-1])"
   ]
  },
  {
   "cell_type": "code",
   "execution_count": 11,
   "id": "e4bd8e1d-9893-4c8f-9474-308d7f2f746a",
   "metadata": {},
   "outputs": [
    {
     "data": {
      "text/plain": [
       "'ans --> Python Lists are just like dynamically sized arrays, declared in other languages (vector in C++ and ArrayList in Java). In simple language, a list is a collection of things, enclosed in [ ] and separated by commas.'"
      ]
     },
     "execution_count": 11,
     "metadata": {},
     "output_type": "execute_result"
    }
   ],
   "source": [
    "# Q2   Explain the key features of lists in Python\n",
    "'''ans --> Python Lists are just like dynamically sized arrays, declared in other languages (vector in C++ and ArrayList in Java). In simple language, a list is a collection of things, enclosed in [ ] and separated by commas.'''\n"
   ]
  },
  {
   "cell_type": "code",
   "execution_count": 4,
   "id": "ea3ef5f9-8d29-42d3-8865-9f9bed82f25d",
   "metadata": {},
   "outputs": [
    {
     "name": "stdout",
     "output_type": "stream",
     "text": [
      "['HEMA', 'LATHA', 'REDDY']\n"
     ]
    }
   ],
   "source": [
    "# Example of the list in Python\n",
    "\n",
    "'''Here we are creating a Python List using [].'''\n",
    "Var = [\"HEMA\", \"LATHA\", \"REDDY\"]\n",
    "print(Var)\n",
    "\n"
   ]
  },
  {
   "cell_type": "code",
   "execution_count": 5,
   "id": "69acc146-337b-4446-84d5-f3cdf7f1033a",
   "metadata": {},
   "outputs": [
    {
     "name": "stdout",
     "output_type": "stream",
     "text": [
      "Blank List: \n",
      "[]\n",
      "\n",
      "List of numbers: \n",
      "[10, 20, 14]\n",
      "\n",
      "List Items: \n",
      "HEMA\n",
      "REDDY\n"
     ]
    }
   ],
   "source": [
    "# Example 1: Creating a list in Python\n",
    "# Creating a List\n",
    "List = []\n",
    "print(\"Blank List: \")\n",
    "print(List)\n",
    "\n",
    "# Creating a List of numbers\n",
    "List = [10, 20, 14]\n",
    "print(\"\\nList of numbers: \")\n",
    "print(List)\n",
    "\n",
    "# Creating a List of strings and accessing\n",
    "# using index\n",
    "List = [\"HEMA\", \"LATHA\", \"REDDY\"]\n",
    "print(\"\\nList Items: \")\n",
    "print(List[0])\n",
    "print(List[2])"
   ]
  },
  {
   "cell_type": "code",
   "execution_count": 6,
   "id": "9164af91-b0e1-48dd-baf4-516e444d4463",
   "metadata": {},
   "outputs": [
    {
     "name": "stdout",
     "output_type": "stream",
     "text": [
      "\n",
      "List with the use of Numbers: \n",
      "[1, 2, 4, 4, 3, 3, 3, 6, 5]\n",
      "\n",
      "List with the use of Mixed Values: \n",
      "[1, 2, 'HEMA', 4, 'LATHA', 6, 'REDDY']\n"
     ]
    }
   ],
   "source": [
    "# Example 2:  Creating a list with multiple distinct or duplicate elements\n",
    "# Creating a List with the use of Numbers\n",
    "# (Having duplicate values)\n",
    "List = [1, 2, 4, 4, 3, 3, 3, 6, 5]\n",
    "print(\"\\nList with the use of Numbers: \")\n",
    "print(List)\n",
    "\n",
    "# Creating a List with mixed datatype values \n",
    "# (Having numbers and strings)\n",
    "List = [1, 2, 'HEMA', 4, 'LATHA', 6, 'REDDY']\n",
    "print(\"\\nList with the use of Mixed Values: \")\n",
    "print(List)"
   ]
  },
  {
   "cell_type": "code",
   "execution_count": null,
   "id": "a07b0455-249b-48ee-a85e-3961f6008f82",
   "metadata": {},
   "outputs": [],
   "source": [
    "\n"
   ]
  },
  {
   "cell_type": "code",
   "execution_count": 10,
   "id": "fa564bf9-0a9a-43cc-ad58-5ef3ff4d5efd",
   "metadata": {},
   "outputs": [
    {
     "name": "stdout",
     "output_type": "stream",
     "text": [
      "Accessing a element from a Multi-Dimensional list\n",
      "LATHA\n",
      "REDDY\n"
     ]
    }
   ],
   "source": []
  },
  {
   "cell_type": "code",
   "execution_count": 11,
   "id": "d62b2edc-4a7b-4569-901e-106fd713c286",
   "metadata": {},
   "outputs": [
    {
     "name": "stdout",
     "output_type": "stream",
     "text": [
      "Initial blank List: \n",
      "[]\n",
      "\n",
      "List after Addition of Three elements: \n",
      "[1, 2, 4]\n",
      "\n",
      "List after Addition of elements from 1-3: \n",
      "[1, 2, 4, 1, 2, 3]\n",
      "\n",
      "List after Addition of a Tuple: \n",
      "[1, 2, 4, 1, 2, 3, (5, 6)]\n",
      "\n",
      "List after Addition of a List: \n",
      "[1, 2, 4, 1, 2, 3, (5, 6), ['LATHA', 'REDDY']]\n"
     ]
    }
   ],
   "source": [
    "# Adding Elements to a Python List\n",
    "'''Method 1: Using append() method'''\n",
    "# Creating a List\n",
    "List = []\n",
    "print(\"Initial blank List: \")\n",
    "print(List)\n",
    "\n",
    "# Addition of Elements in the List\n",
    "List.append(1)\n",
    "List.append(2)\n",
    "List.append(4)\n",
    "print(\"\\nList after Addition of Three elements: \")\n",
    "print(List)\n",
    "\n",
    "# Adding elements to the List using Iterator\n",
    "for i in range(1, 4):\n",
    "    List.append(i)\n",
    "print(\"\\nList after Addition of elements from 1-3: \")\n",
    "print(List)\n",
    "\n",
    "# Adding Tuples to the List\n",
    "List.append((5, 6))\n",
    "print(\"\\nList after Addition of a Tuple: \")\n",
    "print(List)\n",
    "\n",
    "# Addition of List to a List\n",
    "List2 = ['LATHA', 'REDDY']\n",
    "List.append(List2)\n",
    "print(\"\\nList after Addition of a List: \")\n",
    "print(List)"
   ]
  },
  {
   "cell_type": "code",
   "execution_count": 12,
   "id": "8529557e-dead-4f23-b586-a5bf9cd27cd8",
   "metadata": {},
   "outputs": [
    {
     "name": "stdout",
     "output_type": "stream",
     "text": [
      "Initial List: \n",
      "[1, 2, 3, 4]\n",
      "\n",
      "List after performing Insert Operation: \n",
      "['HEMA', 1, 2, 3, 12, 4]\n"
     ]
    }
   ],
   "source": [
    "# Method 2: Using insert() method\n",
    "# Creating a List\n",
    "List = [1,2,3,4]\n",
    "print(\"Initial List: \")\n",
    "print(List)\n",
    "\n",
    "# Addition of Element at \n",
    "# specific Position\n",
    "# (using Insert Method)\n",
    "List.insert(3, 12)\n",
    "List.insert(0, 'HEMA')\n",
    "print(\"\\nList after performing Insert Operation: \")\n",
    "print(List)"
   ]
  },
  {
   "cell_type": "code",
   "execution_count": 13,
   "id": "d9455b25-a4f3-4449-973b-94b9d387a4f3",
   "metadata": {},
   "outputs": [
    {
     "name": "stdout",
     "output_type": "stream",
     "text": [
      "Initial List: \n",
      "[1, 2, 3, 4]\n",
      "\n",
      "List after performing Extend Operation: \n",
      "[1, 2, 3, 4, 8, 'HEMA', 'Always']\n"
     ]
    }
   ],
   "source": [
    "# Method 3: Using extend() method\n",
    "# Creating a List\n",
    "List = [1, 2, 3, 4]\n",
    "print(\"Initial List: \")\n",
    "print(List)\n",
    "\n",
    "# Addition of multiple elements\n",
    "# to the List at the end\n",
    "# (using Extend Method)\n",
    "List.extend([8, 'HEMA', 'Always'])\n",
    "print(\"\\nList after performing Extend Operation: \")\n",
    "print(List)"
   ]
  },
  {
   "cell_type": "code",
   "execution_count": 19,
   "id": "79e56d2a-b503-4ce1-a5e8-a11c62c4ecf3",
   "metadata": {},
   "outputs": [
    {
     "name": "stdout",
     "output_type": "stream",
     "text": [
      "['Python', 'HEMA', 5, 4, 3, 2, 1]\n"
     ]
    }
   ],
   "source": [
    "# Reversing a List in Python\n",
    "'''Method 1:  A list can be reversed by using the reverse() method in Python.'''\n",
    "# Reversing a list\n",
    "mylist = [1, 2, 3, 4, 5, 'HEMA', 'Python']\n",
    "mylist.reverse()\n",
    "print(mylist)"
   ]
  },
  {
   "cell_type": "code",
   "execution_count": 20,
   "id": "0cd30716-ecf7-4c04-9ebc-6fec6add0ef9",
   "metadata": {},
   "outputs": [
    {
     "name": "stdout",
     "output_type": "stream",
     "text": [
      "[5, 4, 3, 2, 1]\n"
     ]
    }
   ],
   "source": [
    "# Method 2: Using the reversed() function:\n",
    "my_list = [1, 2, 3, 4, 5]\n",
    "reversed_list = list(reversed(my_list))\n",
    "print(reversed_list)"
   ]
  },
  {
   "cell_type": "code",
   "execution_count": 14,
   "id": "ffb67ddb-2aec-4d22-a1ea-b1fbacecf3e2",
   "metadata": {},
   "outputs": [
    {
     "data": {
      "text/plain": [
       "'ans--> To access an individual list element, you need to know the position of that element. \\nSince computers start counting at 0, the first element is in position 0, the second element is in position 1, etcetera'"
      ]
     },
     "execution_count": 14,
     "metadata": {},
     "output_type": "execute_result"
    }
   ],
   "source": [
    "# Q3   Describe how to access, modify, and delete elements in a list with examples\n",
    "'''ans--> To access an individual list element, you need to know the position of that element. \n",
    "Since computers start counting at 0, the first element is in position 0, the second element is in position 1, etcetera'''"
   ]
  },
  {
   "cell_type": "code",
   "execution_count": 16,
   "id": "1a1a0476-1f1d-44ed-888d-84c9a078fea8",
   "metadata": {},
   "outputs": [
    {
     "name": "stdout",
     "output_type": "stream",
     "text": [
      "Accessing a element from the list\n",
      "HEMA\n",
      "REDDY\n"
     ]
    }
   ],
   "source": [
    "# Accessing elements from the List\n",
    "'''In order to access the list items refer to the index number. Use the index operator [ ] to access an item in a list. The index must be an integer. Nested lists are accessed \n",
    "using nested indexing.'''\n",
    "'''Example 1: Accessing elements from list'''\n",
    "# Creating a List with\n",
    "# the use of multiple values\n",
    "List = [\"HEMA\", \"LATHA\", \"REDDY\"]\n",
    "\n",
    "# accessing a element from the\n",
    "# list using index number\n",
    "print(\"Accessing a element from the list\")\n",
    "print(List[0])\n",
    "print(List[2])"
   ]
  },
  {
   "cell_type": "code",
   "execution_count": 17,
   "id": "ffb5e756-a7ca-437f-84b1-fa962ec0f8b5",
   "metadata": {},
   "outputs": [
    {
     "name": "stdout",
     "output_type": "stream",
     "text": [
      "Accessing a element from a Multi-Dimensional list\n",
      "LATHA\n",
      "REDDY\n"
     ]
    }
   ],
   "source": [
    "# Example 2: Accessing elements from a multi-dimensional list\n",
    "# Creating a Multi-Dimensional List\n",
    "# (By Nesting a list inside a List)\n",
    "List = [['HEMA', 'LATHA'], ['REDDY']]\n",
    "\n",
    "# accessing an element from the\n",
    "# Multi-Dimensional List using\n",
    "# index number\n",
    "print(\"Accessing a element from a Multi-Dimensional list\")\n",
    "print(List[0][1])\n",
    "print(List[1][0])"
   ]
  },
  {
   "cell_type": "code",
   "execution_count": 18,
   "id": "77efc860-e6f9-4f4a-8445-db0923660406",
   "metadata": {},
   "outputs": [
    {
     "name": "stdin",
     "output_type": "stream",
     "text": [
      "Enter elements (Space-Separated):  HEMA LATHA REDDY\n"
     ]
    },
    {
     "name": "stdout",
     "output_type": "stream",
     "text": [
      "The list is: ['HEMA', 'LATHA', 'REDDY']\n"
     ]
    }
   ],
   "source": [
    "# Taking Input of a Python List\n",
    "'''We can take the input of a list of elements as string, integer, float, etc. But the default one is a string.'''\n",
    "# input the list as string\n",
    "string = input(\"Enter elements (Space-Separated): \")\n",
    "\n",
    "# split the strings and store it to a list\n",
    "lst = string.split()  \n",
    "print('The list is:', lst)   # printing the list"
   ]
  },
  {
   "cell_type": "code",
   "execution_count": null,
   "id": "e61cab53-1fda-454a-99d2-d0b36789cec0",
   "metadata": {},
   "outputs": [],
   "source": [
    "# MODIFY ELEMENTS\n",
    "''' We want to modify the element at index 2, which is initially 30. By assigning a new value of 35 to `my_list[2]`, we update the element at that index. \n",
    "The output of the code will be `[10, 20, 35, 40, 50]`.'''"
   ]
  },
  {
   "cell_type": "code",
   "execution_count": 26,
   "id": "7f9b8b01-f384-4db5-bb64-ca353203bc9b",
   "metadata": {},
   "outputs": [
    {
     "name": "stdout",
     "output_type": "stream",
     "text": [
      "[10, 20, 30, 40, 55]\n"
     ]
    }
   ],
   "source": [
    "my_list = [10, 20, 30, 40, 50]\n",
    "my_list[-1] = 55\n",
    "print(my_list)"
   ]
  },
  {
   "cell_type": "code",
   "execution_count": 27,
   "id": "85e4cf0d-0afe-4bfd-8cc1-b9788141ccae",
   "metadata": {},
   "outputs": [
    {
     "name": "stdout",
     "output_type": "stream",
     "text": [
      "[10, 20, 35, 40, 50]\n"
     ]
    }
   ],
   "source": [
    "my_list = [10, 20, 30, 40, 50]\n",
    "my_list[2] = 35\n",
    "print(my_list)"
   ]
  },
  {
   "cell_type": "code",
   "execution_count": 26,
   "id": "07bce794-14b9-4268-80bd-62d3195d2786",
   "metadata": {},
   "outputs": [
    {
     "name": "stdout",
     "output_type": "stream",
     "text": [
      "Initial List: \n",
      "[1, 2, 3, 4, 5, 6, 7, 8, 9, 10, 11, 12]\n",
      "\n",
      "List after Removal of two elements: \n",
      "[1, 2, 3, 4, 7, 8, 9, 10, 11, 12]\n"
     ]
    }
   ],
   "source": [
    "# Removing Elements from the List\n",
    "'''Method 1: Using remove() method'''\n",
    "# Creating a List\n",
    "List = [1, 2, 3, 4, 5, 6,\n",
    "        7, 8, 9, 10, 11, 12]\n",
    "print(\"Initial List: \")\n",
    "print(List)\n",
    "\n",
    "# Removing elements from List\n",
    "# using Remove() method\n",
    "List.remove(5)\n",
    "List.remove(6)\n",
    "print(\"\\nList after Removal of two elements: \")\n",
    "print(List)"
   ]
  },
  {
   "cell_type": "code",
   "execution_count": 27,
   "id": "e151840a-4ff6-4a45-a7ac-43b1957cdc51",
   "metadata": {},
   "outputs": [
    {
     "name": "stdout",
     "output_type": "stream",
     "text": [
      "\n",
      "List after popping an element: \n",
      "[1, 2, 3, 4]\n",
      "\n",
      "List after popping a specific element: \n",
      "[1, 2, 4]\n"
     ]
    }
   ],
   "source": [
    "# Method 2: Using pop() method\n",
    "List = [1, 2, 3, 4, 5]\n",
    "\n",
    "# Removing element from the\n",
    "# Set using the pop() method\n",
    "List.pop()\n",
    "print(\"\\nList after popping an element: \")\n",
    "print(List)\n",
    "\n",
    "# Removing element at a\n",
    "# specific location from the\n",
    "# Set using the pop() method\n",
    "List.pop(2)\n",
    "print(\"\\nList after popping a specific element: \")\n",
    "print(List)"
   ]
  },
  {
   "cell_type": "code",
   "execution_count": 3,
   "id": "ed53b4ca-6448-4e86-8a72-71be8aeb9e48",
   "metadata": {},
   "outputs": [],
   "source": [
    "# Q4   Compare and contrast tuples and lists with examples"
   ]
  },
  {
   "cell_type": "code",
   "execution_count": 4,
   "id": "a7aaf43c-3a90-40d4-a3fd-a73e213d686e",
   "metadata": {},
   "outputs": [
    {
     "data": {
      "text/plain": [
       "'ANS--> Test whether tuples are immutable and lists are mutable\\nHere we are going to compare the list and tuple mutability testS'"
      ]
     },
     "execution_count": 4,
     "metadata": {},
     "output_type": "execute_result"
    }
   ],
   "source": [
    "'''ANS--> Test whether tuples are immutable and lists are mutable\n",
    "Here we are going to compare the list and tuple mutability testS'''"
   ]
  },
  {
   "cell_type": "code",
   "execution_count": 5,
   "id": "62f11e1c-a7a7-44e2-8cd3-7fa3bb83fb9a",
   "metadata": {},
   "outputs": [
    {
     "name": "stdout",
     "output_type": "stream",
     "text": [
      "Original list  [1, 2, 4, 4, 3, 3, 3, 6, 5]\n",
      "Example to show mutability  [1, 2, 4, 77, 3, 3, 3, 6, 5]\n"
     ]
    }
   ],
   "source": [
    "# Creating a List with\n",
    "# the use of Numbers\n",
    "# code to test that tuples are mutable\n",
    "List = [1, 2, 4, 4, 3, 3, 3, 6, 5]\n",
    "print(\"Original list \", List)\n",
    "\n",
    "List[3] = 77\n",
    "print(\"Example to show mutability \", List)"
   ]
  },
  {
   "cell_type": "code",
   "execution_count": 6,
   "id": "ab73a303-e68b-4740-b56a-ace5d31d3899",
   "metadata": {},
   "outputs": [
    {
     "ename": "TypeError",
     "evalue": "'tuple' object does not support item assignment",
     "output_type": "error",
     "traceback": [
      "\u001b[0;31m---------------------------------------------------------------------------\u001b[0m",
      "\u001b[0;31mTypeError\u001b[0m                                 Traceback (most recent call last)",
      "Cell \u001b[0;32mIn[6], line 4\u001b[0m\n\u001b[1;32m      1\u001b[0m \u001b[38;5;66;03m# code to test that tuples are immutable\u001b[39;00m\n\u001b[1;32m      3\u001b[0m tuple1 \u001b[38;5;241m=\u001b[39m (\u001b[38;5;241m0\u001b[39m, \u001b[38;5;241m1\u001b[39m, \u001b[38;5;241m2\u001b[39m, \u001b[38;5;241m3\u001b[39m)\n\u001b[0;32m----> 4\u001b[0m \u001b[43mtuple1\u001b[49m\u001b[43m[\u001b[49m\u001b[38;5;241;43m0\u001b[39;49m\u001b[43m]\u001b[49m \u001b[38;5;241m=\u001b[39m \u001b[38;5;241m4\u001b[39m\n\u001b[1;32m      5\u001b[0m \u001b[38;5;28mprint\u001b[39m(tuple1)\n",
      "\u001b[0;31mTypeError\u001b[0m: 'tuple' object does not support item assignment"
     ]
    }
   ],
   "source": [
    "# code to test that tuples are immutable\n",
    "\n",
    "tuple1 = (0, 1, 2, 3)\n",
    "tuple1[0] = 4\n",
    "print(tuple1)"
   ]
  },
  {
   "cell_type": "code",
   "execution_count": 5,
   "id": "dd4f97fb-4aa6-47f7-9dc9-6efc43381c2d",
   "metadata": {},
   "outputs": [
    {
     "data": {
      "text/plain": [
       "' Ans--> Sets are used to store multiple items in a single variable.\\n\\nSet is one of 4 built-in data types in Python used to store collections of data, the other 3 are List, Tuple, and Dictionary, all with different qualities and usage.\\n\\nA set is a collection which is unordered, unchangeable*, and unindexed.'"
      ]
     },
     "execution_count": 5,
     "metadata": {},
     "output_type": "execute_result"
    }
   ],
   "source": [
    "# Q5   Describe the key features of sets and provide examples of their use\n",
    "''' Ans--> Sets are used to store multiple items in a single variable.\n",
    "\n",
    "Set is one of 4 built-in data types in Python used to store collections of data, the other 3 are List, Tuple, and Dictionary, all with different qualities and usage.\n",
    "\n",
    "A set is a collection which is unordered, unchangeable*, and unindexed.'''"
   ]
  },
  {
   "cell_type": "code",
   "execution_count": 6,
   "id": "15b9f866-ec18-4498-b4c9-a01dfe740b8a",
   "metadata": {},
   "outputs": [
    {
     "name": "stdout",
     "output_type": "stream",
     "text": [
      "{'apple', 'banana', 'cherry'}\n"
     ]
    }
   ],
   "source": [
    "# Create a Set:\n",
    "thisset = {\"apple\", \"banana\", \"cherry\"}\n",
    "print(thisset)"
   ]
  },
  {
   "cell_type": "code",
   "execution_count": 7,
   "id": "24042b86-62ad-483f-9dc9-0ff5f4446245",
   "metadata": {},
   "outputs": [
    {
     "data": {
      "text/plain": [
       "'Set items are unordered, unchangeable, and do not allow duplicate values.\\n\\nUnordered\\nUnordered means that the items in a set do not have a defined order.\\n\\nSet items can appear in a different order every time you use them, and cannot be referred to by index or key.\\n\\nUnchangeable\\nSet items are unchangeable, meaning that we cannot change the items after the set has been created.'"
      ]
     },
     "execution_count": 7,
     "metadata": {},
     "output_type": "execute_result"
    }
   ],
   "source": [
    "# Set Items\n",
    "'''Set items are unordered, unchangeable, and do not allow duplicate values.\n",
    "\n",
    "Unordered\n",
    "Unordered means that the items in a set do not have a defined order.\n",
    "\n",
    "Set items can appear in a different order every time you use them, and cannot be referred to by index or key.\n",
    "\n",
    "Unchangeable\n",
    "Set items are unchangeable, meaning that we cannot change the items after the set has been created.'''"
   ]
  },
  {
   "cell_type": "code",
   "execution_count": 8,
   "id": "288b5f27-5304-44a0-bfd4-5ce27df38c01",
   "metadata": {},
   "outputs": [
    {
     "name": "stdout",
     "output_type": "stream",
     "text": [
      "{'apple', 'banana', 'cherry'}\n"
     ]
    }
   ],
   "source": [
    "# Duplicate values will be ignored:\n",
    "thisset = {\"apple\", \"banana\", \"cherry\", \"apple\"}\n",
    "\n",
    "print(thisset)"
   ]
  },
  {
   "cell_type": "code",
   "execution_count": 9,
   "id": "4b4c3f97-626d-496d-a0f8-cca3f270f28a",
   "metadata": {},
   "outputs": [
    {
     "name": "stdout",
     "output_type": "stream",
     "text": [
      "{True, 2, 'apple', 'banana', 'cherry'}\n"
     ]
    }
   ],
   "source": [
    "# True and 1 is considered the same value:\n",
    "thisset = {\"apple\", \"banana\", \"cherry\", True, 1, 2}\n",
    "\n",
    "print(thisset)\n"
   ]
  },
  {
   "cell_type": "code",
   "execution_count": 10,
   "id": "cceb6c41-22c8-4b92-81bb-bf07307b3329",
   "metadata": {},
   "outputs": [
    {
     "name": "stdout",
     "output_type": "stream",
     "text": [
      "{False, True, 'apple', 'banana', 'cherry'}\n"
     ]
    }
   ],
   "source": [
    "# False and 0 is considered the same value:\n",
    "thisset = {\"apple\", \"banana\", \"cherry\", False, True, 0}\n",
    "\n",
    "print(thisset)"
   ]
  },
  {
   "cell_type": "code",
   "execution_count": 11,
   "id": "80d5ee39-6417-49c3-a453-330cbbd68e0e",
   "metadata": {},
   "outputs": [
    {
     "name": "stdout",
     "output_type": "stream",
     "text": [
      "3\n"
     ]
    }
   ],
   "source": [
    "# Get the number of items in a set:\n",
    "thisset = {\"apple\", \"banana\", \"cherry\"}\n",
    "\n",
    "print(len(thisset))"
   ]
  },
  {
   "cell_type": "code",
   "execution_count": 13,
   "id": "b569090a-a39a-4f6d-8f74-c3bbf4cb8d7f",
   "metadata": {},
   "outputs": [
    {
     "name": "stdout",
     "output_type": "stream",
     "text": [
      "{'apple', 'banana', 'cherry'} {1, 3, 5, 7, 9} {False, True}\n"
     ]
    }
   ],
   "source": [
    "# String, int and boolean data types:\n",
    "set1 = {\"apple\", \"banana\", \"cherry\"}\n",
    "set2 = {1, 5, 7, 9, 3}\n",
    "set3 = {True, False, False}\n",
    "print (set1, set2, set3)\n"
   ]
  },
  {
   "cell_type": "code",
   "execution_count": 15,
   "id": "6b7caa55-fd74-4942-b8b2-7cded6af0e02",
   "metadata": {},
   "outputs": [
    {
     "name": "stdout",
     "output_type": "stream",
     "text": [
      "{True, 34, 'male', 40, 'abc'}\n"
     ]
    }
   ],
   "source": [
    "# A set with strings, integers and boolean values:\n",
    "set1 = {\"abc\", 34, True, 40, \"male\"}\n",
    "print (set1) "
   ]
  },
  {
   "cell_type": "code",
   "execution_count": 16,
   "id": "a18cd11c-5e97-4e68-a742-636f5f6be236",
   "metadata": {},
   "outputs": [
    {
     "name": "stdout",
     "output_type": "stream",
     "text": [
      "<class 'set'>\n"
     ]
    }
   ],
   "source": [
    "# What is the data type of a set?\n",
    "myset = {\"apple\", \"banana\", \"cherry\"}\n",
    "print(type(myset))"
   ]
  },
  {
   "cell_type": "code",
   "execution_count": 20,
   "id": "d7a5d5d8-af8d-47c0-b946-b33be49f29d1",
   "metadata": {},
   "outputs": [
    {
     "name": "stdout",
     "output_type": "stream",
     "text": [
      "{'HEMA', 'SINDHU', 'cherry'}\n"
     ]
    }
   ],
   "source": [
    "# Using the set() constructor to make a set:\n",
    "thisset = set((\"HEMA\", \"SINDHU\", \"cherry\")) # note the double round-brackets\n",
    "print(thisset)"
   ]
  },
  {
   "cell_type": "raw",
   "id": "d691ac9f-e4b3-46e5-baff-3d40f70e2e8f",
   "metadata": {},
   "source": [
    "# Q6  Discuss the use cases of tuples and sets in Python programming\n",
    "'''ANS--> Tuple: Tuple is a collection of Python objects much like a list. The sequence of values stored in a tuple can be of any type, and they are indexed by integers. Values of a tuple are syntactically separated by ‘commas’. Although it is not necessary, it is more common to define a tuple by closing the sequence of values in parentheses. The main characteristics of tuples are – \n",
    "\n",
    "Tuple is an immutable sequence in python.\n",
    "It cannot be changed or replaced since it is immutable.\n",
    "It is defined under parenthesis().\n",
    "Tuples can store any type of element.'''"
   ]
  },
  {
   "cell_type": "code",
   "execution_count": 22,
   "id": "2ad138d3-d048-4d76-b823-6945d9edcbcb",
   "metadata": {},
   "outputs": [
    {
     "name": "stdout",
     "output_type": "stream",
     "text": [
      "Initial empty Tuple: \n",
      "()\n",
      "\n",
      "Tuple using List: \n",
      "(1, 2, 4, 5, 6)\n",
      "\n",
      "Tuple with the use of function: \n",
      "('H', 'E', 'M', 'A', 'L', 'A', 'T', 'H', 'A')\n"
     ]
    }
   ],
   "source": [
    "# Creating an empty Tuple \n",
    "Tuple1 = () \n",
    "print(\"Initial empty Tuple: \") \n",
    "print (Tuple1) \n",
    "   \n",
    "# Creating a Tuple with \n",
    "# the use of list \n",
    "list1 = [1, 2, 4, 5, 6] \n",
    "print(\"\\nTuple using List: \") \n",
    "print(tuple(list1)) \n",
    "   \n",
    "#Creating a Tuple  \n",
    "#with the use of built-in function \n",
    "Tuple1 = tuple('HEMALATHA') \n",
    "print(\"\\nTuple with the use of function: \") \n",
    "print(Tuple1)"
   ]
  },
  {
   "cell_type": "raw",
   "id": "4fd957c3-fc6e-46a4-84bc-883b1bc1ae51",
   "metadata": {},
   "source": [
    "# Set: In Python, Set is an unordered collection of data type that is iterable, mutable, and has no duplicate elements. The major advantage of using a set, as opposed to a list, is that it has a highly optimized method for checking whether a specific element is contained in the set. The main characteristics of set are –\n",
    "\n",
    "'''Sets are an unordered collection of elements or unintended collection of items In python.\n",
    "Here the order in which the elements are added into the set is not fixed, it can change frequently.\n",
    "It is defined under curly braces{}\n",
    "Sets are mutable, however, only immutable objects can be stored in it.'''"
   ]
  },
  {
   "cell_type": "code",
   "execution_count": 25,
   "id": "0681b1e6-2fb4-4fcb-b094-cec2696cd444",
   "metadata": {},
   "outputs": [
    {
     "name": "stdout",
     "output_type": "stream",
     "text": [
      "Initial blank Set: \n",
      "set()\n",
      "\n",
      "Set with the use of an Object: \n",
      "{'B', 'A', 'U', 'H', 'S', 'I', 'D', 'E', 'N', 'M'}\n",
      "\n",
      "Set with the use of List: \n",
      "{'HEMA', 'SINDHU', 'BEENA'}\n"
     ]
    }
   ],
   "source": [
    "# Set in Python \n",
    "   \n",
    "# Creating a Set \n",
    "set1 = set() \n",
    "print(\"Initial blank Set: \") \n",
    "print(set1) \n",
    "   \n",
    "# Creating a Set with \n",
    "# the use of Constructor \n",
    "# (Using object to Store String) \n",
    "String = 'HEMASINDHUBEENA'\n",
    "set1 = set(String) \n",
    "print(\"\\nSet with the use of an Object: \" ) \n",
    "print(set1) \n",
    "   \n",
    "# Creating a Set with \n",
    "# the use of a List \n",
    "set1 = set([\"HEMA\", \"SINDHU\", \"BEENA\"]) \n",
    "print(\"\\nSet with the use of List: \") \n",
    "print(set1)"
   ]
  },
  {
   "cell_type": "raw",
   "id": "263c254d-36d5-425a-85f9-ae3ab96485ab",
   "metadata": {},
   "source": [
    "# Q7  Describe how to add, modify, and delete items in a dictionary with examples\n",
    "ANS--> The addition of elements can be done in multiple ways. One value at a time can be added to a Dictionary by defining value along with the key e.g. Dict[Key] = ‘Value’.\n",
    "\n",
    "Updating an existing value in a Dictionary can be done by using the built-in update() method. Nested key values can also be added to an existing Dictionary.\n",
    "\n",
    "Note- While adding a value, if the key-value already exists, the value gets updated otherwise a new Key with the value is added to the Dictionary.\n",
    "\n",
    "Example: Add Items to a Python Dictionary with Different DataTypes\n",
    "\n",
    "The code starts with an empty dictionary and then adds key-value pairs to it. It demonstrates adding elements with various data types, updating a key’s value, and even nesting dictionaries within the main dictionary. The code shows how to manipulate dictionaries in Python."
   ]
  },
  {
   "cell_type": "code",
   "execution_count": 27,
   "id": "51564293-e327-4af8-838a-2c905e6224d4",
   "metadata": {},
   "outputs": [
    {
     "name": "stdout",
     "output_type": "stream",
     "text": [
      "Empty Dictionary: \n",
      "{}\n",
      "\n",
      "Dictionary after adding 3 elements: \n",
      "{0: 'HEMA', 2: 'LATHA', 3: 1}\n",
      "\n",
      "Dictionary after adding 3 elements: \n",
      "{0: 'HEMA', 2: 'LATHA', 3: 1, 'Value_set': (2, 3, 4)}\n",
      "\n",
      "Updated key value: \n",
      "{0: 'HEMA', 2: 'Welcome', 3: 1, 'Value_set': (2, 3, 4)}\n",
      "\n",
      "Adding a Nested Key: \n",
      "{0: 'HEMA', 2: 'Welcome', 3: 1, 'Value_set': (2, 3, 4), 5: {'Nested': {'1': 'REDDY', '2': 'HEMA'}}}\n"
     ]
    }
   ],
   "source": [
    "Dict = {}\n",
    "print(\"Empty Dictionary: \")\n",
    "print(Dict)\n",
    "Dict[0] = 'HEMA'\n",
    "Dict[2] = 'LATHA'\n",
    "Dict[3] = 1\n",
    "print(\"\\nDictionary after adding 3 elements: \")\n",
    "print(Dict)\n",
    "\n",
    "Dict['Value_set'] = 2, 3, 4\n",
    "print(\"\\nDictionary after adding 3 elements: \")\n",
    "print(Dict)\n",
    "\n",
    "Dict[2] = 'Welcome'\n",
    "print(\"\\nUpdated key value: \")\n",
    "print(Dict)\n",
    "Dict[5] = {'Nested': {'1': 'REDDY', '2': 'HEMA'}}\n",
    "print(\"\\nAdding a Nested Key: \")\n",
    "print(Dict)"
   ]
  },
  {
   "cell_type": "raw",
   "id": "8c56da84-0cb2-44c2-99b3-e093acc642cc",
   "metadata": {},
   "source": [
    "* DELETE: The items of the dictionary can be deleted by using the del keyword as given below.\n",
    "\n",
    "Example: The code defines a dictionary, prints its original content, and then uses the ‘del’ statement to delete the element associated with key 1. After deletion, it prints the updated dictionary, showing that the specified element has been removed."
   ]
  },
  {
   "cell_type": "code",
   "execution_count": 28,
   "id": "50d6535d-fd6a-4530-afcf-fae1d7d0e8e1",
   "metadata": {},
   "outputs": [
    {
     "name": "stdout",
     "output_type": "stream",
     "text": [
      "Dictionary =\n",
      "{1: 'HEMA', 'name': 'LATHA', 3: 'REDDY'}\n",
      "Data after deletion Dictionary=\n",
      "{'name': 'LATHA', 3: 'REDDY'}\n"
     ]
    }
   ],
   "source": [
    "Dict = {1: 'HEMA', 'name': 'LATHA', 3: 'REDDY'}\n",
    "\n",
    "print(\"Dictionary =\")\n",
    "print(Dict)\n",
    "del(Dict[1]) \n",
    "print(\"Data after deletion Dictionary=\")\n",
    "print(Dict)"
   ]
  },
  {
   "cell_type": "raw",
   "id": "3017f747-616a-4a55-883a-3c29fcd45d86",
   "metadata": {},
   "source": [
    "# Q8. Discuss the importance of dictionary keys being immutable and provide examples\n",
    "The hash table implementation of dictionaries uses a hash value calculated from the key value to find the key. If let’s say the key was a mutable object, its value could change, and thus its hash could also change.\n",
    "\n",
    "As stated above, since whoever changes the key object can’t tell that it was being used as a dictionary key, it can’t move the entry around in the dictionary. Then,\n",
    "\n",
    "When you try to look up the same object in the dictionary it won’t be found because its hash value is different.\n",
    "\n",
    "If you tried to look up the old value it wouldn’t be found either, because the value of the object found in that hash bin would be different.\n",
    "\n",
    "If you want a dictionary indexed with a list, follow these steps −\n",
    "\n",
    "Convert the list to a tuple first\n",
    "The function tuple(myList) creates a tuple with the same entries as the list myList.\n",
    "Tuples are immutable and can therefore be used as dictionary keys."
   ]
  },
  {
   "cell_type": "code",
   "execution_count": 33,
   "id": "b80ba33a-5ea9-4d46-999b-24e6d92849b1",
   "metadata": {},
   "outputs": [
    {
     "name": "stdout",
     "output_type": "stream",
     "text": [
      "List =  ['HEMA', 'SIRISHA', 'MADHU', 'AKSHITHA']\n",
      "Tuple =  ('HEMA', 'SIRISHA', 'MADHU', 'AKSHITHA')\n"
     ]
    }
   ],
   "source": [
    "# To convert List to Tuple, use the tuple()\n",
    "# Creating a List\n",
    "mylist = [\"HEMA\", \"SIRISHA\", \"MADHU\", \"AKSHITHA\"]\n",
    "\n",
    "# Displaying the List\n",
    "print(\"List = \",mylist)\n",
    "\n",
    "# Convert List to Tuple\n",
    "res = tuple(mylist)\n",
    "print(\"Tuple = \",res)"
   ]
  },
  {
   "cell_type": "code",
   "execution_count": 35,
   "id": "54228e01-718a-4669-beb5-c8e226c849ef",
   "metadata": {},
   "outputs": [
    {
     "name": "stdout",
     "output_type": "stream",
     "text": [
      "List =  ['HEMA', 'SIRISHA', 'MADHU', 'AKSHITHA']\n",
      "Tuple =  ('HEMA', 'SIRISHA', 'MADHU', 'AKSHITHA')\n",
      "Dictionary = \n",
      "{2: 'num', 'HEMA': 'string'}\n",
      "\n",
      "Updated Dictionary (Tuple as Key)...\n",
      "{2: ('HEMA', 'SIRISHA', 'MADHU', 'AKSHITHA'), 'HEMA': 'string'}\n"
     ]
    }
   ],
   "source": [
    "# we will see an example where first we convert list to tuple, then tuple is set as keys\n",
    "# Creating a List\n",
    "mylist = [\"HEMA\", \"SIRISHA\", \"MADHU\", \"AKSHITHA\"]\n",
    "\n",
    "# Displaying the List\n",
    "print(\"List = \",mylist)\n",
    "\n",
    "# Convert List to Tuple\n",
    "res = tuple(mylist)\n",
    "print(\"Tuple = \",res)\n",
    "dct = {2:\"num\",\"HEMA\":\"string\"}\n",
    "print(\"Dictionary = \")\n",
    "print(dct)\n",
    "\n",
    "# Overwrite existing value with a tuple\n",
    "dct[2]=res\n",
    "print(\"\\nUpdated Dictionary (Tuple as Key)...\")\n",
    "print(dct)"
   ]
  },
  {
   "cell_type": "code",
   "execution_count": null,
   "id": "da98cce9-b287-4072-936a-fc93db5b4f15",
   "metadata": {},
   "outputs": [],
   "source": []
  }
 ],
 "metadata": {
  "kernelspec": {
   "display_name": "Python 3 (ipykernel)",
   "language": "python",
   "name": "python3"
  },
  "language_info": {
   "codemirror_mode": {
    "name": "ipython",
    "version": 3
   },
   "file_extension": ".py",
   "mimetype": "text/x-python",
   "name": "python",
   "nbconvert_exporter": "python",
   "pygments_lexer": "ipython3",
   "version": "3.10.8"
  }
 },
 "nbformat": 4,
 "nbformat_minor": 5
}
